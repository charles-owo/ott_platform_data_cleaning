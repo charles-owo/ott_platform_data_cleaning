{
 "cells": [
  {
   "cell_type": "markdown",
   "source": [
    "# Importing Libraries"
   ],
   "metadata": {
    "collapsed": false
   }
  },
  {
   "cell_type": "code",
   "execution_count": 1,
   "metadata": {
    "collapsed": true,
    "ExecuteTime": {
     "end_time": "2023-07-22T01:41:46.034398100Z",
     "start_time": "2023-07-22T01:41:46.021983Z"
    }
   },
   "outputs": [],
   "source": [
    "import numpy as np\n",
    "import pandas as pd\n",
    "import matplotlib.pyplot as plt\n",
    "import seaborn as sns"
   ]
  },
  {
   "cell_type": "markdown",
   "source": [
    "# Agenda - Analyze the data and generate insights that could help Netflix ijn deciding which type of shows/movies to produce and how they can grow the business in different countries"
   ],
   "metadata": {
    "collapsed": false
   }
  },
  {
   "cell_type": "code",
   "execution_count": 2,
   "outputs": [],
   "source": [
    "df = pd.read_csv(\"G:\\My Drive\\Portfolio Projects\\Ott Platform Cleaning\\Dataset\\ott_platform.csv\")"
   ],
   "metadata": {
    "collapsed": false,
    "ExecuteTime": {
     "end_time": "2023-07-22T01:41:46.126817200Z",
     "start_time": "2023-07-22T01:41:46.037338500Z"
    }
   }
  },
  {
   "cell_type": "code",
   "execution_count": 3,
   "outputs": [
    {
     "data": {
      "text/plain": "     show_id     type                                              title  \\\n8435   s8436    Movie                                        The Natural   \n4111   s4112  TV Show                              The Kirlian Frequency   \n6854   s6855    Movie                                      Ginger & Rosa   \n6011   s6012    Movie                                  30 Days of Luxury   \n4323   s4324    Movie                   Super Monsters and the Wish Star   \n2975   s2976    Movie                                     Miss Americana   \n6661   s6662    Movie                                    East Side Sushi   \n4582   s4583    Movie                       Luv Shuv Tey Chicken Khurana   \n3397   s3398    Movie     ChuChuTV Surprise Eggs Learning Videos (Hindi)   \n8120   s8121    Movie                                            Sunrise   \n1409   s1410    Movie                                       The Vanished   \n54       s55    Movie  InuYasha the Movie: Affections Touching Across...   \n6347   s6348  TV Show                     Bob Ross: Beauty Is Everywhere   \n1377   s1378  TV Show                                          Outlander   \n4497   s4498    Movie                            Oddbods: Party Monsters   \n3868   s3869    Movie                                              Laatu   \n463     s464    Movie                             A Classic Horror Story   \n8582   s8583    Movie                                Thorne: Scaredy Cat   \n8528   s8529    Movie                         The Thief and the Imbecile   \n6066   s6067  TV Show        A Young Doctor's Notebook and Other Stories   \n\n                                 director  \\\n8435                       Barry Levinson   \n4111                                  NaN   \n6854                         Sally Potter   \n6011                           Hani Hamdi   \n4323                          Jacob Joice   \n2975                          Lana Wilson   \n6661                       Anthony Lucero   \n4582                        Sameer Sharma   \n3397                                  NaN   \n8120                     Partho Sen-Gupta   \n1409                      Peter Facinelli   \n54                      Toshiya Shinohara   \n6347                                  NaN   \n1377                                  NaN   \n4497                                  NaN   \n3868                           Manav Shah   \n463       Roberto De Feo, Paolo Strippoli   \n8582                        Benjamin Ross   \n8528  Mohammed El-Tahawy, Mohamed Mostafa   \n6066                                  NaN   \n\n                                                   cast  \\\n8435  Robert Redford, Robert Duvall, Glenn Close, Ki...   \n4111  Nicolás Van de Moortele, Letizia Denise Bloisi...   \n6854  Elle Fanning, Alessandro Nivola, Christina Hen...   \n6011  Taher Farouz, Sad Al-Saghir, Ahmad Faloks, Sol...   \n4323  Elyse Maloway, Vincent Tong, Erin Mathews, And...   \n2975                                       Taylor Swift   \n6661  Diana Elizabeth Torres, Yutaka Takeuchi, Rodri...   \n4582  Kunal Kapoor, Huma Qureshi, Rajesh Sharma, Vip...   \n3397                                                NaN   \n8120  Adil Hussain, Tannishtha Chatterjee, Gulnaaz A...   \n1409  Thomas Jane, Anne Heche, Jason Patric, John D....   \n54    Kappei Yamaguchi, Satsuki Yukino, Koji Tsujita...   \n6347                                           Bob Ross   \n1377  Caitriona Balfe, Sam Heughan, Tobias Menzies, ...   \n4497  Nadia Ramlee, Chio Su-Ping, Jeremy Linn, Marlo...   \n3868  Gagan Kokri, Aditi Sharma, Karamjit Anmol, Sar...   \n463   Matilda Lutz, Francesco Russo, Peppino Mazzott...   \n8582  David Morrissey, Eddie Marsan, Aidan Gillen, O...   \n8528                 Khaled El Sawy, Khaled Saleh, Ruby   \n6066  Daniel Radcliffe, Jon Hamm, Adam Godley, Chris...   \n\n                                       country          date_added  \\\n8435                             United States     January 1, 2020   \n4111                                 Argentina   February 15, 2019   \n6854  United Kingdom, Denmark, Canada, Croatia       July 15, 2018   \n6011                                     Egypt      April 18, 2019   \n4323                                       NaN    December 7, 2018   \n2975                             United States    January 31, 2020   \n6661                             United States  September 15, 2020   \n4582                                     India     October 1, 2018   \n3397                                       NaN    October 18, 2019   \n8120                             India, France      March 15, 2017   \n1409                             United States    January 15, 2021   \n54                                       Japan  September 15, 2021   \n6347                                       NaN        June 1, 2016   \n1377                             United States    January 27, 2021   \n4497                                       NaN    October 19, 2018   \n3868                                     India         May 2, 2019   \n463                                      Italy       July 14, 2021   \n8582                            United Kingdom    November 2, 2016   \n8528                                     Egypt        June 6, 2019   \n6066                            United Kingdom                 NaN   \n\n      release_year rating   duration  \\\n8435          1984     PG    138 min   \n4111          2017  TV-14   1 Season   \n6854          2012  PG-13     90 min   \n6011          2016  TV-14     91 min   \n4323          2018   TV-Y     28 min   \n2975          2020  TV-MA     85 min   \n6661          2015     PG    106 min   \n4582          2012  TV-14    129 min   \n3397          2019   TV-Y     34 min   \n8120          2014  TV-MA     85 min   \n1409          2020      R    115 min   \n54            2001  TV-PG    100 min   \n6347          1991   TV-G   1 Season   \n1377          2018  TV-MA  4 Seasons   \n4497          2018   TV-Y     23 min   \n3868          2018  TV-PG    116 min   \n463           2021  TV-MA     95 min   \n8582          2010     NR    125 min   \n8528          2013  TV-14     96 min   \n6066          2013  TV-MA  2 Seasons   \n\n                                              listed_in  \\\n8435              Classic Movies, Dramas, Sports Movies   \n4111  International TV Shows, Spanish-Language TV Sh...   \n6854                         Dramas, Independent Movies   \n6011                     Comedies, International Movies   \n4323                           Children & Family Movies   \n2975                    Documentaries, Music & Musicals   \n6661                                             Dramas   \n4582    Comedies, International Movies, Romantic Movies   \n3397                           Children & Family Movies   \n8120   Dramas, Independent Movies, International Movies   \n1409                                          Thrillers   \n54    Action & Adventure, Anime Features, Internatio...   \n6347                                           TV Shows   \n1377  Romantic TV Shows, TV Action & Adventure, TV D...   \n4497                                             Movies   \n3868             Comedies, Dramas, International Movies   \n463                 Horror Movies, International Movies   \n8582                       Dramas, International Movies   \n8528                       Dramas, International Movies   \n6066           British TV Shows, TV Comedies, TV Dramas   \n\n                                            description  \n8435  A gifted baseball player whose life has taken ...  \n4111  In the midnight hour, a lone DJ broadcasts the...  \n6854  With the Cold War looming over them, teen best...  \n6011  With the help of his friends, a man breaks out...  \n4323  Christmas wishes come true for Lobo, whose fav...  \n2975  In this revealing documentary, Taylor Swift em...  \n6661  She’s not the usual candidate for the role, bu...  \n4582  Fleeing London to evade a gangland debt collec...  \n3397  Magic elephant Mr. Harlo uses playtime to help...  \n8120  While investigating a child kidnapping, a Mumb...  \n1409  When their daughter disappears during a family...  \n54    A powerful demon has been sealed away for 200 ...  \n6347  \"The Joy of Painting\" host Bob Ross brings his...  \n1377  This epic tale adapted from Diana Gabaldon's p...  \n4497  Dressed up as detective Sherlock Holmes, Slick...  \n3868  A man who hopes to bring light to his village ...  \n463   In this gruesome suspense film, strangers trav...  \n8582  Heading a new team whose aim is to crack the c...  \n8528  A street beggar befriends a man who lost his e...  \n6066  Set during the Russian Revolution, this comic ...  ",
      "text/html": "<div>\n<style scoped>\n    .dataframe tbody tr th:only-of-type {\n        vertical-align: middle;\n    }\n\n    .dataframe tbody tr th {\n        vertical-align: top;\n    }\n\n    .dataframe thead th {\n        text-align: right;\n    }\n</style>\n<table border=\"1\" class=\"dataframe\">\n  <thead>\n    <tr style=\"text-align: right;\">\n      <th></th>\n      <th>show_id</th>\n      <th>type</th>\n      <th>title</th>\n      <th>director</th>\n      <th>cast</th>\n      <th>country</th>\n      <th>date_added</th>\n      <th>release_year</th>\n      <th>rating</th>\n      <th>duration</th>\n      <th>listed_in</th>\n      <th>description</th>\n    </tr>\n  </thead>\n  <tbody>\n    <tr>\n      <th>8435</th>\n      <td>s8436</td>\n      <td>Movie</td>\n      <td>The Natural</td>\n      <td>Barry Levinson</td>\n      <td>Robert Redford, Robert Duvall, Glenn Close, Ki...</td>\n      <td>United States</td>\n      <td>January 1, 2020</td>\n      <td>1984</td>\n      <td>PG</td>\n      <td>138 min</td>\n      <td>Classic Movies, Dramas, Sports Movies</td>\n      <td>A gifted baseball player whose life has taken ...</td>\n    </tr>\n    <tr>\n      <th>4111</th>\n      <td>s4112</td>\n      <td>TV Show</td>\n      <td>The Kirlian Frequency</td>\n      <td>NaN</td>\n      <td>Nicolás Van de Moortele, Letizia Denise Bloisi...</td>\n      <td>Argentina</td>\n      <td>February 15, 2019</td>\n      <td>2017</td>\n      <td>TV-14</td>\n      <td>1 Season</td>\n      <td>International TV Shows, Spanish-Language TV Sh...</td>\n      <td>In the midnight hour, a lone DJ broadcasts the...</td>\n    </tr>\n    <tr>\n      <th>6854</th>\n      <td>s6855</td>\n      <td>Movie</td>\n      <td>Ginger &amp; Rosa</td>\n      <td>Sally Potter</td>\n      <td>Elle Fanning, Alessandro Nivola, Christina Hen...</td>\n      <td>United Kingdom, Denmark, Canada, Croatia</td>\n      <td>July 15, 2018</td>\n      <td>2012</td>\n      <td>PG-13</td>\n      <td>90 min</td>\n      <td>Dramas, Independent Movies</td>\n      <td>With the Cold War looming over them, teen best...</td>\n    </tr>\n    <tr>\n      <th>6011</th>\n      <td>s6012</td>\n      <td>Movie</td>\n      <td>30 Days of Luxury</td>\n      <td>Hani Hamdi</td>\n      <td>Taher Farouz, Sad Al-Saghir, Ahmad Faloks, Sol...</td>\n      <td>Egypt</td>\n      <td>April 18, 2019</td>\n      <td>2016</td>\n      <td>TV-14</td>\n      <td>91 min</td>\n      <td>Comedies, International Movies</td>\n      <td>With the help of his friends, a man breaks out...</td>\n    </tr>\n    <tr>\n      <th>4323</th>\n      <td>s4324</td>\n      <td>Movie</td>\n      <td>Super Monsters and the Wish Star</td>\n      <td>Jacob Joice</td>\n      <td>Elyse Maloway, Vincent Tong, Erin Mathews, And...</td>\n      <td>NaN</td>\n      <td>December 7, 2018</td>\n      <td>2018</td>\n      <td>TV-Y</td>\n      <td>28 min</td>\n      <td>Children &amp; Family Movies</td>\n      <td>Christmas wishes come true for Lobo, whose fav...</td>\n    </tr>\n    <tr>\n      <th>2975</th>\n      <td>s2976</td>\n      <td>Movie</td>\n      <td>Miss Americana</td>\n      <td>Lana Wilson</td>\n      <td>Taylor Swift</td>\n      <td>United States</td>\n      <td>January 31, 2020</td>\n      <td>2020</td>\n      <td>TV-MA</td>\n      <td>85 min</td>\n      <td>Documentaries, Music &amp; Musicals</td>\n      <td>In this revealing documentary, Taylor Swift em...</td>\n    </tr>\n    <tr>\n      <th>6661</th>\n      <td>s6662</td>\n      <td>Movie</td>\n      <td>East Side Sushi</td>\n      <td>Anthony Lucero</td>\n      <td>Diana Elizabeth Torres, Yutaka Takeuchi, Rodri...</td>\n      <td>United States</td>\n      <td>September 15, 2020</td>\n      <td>2015</td>\n      <td>PG</td>\n      <td>106 min</td>\n      <td>Dramas</td>\n      <td>She’s not the usual candidate for the role, bu...</td>\n    </tr>\n    <tr>\n      <th>4582</th>\n      <td>s4583</td>\n      <td>Movie</td>\n      <td>Luv Shuv Tey Chicken Khurana</td>\n      <td>Sameer Sharma</td>\n      <td>Kunal Kapoor, Huma Qureshi, Rajesh Sharma, Vip...</td>\n      <td>India</td>\n      <td>October 1, 2018</td>\n      <td>2012</td>\n      <td>TV-14</td>\n      <td>129 min</td>\n      <td>Comedies, International Movies, Romantic Movies</td>\n      <td>Fleeing London to evade a gangland debt collec...</td>\n    </tr>\n    <tr>\n      <th>3397</th>\n      <td>s3398</td>\n      <td>Movie</td>\n      <td>ChuChuTV Surprise Eggs Learning Videos (Hindi)</td>\n      <td>NaN</td>\n      <td>NaN</td>\n      <td>NaN</td>\n      <td>October 18, 2019</td>\n      <td>2019</td>\n      <td>TV-Y</td>\n      <td>34 min</td>\n      <td>Children &amp; Family Movies</td>\n      <td>Magic elephant Mr. Harlo uses playtime to help...</td>\n    </tr>\n    <tr>\n      <th>8120</th>\n      <td>s8121</td>\n      <td>Movie</td>\n      <td>Sunrise</td>\n      <td>Partho Sen-Gupta</td>\n      <td>Adil Hussain, Tannishtha Chatterjee, Gulnaaz A...</td>\n      <td>India, France</td>\n      <td>March 15, 2017</td>\n      <td>2014</td>\n      <td>TV-MA</td>\n      <td>85 min</td>\n      <td>Dramas, Independent Movies, International Movies</td>\n      <td>While investigating a child kidnapping, a Mumb...</td>\n    </tr>\n    <tr>\n      <th>1409</th>\n      <td>s1410</td>\n      <td>Movie</td>\n      <td>The Vanished</td>\n      <td>Peter Facinelli</td>\n      <td>Thomas Jane, Anne Heche, Jason Patric, John D....</td>\n      <td>United States</td>\n      <td>January 15, 2021</td>\n      <td>2020</td>\n      <td>R</td>\n      <td>115 min</td>\n      <td>Thrillers</td>\n      <td>When their daughter disappears during a family...</td>\n    </tr>\n    <tr>\n      <th>54</th>\n      <td>s55</td>\n      <td>Movie</td>\n      <td>InuYasha the Movie: Affections Touching Across...</td>\n      <td>Toshiya Shinohara</td>\n      <td>Kappei Yamaguchi, Satsuki Yukino, Koji Tsujita...</td>\n      <td>Japan</td>\n      <td>September 15, 2021</td>\n      <td>2001</td>\n      <td>TV-PG</td>\n      <td>100 min</td>\n      <td>Action &amp; Adventure, Anime Features, Internatio...</td>\n      <td>A powerful demon has been sealed away for 200 ...</td>\n    </tr>\n    <tr>\n      <th>6347</th>\n      <td>s6348</td>\n      <td>TV Show</td>\n      <td>Bob Ross: Beauty Is Everywhere</td>\n      <td>NaN</td>\n      <td>Bob Ross</td>\n      <td>NaN</td>\n      <td>June 1, 2016</td>\n      <td>1991</td>\n      <td>TV-G</td>\n      <td>1 Season</td>\n      <td>TV Shows</td>\n      <td>\"The Joy of Painting\" host Bob Ross brings his...</td>\n    </tr>\n    <tr>\n      <th>1377</th>\n      <td>s1378</td>\n      <td>TV Show</td>\n      <td>Outlander</td>\n      <td>NaN</td>\n      <td>Caitriona Balfe, Sam Heughan, Tobias Menzies, ...</td>\n      <td>United States</td>\n      <td>January 27, 2021</td>\n      <td>2018</td>\n      <td>TV-MA</td>\n      <td>4 Seasons</td>\n      <td>Romantic TV Shows, TV Action &amp; Adventure, TV D...</td>\n      <td>This epic tale adapted from Diana Gabaldon's p...</td>\n    </tr>\n    <tr>\n      <th>4497</th>\n      <td>s4498</td>\n      <td>Movie</td>\n      <td>Oddbods: Party Monsters</td>\n      <td>NaN</td>\n      <td>Nadia Ramlee, Chio Su-Ping, Jeremy Linn, Marlo...</td>\n      <td>NaN</td>\n      <td>October 19, 2018</td>\n      <td>2018</td>\n      <td>TV-Y</td>\n      <td>23 min</td>\n      <td>Movies</td>\n      <td>Dressed up as detective Sherlock Holmes, Slick...</td>\n    </tr>\n    <tr>\n      <th>3868</th>\n      <td>s3869</td>\n      <td>Movie</td>\n      <td>Laatu</td>\n      <td>Manav Shah</td>\n      <td>Gagan Kokri, Aditi Sharma, Karamjit Anmol, Sar...</td>\n      <td>India</td>\n      <td>May 2, 2019</td>\n      <td>2018</td>\n      <td>TV-PG</td>\n      <td>116 min</td>\n      <td>Comedies, Dramas, International Movies</td>\n      <td>A man who hopes to bring light to his village ...</td>\n    </tr>\n    <tr>\n      <th>463</th>\n      <td>s464</td>\n      <td>Movie</td>\n      <td>A Classic Horror Story</td>\n      <td>Roberto De Feo, Paolo Strippoli</td>\n      <td>Matilda Lutz, Francesco Russo, Peppino Mazzott...</td>\n      <td>Italy</td>\n      <td>July 14, 2021</td>\n      <td>2021</td>\n      <td>TV-MA</td>\n      <td>95 min</td>\n      <td>Horror Movies, International Movies</td>\n      <td>In this gruesome suspense film, strangers trav...</td>\n    </tr>\n    <tr>\n      <th>8582</th>\n      <td>s8583</td>\n      <td>Movie</td>\n      <td>Thorne: Scaredy Cat</td>\n      <td>Benjamin Ross</td>\n      <td>David Morrissey, Eddie Marsan, Aidan Gillen, O...</td>\n      <td>United Kingdom</td>\n      <td>November 2, 2016</td>\n      <td>2010</td>\n      <td>NR</td>\n      <td>125 min</td>\n      <td>Dramas, International Movies</td>\n      <td>Heading a new team whose aim is to crack the c...</td>\n    </tr>\n    <tr>\n      <th>8528</th>\n      <td>s8529</td>\n      <td>Movie</td>\n      <td>The Thief and the Imbecile</td>\n      <td>Mohammed El-Tahawy, Mohamed Mostafa</td>\n      <td>Khaled El Sawy, Khaled Saleh, Ruby</td>\n      <td>Egypt</td>\n      <td>June 6, 2019</td>\n      <td>2013</td>\n      <td>TV-14</td>\n      <td>96 min</td>\n      <td>Dramas, International Movies</td>\n      <td>A street beggar befriends a man who lost his e...</td>\n    </tr>\n    <tr>\n      <th>6066</th>\n      <td>s6067</td>\n      <td>TV Show</td>\n      <td>A Young Doctor's Notebook and Other Stories</td>\n      <td>NaN</td>\n      <td>Daniel Radcliffe, Jon Hamm, Adam Godley, Chris...</td>\n      <td>United Kingdom</td>\n      <td>NaN</td>\n      <td>2013</td>\n      <td>TV-MA</td>\n      <td>2 Seasons</td>\n      <td>British TV Shows, TV Comedies, TV Dramas</td>\n      <td>Set during the Russian Revolution, this comic ...</td>\n    </tr>\n  </tbody>\n</table>\n</div>"
     },
     "execution_count": 3,
     "metadata": {},
     "output_type": "execute_result"
    }
   ],
   "source": [
    "df.sample(20)"
   ],
   "metadata": {
    "collapsed": false,
    "ExecuteTime": {
     "end_time": "2023-07-22T01:41:46.186991400Z",
     "start_time": "2023-07-22T01:41:46.127817500Z"
    }
   }
  },
  {
   "cell_type": "markdown",
   "source": [
    "# Cleaning The Data\n",
    "- Upon Checking the sample, we can see how these files are nested like Director, Cast,Country\n",
    "- We don't really need description column\n",
    "- Release_year column is an object type, need to change it to datetime"
   ],
   "metadata": {
    "collapsed": false
   }
  },
  {
   "cell_type": "code",
   "execution_count": 4,
   "outputs": [],
   "source": [
    "#Dropping Description Column\n",
    "df.drop(\"description\",axis=1,inplace=True)"
   ],
   "metadata": {
    "collapsed": false,
    "ExecuteTime": {
     "end_time": "2023-07-22T01:41:47.744871500Z",
     "start_time": "2023-07-22T01:41:47.718047200Z"
    }
   }
  },
  {
   "cell_type": "code",
   "execution_count": 5,
   "outputs": [
    {
     "name": "stdout",
     "output_type": "stream",
     "text": [
      "<class 'pandas.core.frame.DataFrame'>\n",
      "RangeIndex: 8807 entries, 0 to 8806\n",
      "Data columns (total 11 columns):\n",
      " #   Column        Non-Null Count  Dtype \n",
      "---  ------        --------------  ----- \n",
      " 0   show_id       8807 non-null   object\n",
      " 1   type          8807 non-null   object\n",
      " 2   title         8807 non-null   object\n",
      " 3   director      6173 non-null   object\n",
      " 4   cast          7982 non-null   object\n",
      " 5   country       7976 non-null   object\n",
      " 6   date_added    8797 non-null   object\n",
      " 7   release_year  8807 non-null   int64 \n",
      " 8   rating        8803 non-null   object\n",
      " 9   duration      8804 non-null   object\n",
      " 10  listed_in     8807 non-null   object\n",
      "dtypes: int64(1), object(10)\n",
      "memory usage: 757.0+ KB\n"
     ]
    }
   ],
   "source": [
    "df.info()"
   ],
   "metadata": {
    "collapsed": false,
    "ExecuteTime": {
     "end_time": "2023-07-22T01:41:49.874955700Z",
     "start_time": "2023-07-22T01:41:49.856194100Z"
    }
   }
  },
  {
   "cell_type": "code",
   "execution_count": 6,
   "outputs": [
    {
     "data": {
      "text/plain": "       show_id   type                 title       director  \\\ncount     8807   8807                  8807           6173   \nunique    8807      2                  8807           4528   \ntop         s1  Movie  Dick Johnson Is Dead  Rajiv Chilaka   \nfreq         1   6131                     1             19   \nmean       NaN    NaN                   NaN            NaN   \nstd        NaN    NaN                   NaN            NaN   \nmin        NaN    NaN                   NaN            NaN   \n25%        NaN    NaN                   NaN            NaN   \n50%        NaN    NaN                   NaN            NaN   \n75%        NaN    NaN                   NaN            NaN   \nmax        NaN    NaN                   NaN            NaN   \n\n                      cast        country       date_added  release_year  \\\ncount                 7982           7976             8797   8807.000000   \nunique                7692            748             1767           NaN   \ntop     David Attenborough  United States  January 1, 2020           NaN   \nfreq                    19           2818              109           NaN   \nmean                   NaN            NaN              NaN   2014.180198   \nstd                    NaN            NaN              NaN      8.819312   \nmin                    NaN            NaN              NaN   1925.000000   \n25%                    NaN            NaN              NaN   2013.000000   \n50%                    NaN            NaN              NaN   2017.000000   \n75%                    NaN            NaN              NaN   2019.000000   \nmax                    NaN            NaN              NaN   2021.000000   \n\n       rating  duration                     listed_in  \ncount    8803      8804                          8807  \nunique     17       220                           514  \ntop     TV-MA  1 Season  Dramas, International Movies  \nfreq     3207      1793                           362  \nmean      NaN       NaN                           NaN  \nstd       NaN       NaN                           NaN  \nmin       NaN       NaN                           NaN  \n25%       NaN       NaN                           NaN  \n50%       NaN       NaN                           NaN  \n75%       NaN       NaN                           NaN  \nmax       NaN       NaN                           NaN  ",
      "text/html": "<div>\n<style scoped>\n    .dataframe tbody tr th:only-of-type {\n        vertical-align: middle;\n    }\n\n    .dataframe tbody tr th {\n        vertical-align: top;\n    }\n\n    .dataframe thead th {\n        text-align: right;\n    }\n</style>\n<table border=\"1\" class=\"dataframe\">\n  <thead>\n    <tr style=\"text-align: right;\">\n      <th></th>\n      <th>show_id</th>\n      <th>type</th>\n      <th>title</th>\n      <th>director</th>\n      <th>cast</th>\n      <th>country</th>\n      <th>date_added</th>\n      <th>release_year</th>\n      <th>rating</th>\n      <th>duration</th>\n      <th>listed_in</th>\n    </tr>\n  </thead>\n  <tbody>\n    <tr>\n      <th>count</th>\n      <td>8807</td>\n      <td>8807</td>\n      <td>8807</td>\n      <td>6173</td>\n      <td>7982</td>\n      <td>7976</td>\n      <td>8797</td>\n      <td>8807.000000</td>\n      <td>8803</td>\n      <td>8804</td>\n      <td>8807</td>\n    </tr>\n    <tr>\n      <th>unique</th>\n      <td>8807</td>\n      <td>2</td>\n      <td>8807</td>\n      <td>4528</td>\n      <td>7692</td>\n      <td>748</td>\n      <td>1767</td>\n      <td>NaN</td>\n      <td>17</td>\n      <td>220</td>\n      <td>514</td>\n    </tr>\n    <tr>\n      <th>top</th>\n      <td>s1</td>\n      <td>Movie</td>\n      <td>Dick Johnson Is Dead</td>\n      <td>Rajiv Chilaka</td>\n      <td>David Attenborough</td>\n      <td>United States</td>\n      <td>January 1, 2020</td>\n      <td>NaN</td>\n      <td>TV-MA</td>\n      <td>1 Season</td>\n      <td>Dramas, International Movies</td>\n    </tr>\n    <tr>\n      <th>freq</th>\n      <td>1</td>\n      <td>6131</td>\n      <td>1</td>\n      <td>19</td>\n      <td>19</td>\n      <td>2818</td>\n      <td>109</td>\n      <td>NaN</td>\n      <td>3207</td>\n      <td>1793</td>\n      <td>362</td>\n    </tr>\n    <tr>\n      <th>mean</th>\n      <td>NaN</td>\n      <td>NaN</td>\n      <td>NaN</td>\n      <td>NaN</td>\n      <td>NaN</td>\n      <td>NaN</td>\n      <td>NaN</td>\n      <td>2014.180198</td>\n      <td>NaN</td>\n      <td>NaN</td>\n      <td>NaN</td>\n    </tr>\n    <tr>\n      <th>std</th>\n      <td>NaN</td>\n      <td>NaN</td>\n      <td>NaN</td>\n      <td>NaN</td>\n      <td>NaN</td>\n      <td>NaN</td>\n      <td>NaN</td>\n      <td>8.819312</td>\n      <td>NaN</td>\n      <td>NaN</td>\n      <td>NaN</td>\n    </tr>\n    <tr>\n      <th>min</th>\n      <td>NaN</td>\n      <td>NaN</td>\n      <td>NaN</td>\n      <td>NaN</td>\n      <td>NaN</td>\n      <td>NaN</td>\n      <td>NaN</td>\n      <td>1925.000000</td>\n      <td>NaN</td>\n      <td>NaN</td>\n      <td>NaN</td>\n    </tr>\n    <tr>\n      <th>25%</th>\n      <td>NaN</td>\n      <td>NaN</td>\n      <td>NaN</td>\n      <td>NaN</td>\n      <td>NaN</td>\n      <td>NaN</td>\n      <td>NaN</td>\n      <td>2013.000000</td>\n      <td>NaN</td>\n      <td>NaN</td>\n      <td>NaN</td>\n    </tr>\n    <tr>\n      <th>50%</th>\n      <td>NaN</td>\n      <td>NaN</td>\n      <td>NaN</td>\n      <td>NaN</td>\n      <td>NaN</td>\n      <td>NaN</td>\n      <td>NaN</td>\n      <td>2017.000000</td>\n      <td>NaN</td>\n      <td>NaN</td>\n      <td>NaN</td>\n    </tr>\n    <tr>\n      <th>75%</th>\n      <td>NaN</td>\n      <td>NaN</td>\n      <td>NaN</td>\n      <td>NaN</td>\n      <td>NaN</td>\n      <td>NaN</td>\n      <td>NaN</td>\n      <td>2019.000000</td>\n      <td>NaN</td>\n      <td>NaN</td>\n      <td>NaN</td>\n    </tr>\n    <tr>\n      <th>max</th>\n      <td>NaN</td>\n      <td>NaN</td>\n      <td>NaN</td>\n      <td>NaN</td>\n      <td>NaN</td>\n      <td>NaN</td>\n      <td>NaN</td>\n      <td>2021.000000</td>\n      <td>NaN</td>\n      <td>NaN</td>\n      <td>NaN</td>\n    </tr>\n  </tbody>\n</table>\n</div>"
     },
     "execution_count": 6,
     "metadata": {},
     "output_type": "execute_result"
    }
   ],
   "source": [
    "legacy_summary = df.describe(include='all')\n",
    "legacy_summary"
   ],
   "metadata": {
    "collapsed": false,
    "ExecuteTime": {
     "end_time": "2023-07-22T01:41:51.792072700Z",
     "start_time": "2023-07-22T01:41:51.729515600Z"
    }
   }
  },
  {
   "cell_type": "code",
   "execution_count": 23,
   "outputs": [
    {
     "data": {
      "text/plain": "0"
     },
     "execution_count": 23,
     "metadata": {},
     "output_type": "execute_result"
    }
   ],
   "source": [
    "np.na(df[df['show_id'].apply(lambda x:\",\" in str(x))])"
   ],
   "metadata": {
    "collapsed": false,
    "ExecuteTime": {
     "end_time": "2023-07-22T01:49:06.957802Z",
     "start_time": "2023-07-22T01:49:06.926027100Z"
    }
   }
  },
  {
   "cell_type": "code",
   "execution_count": 21,
   "outputs": [],
   "source": [
    "df['director']= df['director'].str.split(',')\n",
    "df = df.explode('director')\n",
    "df['director'] = df['director'].str.strip()"
   ],
   "metadata": {
    "collapsed": false,
    "ExecuteTime": {
     "end_time": "2023-07-22T01:30:19.422511800Z",
     "start_time": "2023-07-22T01:30:19.376697800Z"
    }
   }
  },
  {
   "cell_type": "code",
   "execution_count": 22,
   "outputs": [],
   "source": [
    "df['cast']= df['cast'].str.split(',')\n",
    "df = df.explode('cast')\n",
    "df['cast'] = df['cast'].str.strip()"
   ],
   "metadata": {
    "collapsed": false,
    "ExecuteTime": {
     "end_time": "2023-07-22T01:30:20.559018600Z",
     "start_time": "2023-07-22T01:30:20.471704800Z"
    }
   }
  },
  {
   "cell_type": "code",
   "execution_count": 36,
   "outputs": [],
   "source": [
    "df['country']= df['country'].str.split(',')\n",
    "df = df.explode('country')\n",
    "df['country'] = df['country'].str.strip()"
   ],
   "metadata": {
    "collapsed": false,
    "ExecuteTime": {
     "end_time": "2023-07-22T01:33:39.109605300Z",
     "start_time": "2023-07-22T01:33:39.003000500Z"
    }
   }
  },
  {
   "cell_type": "code",
   "execution_count": 37,
   "outputs": [],
   "source": [
    "df['listed_in']= df['listed_in'].str.split(',')\n",
    "df = df.explode('listed_in')\n",
    "df['listed_in'] = df['listed_in'].str.strip()"
   ],
   "metadata": {
    "collapsed": false,
    "ExecuteTime": {
     "end_time": "2023-07-22T01:34:28.646918100Z",
     "start_time": "2023-07-22T01:34:28.267842800Z"
    }
   }
  },
  {
   "cell_type": "code",
   "execution_count": null,
   "outputs": [],
   "source": [],
   "metadata": {
    "collapsed": false
   }
  },
  {
   "cell_type": "code",
   "execution_count": null,
   "outputs": [],
   "source": [],
   "metadata": {
    "collapsed": false
   }
  },
  {
   "cell_type": "code",
   "execution_count": 38,
   "outputs": [
    {
     "data": {
      "text/plain": "  show_id     type                 title         director         cast  \\\n0      s1    Movie  Dick Johnson Is Dead  Kirsten Johnson          NaN   \n1      s2  TV Show         Blood & Water              NaN   Ama Qamata   \n1      s2  TV Show         Blood & Water              NaN   Ama Qamata   \n1      s2  TV Show         Blood & Water              NaN   Ama Qamata   \n1      s2  TV Show         Blood & Water              NaN  Khosi Ngema   \n\n         country          date_added  release_year rating   duration  \\\n0  United States  September 25, 2021          2020  PG-13     90 min   \n1   South Africa  September 24, 2021          2021  TV-MA  2 Seasons   \n1   South Africa  September 24, 2021          2021  TV-MA  2 Seasons   \n1   South Africa  September 24, 2021          2021  TV-MA  2 Seasons   \n1   South Africa  September 24, 2021          2021  TV-MA  2 Seasons   \n\n                listed_in  \n0           Documentaries  \n1  International TV Shows  \n1               TV Dramas  \n1            TV Mysteries  \n1  International TV Shows  ",
      "text/html": "<div>\n<style scoped>\n    .dataframe tbody tr th:only-of-type {\n        vertical-align: middle;\n    }\n\n    .dataframe tbody tr th {\n        vertical-align: top;\n    }\n\n    .dataframe thead th {\n        text-align: right;\n    }\n</style>\n<table border=\"1\" class=\"dataframe\">\n  <thead>\n    <tr style=\"text-align: right;\">\n      <th></th>\n      <th>show_id</th>\n      <th>type</th>\n      <th>title</th>\n      <th>director</th>\n      <th>cast</th>\n      <th>country</th>\n      <th>date_added</th>\n      <th>release_year</th>\n      <th>rating</th>\n      <th>duration</th>\n      <th>listed_in</th>\n    </tr>\n  </thead>\n  <tbody>\n    <tr>\n      <th>0</th>\n      <td>s1</td>\n      <td>Movie</td>\n      <td>Dick Johnson Is Dead</td>\n      <td>Kirsten Johnson</td>\n      <td>NaN</td>\n      <td>United States</td>\n      <td>September 25, 2021</td>\n      <td>2020</td>\n      <td>PG-13</td>\n      <td>90 min</td>\n      <td>Documentaries</td>\n    </tr>\n    <tr>\n      <th>1</th>\n      <td>s2</td>\n      <td>TV Show</td>\n      <td>Blood &amp; Water</td>\n      <td>NaN</td>\n      <td>Ama Qamata</td>\n      <td>South Africa</td>\n      <td>September 24, 2021</td>\n      <td>2021</td>\n      <td>TV-MA</td>\n      <td>2 Seasons</td>\n      <td>International TV Shows</td>\n    </tr>\n    <tr>\n      <th>1</th>\n      <td>s2</td>\n      <td>TV Show</td>\n      <td>Blood &amp; Water</td>\n      <td>NaN</td>\n      <td>Ama Qamata</td>\n      <td>South Africa</td>\n      <td>September 24, 2021</td>\n      <td>2021</td>\n      <td>TV-MA</td>\n      <td>2 Seasons</td>\n      <td>TV Dramas</td>\n    </tr>\n    <tr>\n      <th>1</th>\n      <td>s2</td>\n      <td>TV Show</td>\n      <td>Blood &amp; Water</td>\n      <td>NaN</td>\n      <td>Ama Qamata</td>\n      <td>South Africa</td>\n      <td>September 24, 2021</td>\n      <td>2021</td>\n      <td>TV-MA</td>\n      <td>2 Seasons</td>\n      <td>TV Mysteries</td>\n    </tr>\n    <tr>\n      <th>1</th>\n      <td>s2</td>\n      <td>TV Show</td>\n      <td>Blood &amp; Water</td>\n      <td>NaN</td>\n      <td>Khosi Ngema</td>\n      <td>South Africa</td>\n      <td>September 24, 2021</td>\n      <td>2021</td>\n      <td>TV-MA</td>\n      <td>2 Seasons</td>\n      <td>International TV Shows</td>\n    </tr>\n  </tbody>\n</table>\n</div>"
     },
     "execution_count": 38,
     "metadata": {},
     "output_type": "execute_result"
    }
   ],
   "source": [
    "df.head()"
   ],
   "metadata": {
    "collapsed": false,
    "ExecuteTime": {
     "end_time": "2023-07-22T01:59:30.053681200Z",
     "start_time": "2023-07-22T01:59:30.038844900Z"
    }
   }
  }
 ],
 "metadata": {
  "kernelspec": {
   "display_name": "Python 3",
   "language": "python",
   "name": "python3"
  },
  "language_info": {
   "codemirror_mode": {
    "name": "ipython",
    "version": 2
   },
   "file_extension": ".py",
   "mimetype": "text/x-python",
   "name": "python",
   "nbconvert_exporter": "python",
   "pygments_lexer": "ipython2",
   "version": "2.7.6"
  }
 },
 "nbformat": 4,
 "nbformat_minor": 0
}
