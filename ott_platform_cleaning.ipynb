{
 "cells": [
  {
   "cell_type": "markdown",
   "source": [
    "# Importing Libraries"
   ],
   "metadata": {
    "collapsed": false
   }
  },
  {
   "cell_type": "code",
   "execution_count": 1,
   "metadata": {
    "collapsed": true,
    "ExecuteTime": {
     "end_time": "2023-07-22T02:01:53.891048300Z",
     "start_time": "2023-07-22T02:01:53.880512100Z"
    }
   },
   "outputs": [],
   "source": [
    "import numpy as np\n",
    "import pandas as pd\n",
    "import matplotlib.pyplot as plt\n",
    "import seaborn as sns"
   ]
  },
  {
   "cell_type": "markdown",
   "source": [
    "# Agenda - Analyze the data and generate insights that could help Netflix ijn deciding which type of shows/movies to produce and how they can grow the business in different countries"
   ],
   "metadata": {
    "collapsed": false
   }
  },
  {
   "cell_type": "code",
   "execution_count": 2,
   "outputs": [],
   "source": [
    "df = pd.read_csv(\"G:\\My Drive\\Portfolio Projects\\Ott Platform Cleaning\\Dataset\\ott_platform.csv\")"
   ],
   "metadata": {
    "collapsed": false,
    "ExecuteTime": {
     "end_time": "2023-07-22T02:01:57.184496700Z",
     "start_time": "2023-07-22T02:01:57.094571Z"
    }
   }
  },
  {
   "cell_type": "code",
   "execution_count": 3,
   "outputs": [
    {
     "data": {
      "text/plain": "     show_id     type                      title                     director  \\\n7315   s7316    Movie                 Little Men                    Ira Sachs   \n3548   s3549    Movie           Feo pero sabroso              Fernando Ayllón   \n3582   s3583    Movie                   Selfless                 Tarsem Singh   \n8440   s8441    Movie            The NSU-Complex      Stefan Aust, Dirk Laabs   \n5290   s5291    Movie             Aakhri Adaalat                  Rajiv Mehra   \n8155   s8156    Movie               Teach Us All                 Sonia Lowman   \n1949   s1950  TV Show             The Good Place                          NaN   \n4560   s4561    Movie           Bathinda Express                   Deep Joshi   \n4614   s4615    Movie            What the Jatt!!                   Saket Behl   \n2088   s2089    Movie            Unknown Origins          David Galán Galindo   \n4801   s4802    Movie            What We Started     Bert Marcus, Cyrus Saidi   \n8313   s8314    Movie               The Free Man                   Toa Fraser   \n7672   s7673    Movie           Operation Mekong                    Dante Lam   \n7332   s7333    Movie                     Lolita              Stanley Kubrick   \n2435   s2436    Movie          Life's Speed Bump                   Wael Ehsan   \n7649   s7650  TV Show               Ollie & Moon                          NaN   \n5310   s5311    Movie  The Distinguished Citizen  Gastón Duprat, Mariano Cohn   \n6014   s6015    Movie                   42 Grams               Jack C. Newell   \n431     s432  TV Show  Too Hot to Handle: Brazil                          NaN   \n5823   s5824  TV Show       Edge of the Universe                          NaN   \n\n                                                   cast  \\\n7315  Greg Kinnear, Jennifer Ehle, Paulina García, A...   \n3548  Iván Marín, Lina Cardona, Carlos Barbosa, Ana ...   \n3582  Ryan Reynolds, Natalie Martinez, Matthew Goode...   \n8440                                                NaN   \n5290  Vinod Khanna, Dimple Kapadia, Jackie Shroff, S...   \n8155                                                NaN   \n1949  Kristen Bell, Ted Danson, William Jackson Harp...   \n4560  Deep Joshi, Jasmine Kaur, Mohit Bhaskar, Vijay...   \n4614  Harish Verma, Isha Rikhi, Vipul Roy, Binnu Dhi...   \n2088  Javier Rey, Verónica Echegui, Brays Efe, Anton...   \n4801                                                NaN   \n8313                                        Jossi Wells   \n7672  Eddie Peng, Zhang Hanyu, Carl Ng, Ken Lo, Pawa...   \n7332  James Mason, Shelley Winters, Peter Sellers, S...   \n2435  Ahmed Helmy, Nour, Ezzat Abou Aouf, Ahmed Rate...   \n7649                       Mattea Conforti, Kobi Frumer   \n5310  Oscar Martínez, Dady Brieva, Andrea Frigerio, ...   \n6014                                   Jake Bickelhaupt   \n431                                        Bruna Louise   \n5823                                                NaN   \n\n                            country          date_added  release_year rating  \\\n7315  United States, Greece, Brazil    January 12, 2017          2016     PG   \n3548                       Colombia     August 30, 2019          2018  TV-MA   \n3582                  United States     August 16, 2019          2015  PG-13   \n8440                        Germany   December 28, 2016          2016  TV-14   \n5290                          India   September 1, 2017          1988  TV-14   \n8155                  United States  September 25, 2017          2017  TV-14   \n1949                  United States  September 26, 2020          2020  TV-14   \n4560                          India     October 1, 2018          2016  TV-14   \n4614                          India     October 1, 2018          2015  TV-PG   \n2088                          Spain     August 28, 2020          2020  TV-MA   \n4801                  United States        July 1, 2018          2017  TV-MA   \n8313                    New Zealand     October 1, 2017          2016  TV-PG   \n7672               China, Hong Kong      August 5, 2017          2016  TV-MA   \n7332  United Kingdom, United States    November 1, 2019          1962      R   \n2435                          Egypt        June 2, 2020          2006  TV-14   \n7649                         France      March 28, 2018          2018   TV-Y   \n5310               Argentina, Spain   September 1, 2017          2016  TV-MA   \n6014                  United States    February 1, 2018          2017  TV-MA   \n431                             NaN       July 21, 2021          2021  TV-MA   \n5823                 United Kingdom      August 1, 2016          2008   TV-G   \n\n       duration                                          listed_in  \\\n7315     85 min                         Dramas, Independent Movies   \n3548     91 min                     Comedies, International Movies   \n3582    117 min                        Sci-Fi & Fantasy, Thrillers   \n8440     90 min                Documentaries, International Movies   \n5290    148 min           Action & Adventure, International Movies   \n8155     81 min                                      Documentaries   \n1949  4 Seasons                                        TV Comedies   \n4560    118 min        Dramas, International Movies, Sports Movies   \n4614    140 min    Comedies, International Movies, Romantic Movies   \n2088     97 min                    International Movies, Thrillers   \n4801     96 min                    Documentaries, Music & Musicals   \n8313     84 min                       Documentaries, Sports Movies   \n7672    124 min           Action & Adventure, International Movies   \n7332    153 min            Classic Movies, Dramas, Romantic Movies   \n2435    109 min                     Comedies, International Movies   \n7649   1 Season                                           Kids' TV   \n5310    113 min             Comedies, Dramas, International Movies   \n6014     81 min                                      Documentaries   \n431    1 Season  International TV Shows, Reality TV, Romantic T...   \n5823   1 Season  British TV Shows, Docuseries, Science & Nature TV   \n\n                                            description  \n7315  Jake and Tony become friends when Jake's dad i...  \n3548  When an unattractive man gets engaged to a bea...  \n3582  A dying tycoon has his consciousness transplan...  \n8440  For 13 years, the underground neo-Nazi organiz...  \n5290  An intrepid police inspector forced into a des...  \n8155  It's been decades since Brown v. Board of Educ...  \n1949  Due to an error, self-absorbed Eleanor Shellst...  \n4560  An ambitious young athlete endeavors to revive...  \n4614  A peasant from Punjab and his best friend pose...  \n2088  A very chiseled but somber detective must find...  \n4801  DJs and industry insiders offer a backstage pa...  \n8313  Olympic freestyle skier Jossi Wells learns the...  \n7672  In a dangerous area of the Mekong River, a dru...  \n7332  In this black comedy, an English professor mar...  \n2435  Seeking job opportunities, a young man arrives...  \n7649  Two quirky cats, Ollie and Moon, and their fri...  \n5310  Worried he’s lost his artistic edge, a wealthy...  \n6014  After launching a successful underground resta...  \n431   Sizzling hot young Brazilians meet at a dreamy...  \n5823  Leading astronomers reveal the latest discover...  ",
      "text/html": "<div>\n<style scoped>\n    .dataframe tbody tr th:only-of-type {\n        vertical-align: middle;\n    }\n\n    .dataframe tbody tr th {\n        vertical-align: top;\n    }\n\n    .dataframe thead th {\n        text-align: right;\n    }\n</style>\n<table border=\"1\" class=\"dataframe\">\n  <thead>\n    <tr style=\"text-align: right;\">\n      <th></th>\n      <th>show_id</th>\n      <th>type</th>\n      <th>title</th>\n      <th>director</th>\n      <th>cast</th>\n      <th>country</th>\n      <th>date_added</th>\n      <th>release_year</th>\n      <th>rating</th>\n      <th>duration</th>\n      <th>listed_in</th>\n      <th>description</th>\n    </tr>\n  </thead>\n  <tbody>\n    <tr>\n      <th>7315</th>\n      <td>s7316</td>\n      <td>Movie</td>\n      <td>Little Men</td>\n      <td>Ira Sachs</td>\n      <td>Greg Kinnear, Jennifer Ehle, Paulina García, A...</td>\n      <td>United States, Greece, Brazil</td>\n      <td>January 12, 2017</td>\n      <td>2016</td>\n      <td>PG</td>\n      <td>85 min</td>\n      <td>Dramas, Independent Movies</td>\n      <td>Jake and Tony become friends when Jake's dad i...</td>\n    </tr>\n    <tr>\n      <th>3548</th>\n      <td>s3549</td>\n      <td>Movie</td>\n      <td>Feo pero sabroso</td>\n      <td>Fernando Ayllón</td>\n      <td>Iván Marín, Lina Cardona, Carlos Barbosa, Ana ...</td>\n      <td>Colombia</td>\n      <td>August 30, 2019</td>\n      <td>2018</td>\n      <td>TV-MA</td>\n      <td>91 min</td>\n      <td>Comedies, International Movies</td>\n      <td>When an unattractive man gets engaged to a bea...</td>\n    </tr>\n    <tr>\n      <th>3582</th>\n      <td>s3583</td>\n      <td>Movie</td>\n      <td>Selfless</td>\n      <td>Tarsem Singh</td>\n      <td>Ryan Reynolds, Natalie Martinez, Matthew Goode...</td>\n      <td>United States</td>\n      <td>August 16, 2019</td>\n      <td>2015</td>\n      <td>PG-13</td>\n      <td>117 min</td>\n      <td>Sci-Fi &amp; Fantasy, Thrillers</td>\n      <td>A dying tycoon has his consciousness transplan...</td>\n    </tr>\n    <tr>\n      <th>8440</th>\n      <td>s8441</td>\n      <td>Movie</td>\n      <td>The NSU-Complex</td>\n      <td>Stefan Aust, Dirk Laabs</td>\n      <td>NaN</td>\n      <td>Germany</td>\n      <td>December 28, 2016</td>\n      <td>2016</td>\n      <td>TV-14</td>\n      <td>90 min</td>\n      <td>Documentaries, International Movies</td>\n      <td>For 13 years, the underground neo-Nazi organiz...</td>\n    </tr>\n    <tr>\n      <th>5290</th>\n      <td>s5291</td>\n      <td>Movie</td>\n      <td>Aakhri Adaalat</td>\n      <td>Rajiv Mehra</td>\n      <td>Vinod Khanna, Dimple Kapadia, Jackie Shroff, S...</td>\n      <td>India</td>\n      <td>September 1, 2017</td>\n      <td>1988</td>\n      <td>TV-14</td>\n      <td>148 min</td>\n      <td>Action &amp; Adventure, International Movies</td>\n      <td>An intrepid police inspector forced into a des...</td>\n    </tr>\n    <tr>\n      <th>8155</th>\n      <td>s8156</td>\n      <td>Movie</td>\n      <td>Teach Us All</td>\n      <td>Sonia Lowman</td>\n      <td>NaN</td>\n      <td>United States</td>\n      <td>September 25, 2017</td>\n      <td>2017</td>\n      <td>TV-14</td>\n      <td>81 min</td>\n      <td>Documentaries</td>\n      <td>It's been decades since Brown v. Board of Educ...</td>\n    </tr>\n    <tr>\n      <th>1949</th>\n      <td>s1950</td>\n      <td>TV Show</td>\n      <td>The Good Place</td>\n      <td>NaN</td>\n      <td>Kristen Bell, Ted Danson, William Jackson Harp...</td>\n      <td>United States</td>\n      <td>September 26, 2020</td>\n      <td>2020</td>\n      <td>TV-14</td>\n      <td>4 Seasons</td>\n      <td>TV Comedies</td>\n      <td>Due to an error, self-absorbed Eleanor Shellst...</td>\n    </tr>\n    <tr>\n      <th>4560</th>\n      <td>s4561</td>\n      <td>Movie</td>\n      <td>Bathinda Express</td>\n      <td>Deep Joshi</td>\n      <td>Deep Joshi, Jasmine Kaur, Mohit Bhaskar, Vijay...</td>\n      <td>India</td>\n      <td>October 1, 2018</td>\n      <td>2016</td>\n      <td>TV-14</td>\n      <td>118 min</td>\n      <td>Dramas, International Movies, Sports Movies</td>\n      <td>An ambitious young athlete endeavors to revive...</td>\n    </tr>\n    <tr>\n      <th>4614</th>\n      <td>s4615</td>\n      <td>Movie</td>\n      <td>What the Jatt!!</td>\n      <td>Saket Behl</td>\n      <td>Harish Verma, Isha Rikhi, Vipul Roy, Binnu Dhi...</td>\n      <td>India</td>\n      <td>October 1, 2018</td>\n      <td>2015</td>\n      <td>TV-PG</td>\n      <td>140 min</td>\n      <td>Comedies, International Movies, Romantic Movies</td>\n      <td>A peasant from Punjab and his best friend pose...</td>\n    </tr>\n    <tr>\n      <th>2088</th>\n      <td>s2089</td>\n      <td>Movie</td>\n      <td>Unknown Origins</td>\n      <td>David Galán Galindo</td>\n      <td>Javier Rey, Verónica Echegui, Brays Efe, Anton...</td>\n      <td>Spain</td>\n      <td>August 28, 2020</td>\n      <td>2020</td>\n      <td>TV-MA</td>\n      <td>97 min</td>\n      <td>International Movies, Thrillers</td>\n      <td>A very chiseled but somber detective must find...</td>\n    </tr>\n    <tr>\n      <th>4801</th>\n      <td>s4802</td>\n      <td>Movie</td>\n      <td>What We Started</td>\n      <td>Bert Marcus, Cyrus Saidi</td>\n      <td>NaN</td>\n      <td>United States</td>\n      <td>July 1, 2018</td>\n      <td>2017</td>\n      <td>TV-MA</td>\n      <td>96 min</td>\n      <td>Documentaries, Music &amp; Musicals</td>\n      <td>DJs and industry insiders offer a backstage pa...</td>\n    </tr>\n    <tr>\n      <th>8313</th>\n      <td>s8314</td>\n      <td>Movie</td>\n      <td>The Free Man</td>\n      <td>Toa Fraser</td>\n      <td>Jossi Wells</td>\n      <td>New Zealand</td>\n      <td>October 1, 2017</td>\n      <td>2016</td>\n      <td>TV-PG</td>\n      <td>84 min</td>\n      <td>Documentaries, Sports Movies</td>\n      <td>Olympic freestyle skier Jossi Wells learns the...</td>\n    </tr>\n    <tr>\n      <th>7672</th>\n      <td>s7673</td>\n      <td>Movie</td>\n      <td>Operation Mekong</td>\n      <td>Dante Lam</td>\n      <td>Eddie Peng, Zhang Hanyu, Carl Ng, Ken Lo, Pawa...</td>\n      <td>China, Hong Kong</td>\n      <td>August 5, 2017</td>\n      <td>2016</td>\n      <td>TV-MA</td>\n      <td>124 min</td>\n      <td>Action &amp; Adventure, International Movies</td>\n      <td>In a dangerous area of the Mekong River, a dru...</td>\n    </tr>\n    <tr>\n      <th>7332</th>\n      <td>s7333</td>\n      <td>Movie</td>\n      <td>Lolita</td>\n      <td>Stanley Kubrick</td>\n      <td>James Mason, Shelley Winters, Peter Sellers, S...</td>\n      <td>United Kingdom, United States</td>\n      <td>November 1, 2019</td>\n      <td>1962</td>\n      <td>R</td>\n      <td>153 min</td>\n      <td>Classic Movies, Dramas, Romantic Movies</td>\n      <td>In this black comedy, an English professor mar...</td>\n    </tr>\n    <tr>\n      <th>2435</th>\n      <td>s2436</td>\n      <td>Movie</td>\n      <td>Life's Speed Bump</td>\n      <td>Wael Ehsan</td>\n      <td>Ahmed Helmy, Nour, Ezzat Abou Aouf, Ahmed Rate...</td>\n      <td>Egypt</td>\n      <td>June 2, 2020</td>\n      <td>2006</td>\n      <td>TV-14</td>\n      <td>109 min</td>\n      <td>Comedies, International Movies</td>\n      <td>Seeking job opportunities, a young man arrives...</td>\n    </tr>\n    <tr>\n      <th>7649</th>\n      <td>s7650</td>\n      <td>TV Show</td>\n      <td>Ollie &amp; Moon</td>\n      <td>NaN</td>\n      <td>Mattea Conforti, Kobi Frumer</td>\n      <td>France</td>\n      <td>March 28, 2018</td>\n      <td>2018</td>\n      <td>TV-Y</td>\n      <td>1 Season</td>\n      <td>Kids' TV</td>\n      <td>Two quirky cats, Ollie and Moon, and their fri...</td>\n    </tr>\n    <tr>\n      <th>5310</th>\n      <td>s5311</td>\n      <td>Movie</td>\n      <td>The Distinguished Citizen</td>\n      <td>Gastón Duprat, Mariano Cohn</td>\n      <td>Oscar Martínez, Dady Brieva, Andrea Frigerio, ...</td>\n      <td>Argentina, Spain</td>\n      <td>September 1, 2017</td>\n      <td>2016</td>\n      <td>TV-MA</td>\n      <td>113 min</td>\n      <td>Comedies, Dramas, International Movies</td>\n      <td>Worried he’s lost his artistic edge, a wealthy...</td>\n    </tr>\n    <tr>\n      <th>6014</th>\n      <td>s6015</td>\n      <td>Movie</td>\n      <td>42 Grams</td>\n      <td>Jack C. Newell</td>\n      <td>Jake Bickelhaupt</td>\n      <td>United States</td>\n      <td>February 1, 2018</td>\n      <td>2017</td>\n      <td>TV-MA</td>\n      <td>81 min</td>\n      <td>Documentaries</td>\n      <td>After launching a successful underground resta...</td>\n    </tr>\n    <tr>\n      <th>431</th>\n      <td>s432</td>\n      <td>TV Show</td>\n      <td>Too Hot to Handle: Brazil</td>\n      <td>NaN</td>\n      <td>Bruna Louise</td>\n      <td>NaN</td>\n      <td>July 21, 2021</td>\n      <td>2021</td>\n      <td>TV-MA</td>\n      <td>1 Season</td>\n      <td>International TV Shows, Reality TV, Romantic T...</td>\n      <td>Sizzling hot young Brazilians meet at a dreamy...</td>\n    </tr>\n    <tr>\n      <th>5823</th>\n      <td>s5824</td>\n      <td>TV Show</td>\n      <td>Edge of the Universe</td>\n      <td>NaN</td>\n      <td>NaN</td>\n      <td>United Kingdom</td>\n      <td>August 1, 2016</td>\n      <td>2008</td>\n      <td>TV-G</td>\n      <td>1 Season</td>\n      <td>British TV Shows, Docuseries, Science &amp; Nature TV</td>\n      <td>Leading astronomers reveal the latest discover...</td>\n    </tr>\n  </tbody>\n</table>\n</div>"
     },
     "execution_count": 3,
     "metadata": {},
     "output_type": "execute_result"
    }
   ],
   "source": [
    "df.sample(20)"
   ],
   "metadata": {
    "collapsed": false,
    "ExecuteTime": {
     "end_time": "2023-07-22T02:01:59.264909800Z",
     "start_time": "2023-07-22T02:01:59.233868100Z"
    }
   }
  },
  {
   "cell_type": "markdown",
   "source": [
    "# Cleaning The Data\n",
    "- Upon Checking the sample, we can see how these files are nested like Director, Cast,Country\n",
    "- We don't really need description column\n",
    "- Release_year column is an object type, need to change it to datetime"
   ],
   "metadata": {
    "collapsed": false
   }
  },
  {
   "cell_type": "code",
   "execution_count": 4,
   "outputs": [],
   "source": [
    "#Dropping Description Column\n",
    "df.drop(\"description\",axis=1,inplace=True)"
   ],
   "metadata": {
    "collapsed": false,
    "ExecuteTime": {
     "end_time": "2023-07-22T02:02:01.840999700Z",
     "start_time": "2023-07-22T02:02:01.825752500Z"
    }
   }
  },
  {
   "cell_type": "code",
   "execution_count": 5,
   "outputs": [
    {
     "name": "stdout",
     "output_type": "stream",
     "text": [
      "<class 'pandas.core.frame.DataFrame'>\n",
      "RangeIndex: 8807 entries, 0 to 8806\n",
      "Data columns (total 11 columns):\n",
      " #   Column        Non-Null Count  Dtype \n",
      "---  ------        --------------  ----- \n",
      " 0   show_id       8807 non-null   object\n",
      " 1   type          8807 non-null   object\n",
      " 2   title         8807 non-null   object\n",
      " 3   director      6173 non-null   object\n",
      " 4   cast          7982 non-null   object\n",
      " 5   country       7976 non-null   object\n",
      " 6   date_added    8797 non-null   object\n",
      " 7   release_year  8807 non-null   int64 \n",
      " 8   rating        8803 non-null   object\n",
      " 9   duration      8804 non-null   object\n",
      " 10  listed_in     8807 non-null   object\n",
      "dtypes: int64(1), object(10)\n",
      "memory usage: 757.0+ KB\n"
     ]
    }
   ],
   "source": [
    "df.info()"
   ],
   "metadata": {
    "collapsed": false,
    "ExecuteTime": {
     "end_time": "2023-07-22T02:02:03.744002Z",
     "start_time": "2023-07-22T02:02:03.712220600Z"
    }
   }
  },
  {
   "cell_type": "code",
   "execution_count": 6,
   "outputs": [
    {
     "data": {
      "text/plain": "       show_id   type                 title       director  \\\ncount     8807   8807                  8807           6173   \nunique    8807      2                  8807           4528   \ntop         s1  Movie  Dick Johnson Is Dead  Rajiv Chilaka   \nfreq         1   6131                     1             19   \nmean       NaN    NaN                   NaN            NaN   \nstd        NaN    NaN                   NaN            NaN   \nmin        NaN    NaN                   NaN            NaN   \n25%        NaN    NaN                   NaN            NaN   \n50%        NaN    NaN                   NaN            NaN   \n75%        NaN    NaN                   NaN            NaN   \nmax        NaN    NaN                   NaN            NaN   \n\n                      cast        country       date_added  release_year  \\\ncount                 7982           7976             8797   8807.000000   \nunique                7692            748             1767           NaN   \ntop     David Attenborough  United States  January 1, 2020           NaN   \nfreq                    19           2818              109           NaN   \nmean                   NaN            NaN              NaN   2014.180198   \nstd                    NaN            NaN              NaN      8.819312   \nmin                    NaN            NaN              NaN   1925.000000   \n25%                    NaN            NaN              NaN   2013.000000   \n50%                    NaN            NaN              NaN   2017.000000   \n75%                    NaN            NaN              NaN   2019.000000   \nmax                    NaN            NaN              NaN   2021.000000   \n\n       rating  duration                     listed_in  \ncount    8803      8804                          8807  \nunique     17       220                           514  \ntop     TV-MA  1 Season  Dramas, International Movies  \nfreq     3207      1793                           362  \nmean      NaN       NaN                           NaN  \nstd       NaN       NaN                           NaN  \nmin       NaN       NaN                           NaN  \n25%       NaN       NaN                           NaN  \n50%       NaN       NaN                           NaN  \n75%       NaN       NaN                           NaN  \nmax       NaN       NaN                           NaN  ",
      "text/html": "<div>\n<style scoped>\n    .dataframe tbody tr th:only-of-type {\n        vertical-align: middle;\n    }\n\n    .dataframe tbody tr th {\n        vertical-align: top;\n    }\n\n    .dataframe thead th {\n        text-align: right;\n    }\n</style>\n<table border=\"1\" class=\"dataframe\">\n  <thead>\n    <tr style=\"text-align: right;\">\n      <th></th>\n      <th>show_id</th>\n      <th>type</th>\n      <th>title</th>\n      <th>director</th>\n      <th>cast</th>\n      <th>country</th>\n      <th>date_added</th>\n      <th>release_year</th>\n      <th>rating</th>\n      <th>duration</th>\n      <th>listed_in</th>\n    </tr>\n  </thead>\n  <tbody>\n    <tr>\n      <th>count</th>\n      <td>8807</td>\n      <td>8807</td>\n      <td>8807</td>\n      <td>6173</td>\n      <td>7982</td>\n      <td>7976</td>\n      <td>8797</td>\n      <td>8807.000000</td>\n      <td>8803</td>\n      <td>8804</td>\n      <td>8807</td>\n    </tr>\n    <tr>\n      <th>unique</th>\n      <td>8807</td>\n      <td>2</td>\n      <td>8807</td>\n      <td>4528</td>\n      <td>7692</td>\n      <td>748</td>\n      <td>1767</td>\n      <td>NaN</td>\n      <td>17</td>\n      <td>220</td>\n      <td>514</td>\n    </tr>\n    <tr>\n      <th>top</th>\n      <td>s1</td>\n      <td>Movie</td>\n      <td>Dick Johnson Is Dead</td>\n      <td>Rajiv Chilaka</td>\n      <td>David Attenborough</td>\n      <td>United States</td>\n      <td>January 1, 2020</td>\n      <td>NaN</td>\n      <td>TV-MA</td>\n      <td>1 Season</td>\n      <td>Dramas, International Movies</td>\n    </tr>\n    <tr>\n      <th>freq</th>\n      <td>1</td>\n      <td>6131</td>\n      <td>1</td>\n      <td>19</td>\n      <td>19</td>\n      <td>2818</td>\n      <td>109</td>\n      <td>NaN</td>\n      <td>3207</td>\n      <td>1793</td>\n      <td>362</td>\n    </tr>\n    <tr>\n      <th>mean</th>\n      <td>NaN</td>\n      <td>NaN</td>\n      <td>NaN</td>\n      <td>NaN</td>\n      <td>NaN</td>\n      <td>NaN</td>\n      <td>NaN</td>\n      <td>2014.180198</td>\n      <td>NaN</td>\n      <td>NaN</td>\n      <td>NaN</td>\n    </tr>\n    <tr>\n      <th>std</th>\n      <td>NaN</td>\n      <td>NaN</td>\n      <td>NaN</td>\n      <td>NaN</td>\n      <td>NaN</td>\n      <td>NaN</td>\n      <td>NaN</td>\n      <td>8.819312</td>\n      <td>NaN</td>\n      <td>NaN</td>\n      <td>NaN</td>\n    </tr>\n    <tr>\n      <th>min</th>\n      <td>NaN</td>\n      <td>NaN</td>\n      <td>NaN</td>\n      <td>NaN</td>\n      <td>NaN</td>\n      <td>NaN</td>\n      <td>NaN</td>\n      <td>1925.000000</td>\n      <td>NaN</td>\n      <td>NaN</td>\n      <td>NaN</td>\n    </tr>\n    <tr>\n      <th>25%</th>\n      <td>NaN</td>\n      <td>NaN</td>\n      <td>NaN</td>\n      <td>NaN</td>\n      <td>NaN</td>\n      <td>NaN</td>\n      <td>NaN</td>\n      <td>2013.000000</td>\n      <td>NaN</td>\n      <td>NaN</td>\n      <td>NaN</td>\n    </tr>\n    <tr>\n      <th>50%</th>\n      <td>NaN</td>\n      <td>NaN</td>\n      <td>NaN</td>\n      <td>NaN</td>\n      <td>NaN</td>\n      <td>NaN</td>\n      <td>NaN</td>\n      <td>2017.000000</td>\n      <td>NaN</td>\n      <td>NaN</td>\n      <td>NaN</td>\n    </tr>\n    <tr>\n      <th>75%</th>\n      <td>NaN</td>\n      <td>NaN</td>\n      <td>NaN</td>\n      <td>NaN</td>\n      <td>NaN</td>\n      <td>NaN</td>\n      <td>NaN</td>\n      <td>2019.000000</td>\n      <td>NaN</td>\n      <td>NaN</td>\n      <td>NaN</td>\n    </tr>\n    <tr>\n      <th>max</th>\n      <td>NaN</td>\n      <td>NaN</td>\n      <td>NaN</td>\n      <td>NaN</td>\n      <td>NaN</td>\n      <td>NaN</td>\n      <td>NaN</td>\n      <td>2021.000000</td>\n      <td>NaN</td>\n      <td>NaN</td>\n      <td>NaN</td>\n    </tr>\n  </tbody>\n</table>\n</div>"
     },
     "execution_count": 6,
     "metadata": {},
     "output_type": "execute_result"
    }
   ],
   "source": [
    "legacy_summary = df.describe(include='all')\n",
    "legacy_summary"
   ],
   "metadata": {
    "collapsed": false,
    "ExecuteTime": {
     "end_time": "2023-07-22T02:02:05.704428Z",
     "start_time": "2023-07-22T02:02:05.648865700Z"
    }
   }
  },
  {
   "cell_type": "code",
   "execution_count": 8,
   "outputs": [
    {
     "data": {
      "text/plain": "['title', 'director', 'cast', 'country', 'date_added', 'listed_in']"
     },
     "execution_count": 8,
     "metadata": {},
     "output_type": "execute_result"
    }
   ],
   "source": [
    "# getting nested columns\n",
    "def get_nested_columns(xx):\n",
    "    nested_columns = []\n",
    "    for i in xx:\n",
    "        if df[df[str(i)].apply(lambda x:\",\" in str(x))].shape[0] > 0:\n",
    "            nested_columns.append(i)\n",
    "\n",
    "    return nested_columns\n",
    "get_nested_columns(df.columns)"
   ],
   "metadata": {
    "collapsed": false,
    "ExecuteTime": {
     "end_time": "2023-07-22T02:02:46.394291900Z",
     "start_time": "2023-07-22T02:02:46.338022200Z"
    }
   }
  },
  {
   "cell_type": "code",
   "execution_count": 9,
   "outputs": [
    {
     "data": {
      "text/plain": "     show_id     type                                             title  \\\n10       s11  TV Show               Vendetta: Truth, Lies and The Mafia   \n140     s141    Movie               El patrón, radiografía de un crimen   \n206     s207    Movie                         LSD: Love, Sex Aur Dhokha   \n221     s222    Movie       Bob Ross: Happy Accidents, Betrayal & Greed   \n658     s659  TV Show                                     Nevertheless,   \n...      ...      ...                                               ...   \n8598   s8599    Movie  To Wong Foo, Thanks for Everything! Julie Newmar   \n8628   s8629    Movie                    Trikal (Past, Present, Future)   \n8647   s8648    Movie                       Twisted Trunk, Big Fat Body   \n8707   s8708    Movie                                   We, the Marines   \n8793   s8794    Movie                              Yours, Mine and Ours   \n\n                director                                               cast  \\\n10                   NaN                                                NaN   \n140   Sebastián Schindel  Joaquín Furriel, Luis Ziembrowski, Guillermo P...   \n206     Dibakar Banerjee  Nushrat Bharucha, Anshuman Jha, Neha Chauhan, ...   \n221          Joshua Rofé                                           Bob Ross   \n658                  NaN  Song Kang, Han So-hee, Chae Jong-hyeop, Lee Yu...   \n...                  ...                                                ...   \n8598       Beeban Kidron  Patrick Swayze, Wesley Snipes, John Leguizamo,...   \n8628       Shyam Benegal  Leela Naidu, Neena Gupta, Anita Kanwar, Soni R...   \n8647                 NaN  Vijay Maurya, Naman Jain, Usha Nadkarni, Mukes...   \n8707   Greg MacGillivray                                                NaN   \n8793        Raja Gosnell  Dennis Quaid, Rene Russo, Sean Faris, Katija P...   \n\n                   country          date_added  release_year rating  duration  \\\n10                     NaN  September 24, 2021          2021  TV-MA  1 Season   \n140   Argentina, Venezuela   September 1, 2021          2014  TV-MA   100 min   \n206                  India     August 27, 2021          2010  TV-MA   112 min   \n221                    NaN     August 25, 2021          2021  TV-14    93 min   \n658                    NaN       June 20, 2021          2021  TV-14  1 Season   \n...                    ...                 ...           ...    ...       ...   \n8598         United States      August 1, 2019          1995  PG-13   108 min   \n8628                 India   December 31, 2019          1985  TV-14   134 min   \n8647                 India    January 15, 2017          2015  TV-14    89 min   \n8707         United States        July 1, 2018          2017  TV-PG    38 min   \n8793         United States   November 20, 2019          2005     PG    88 min   \n\n                                              listed_in  \n10    Crime TV Shows, Docuseries, International TV S...  \n140             Dramas, International Movies, Thrillers  \n206    Dramas, Independent Movies, International Movies  \n221                                       Documentaries  \n658   International TV Shows, Romantic TV Shows, TV ...  \n...                                                 ...  \n8598                Comedies, Cult Movies, LGBTQ Movies  \n8628               Comedies, Dramas, Independent Movies  \n8647                       Dramas, International Movies  \n8707                Documentaries, International Movies  \n8793                 Children & Family Movies, Comedies  \n\n[138 rows x 11 columns]",
      "text/html": "<div>\n<style scoped>\n    .dataframe tbody tr th:only-of-type {\n        vertical-align: middle;\n    }\n\n    .dataframe tbody tr th {\n        vertical-align: top;\n    }\n\n    .dataframe thead th {\n        text-align: right;\n    }\n</style>\n<table border=\"1\" class=\"dataframe\">\n  <thead>\n    <tr style=\"text-align: right;\">\n      <th></th>\n      <th>show_id</th>\n      <th>type</th>\n      <th>title</th>\n      <th>director</th>\n      <th>cast</th>\n      <th>country</th>\n      <th>date_added</th>\n      <th>release_year</th>\n      <th>rating</th>\n      <th>duration</th>\n      <th>listed_in</th>\n    </tr>\n  </thead>\n  <tbody>\n    <tr>\n      <th>10</th>\n      <td>s11</td>\n      <td>TV Show</td>\n      <td>Vendetta: Truth, Lies and The Mafia</td>\n      <td>NaN</td>\n      <td>NaN</td>\n      <td>NaN</td>\n      <td>September 24, 2021</td>\n      <td>2021</td>\n      <td>TV-MA</td>\n      <td>1 Season</td>\n      <td>Crime TV Shows, Docuseries, International TV S...</td>\n    </tr>\n    <tr>\n      <th>140</th>\n      <td>s141</td>\n      <td>Movie</td>\n      <td>El patrón, radiografía de un crimen</td>\n      <td>Sebastián Schindel</td>\n      <td>Joaquín Furriel, Luis Ziembrowski, Guillermo P...</td>\n      <td>Argentina, Venezuela</td>\n      <td>September 1, 2021</td>\n      <td>2014</td>\n      <td>TV-MA</td>\n      <td>100 min</td>\n      <td>Dramas, International Movies, Thrillers</td>\n    </tr>\n    <tr>\n      <th>206</th>\n      <td>s207</td>\n      <td>Movie</td>\n      <td>LSD: Love, Sex Aur Dhokha</td>\n      <td>Dibakar Banerjee</td>\n      <td>Nushrat Bharucha, Anshuman Jha, Neha Chauhan, ...</td>\n      <td>India</td>\n      <td>August 27, 2021</td>\n      <td>2010</td>\n      <td>TV-MA</td>\n      <td>112 min</td>\n      <td>Dramas, Independent Movies, International Movies</td>\n    </tr>\n    <tr>\n      <th>221</th>\n      <td>s222</td>\n      <td>Movie</td>\n      <td>Bob Ross: Happy Accidents, Betrayal &amp; Greed</td>\n      <td>Joshua Rofé</td>\n      <td>Bob Ross</td>\n      <td>NaN</td>\n      <td>August 25, 2021</td>\n      <td>2021</td>\n      <td>TV-14</td>\n      <td>93 min</td>\n      <td>Documentaries</td>\n    </tr>\n    <tr>\n      <th>658</th>\n      <td>s659</td>\n      <td>TV Show</td>\n      <td>Nevertheless,</td>\n      <td>NaN</td>\n      <td>Song Kang, Han So-hee, Chae Jong-hyeop, Lee Yu...</td>\n      <td>NaN</td>\n      <td>June 20, 2021</td>\n      <td>2021</td>\n      <td>TV-14</td>\n      <td>1 Season</td>\n      <td>International TV Shows, Romantic TV Shows, TV ...</td>\n    </tr>\n    <tr>\n      <th>...</th>\n      <td>...</td>\n      <td>...</td>\n      <td>...</td>\n      <td>...</td>\n      <td>...</td>\n      <td>...</td>\n      <td>...</td>\n      <td>...</td>\n      <td>...</td>\n      <td>...</td>\n      <td>...</td>\n    </tr>\n    <tr>\n      <th>8598</th>\n      <td>s8599</td>\n      <td>Movie</td>\n      <td>To Wong Foo, Thanks for Everything! Julie Newmar</td>\n      <td>Beeban Kidron</td>\n      <td>Patrick Swayze, Wesley Snipes, John Leguizamo,...</td>\n      <td>United States</td>\n      <td>August 1, 2019</td>\n      <td>1995</td>\n      <td>PG-13</td>\n      <td>108 min</td>\n      <td>Comedies, Cult Movies, LGBTQ Movies</td>\n    </tr>\n    <tr>\n      <th>8628</th>\n      <td>s8629</td>\n      <td>Movie</td>\n      <td>Trikal (Past, Present, Future)</td>\n      <td>Shyam Benegal</td>\n      <td>Leela Naidu, Neena Gupta, Anita Kanwar, Soni R...</td>\n      <td>India</td>\n      <td>December 31, 2019</td>\n      <td>1985</td>\n      <td>TV-14</td>\n      <td>134 min</td>\n      <td>Comedies, Dramas, Independent Movies</td>\n    </tr>\n    <tr>\n      <th>8647</th>\n      <td>s8648</td>\n      <td>Movie</td>\n      <td>Twisted Trunk, Big Fat Body</td>\n      <td>NaN</td>\n      <td>Vijay Maurya, Naman Jain, Usha Nadkarni, Mukes...</td>\n      <td>India</td>\n      <td>January 15, 2017</td>\n      <td>2015</td>\n      <td>TV-14</td>\n      <td>89 min</td>\n      <td>Dramas, International Movies</td>\n    </tr>\n    <tr>\n      <th>8707</th>\n      <td>s8708</td>\n      <td>Movie</td>\n      <td>We, the Marines</td>\n      <td>Greg MacGillivray</td>\n      <td>NaN</td>\n      <td>United States</td>\n      <td>July 1, 2018</td>\n      <td>2017</td>\n      <td>TV-PG</td>\n      <td>38 min</td>\n      <td>Documentaries, International Movies</td>\n    </tr>\n    <tr>\n      <th>8793</th>\n      <td>s8794</td>\n      <td>Movie</td>\n      <td>Yours, Mine and Ours</td>\n      <td>Raja Gosnell</td>\n      <td>Dennis Quaid, Rene Russo, Sean Faris, Katija P...</td>\n      <td>United States</td>\n      <td>November 20, 2019</td>\n      <td>2005</td>\n      <td>PG</td>\n      <td>88 min</td>\n      <td>Children &amp; Family Movies, Comedies</td>\n    </tr>\n  </tbody>\n</table>\n<p>138 rows × 11 columns</p>\n</div>"
     },
     "execution_count": 9,
     "metadata": {},
     "output_type": "execute_result"
    }
   ],
   "source": [
    "# This looks all right\n",
    "df[df['title'].apply(lambda x:\",\" in str(x))]"
   ],
   "metadata": {
    "collapsed": false,
    "ExecuteTime": {
     "end_time": "2023-07-22T02:03:25.497869700Z",
     "start_time": "2023-07-22T02:03:25.445157200Z"
    }
   }
  },
  {
   "cell_type": "code",
   "execution_count": 10,
   "outputs": [
    {
     "data": {
      "text/plain": "     show_id     type                  title         director  \\\n0         s1    Movie   Dick Johnson Is Dead  Kirsten Johnson   \n1         s2  TV Show          Blood & Water              NaN   \n2         s3  TV Show              Ganglands  Julien Leclercq   \n3         s4  TV Show  Jailbirds New Orleans              NaN   \n4         s5  TV Show           Kota Factory              NaN   \n...      ...      ...                    ...              ...   \n8802   s8803    Movie                 Zodiac    David Fincher   \n8803   s8804  TV Show            Zombie Dumb              NaN   \n8804   s8805    Movie             Zombieland  Ruben Fleischer   \n8805   s8806    Movie                   Zoom     Peter Hewitt   \n8806   s8807    Movie                 Zubaan      Mozez Singh   \n\n                                                   cast        country  \\\n0                                                   NaN  United States   \n1     Ama Qamata, Khosi Ngema, Gail Mabalane, Thaban...   South Africa   \n2     Sami Bouajila, Tracy Gotoas, Samuel Jouy, Nabi...            NaN   \n3                                                   NaN            NaN   \n4     Mayur More, Jitendra Kumar, Ranjan Raj, Alam K...          India   \n...                                                 ...            ...   \n8802  Mark Ruffalo, Jake Gyllenhaal, Robert Downey J...  United States   \n8803                                                NaN            NaN   \n8804  Jesse Eisenberg, Woody Harrelson, Emma Stone, ...  United States   \n8805  Tim Allen, Courteney Cox, Chevy Chase, Kate Ma...  United States   \n8806  Vicky Kaushal, Sarah-Jane Dias, Raaghav Chanan...          India   \n\n              date_added  release_year rating   duration  \\\n0     September 25, 2021          2020  PG-13     90 min   \n1     September 24, 2021          2021  TV-MA  2 Seasons   \n2     September 24, 2021          2021  TV-MA   1 Season   \n3     September 24, 2021          2021  TV-MA   1 Season   \n4     September 24, 2021          2021  TV-MA  2 Seasons   \n...                  ...           ...    ...        ...   \n8802   November 20, 2019          2007      R    158 min   \n8803        July 1, 2019          2018  TV-Y7  2 Seasons   \n8804    November 1, 2019          2009      R     88 min   \n8805    January 11, 2020          2006     PG     88 min   \n8806       March 2, 2019          2015  TV-14    111 min   \n\n                                              listed_in  \n0                                         Documentaries  \n1       International TV Shows, TV Dramas, TV Mysteries  \n2     Crime TV Shows, International TV Shows, TV Act...  \n3                                Docuseries, Reality TV  \n4     International TV Shows, Romantic TV Shows, TV ...  \n...                                                 ...  \n8802                     Cult Movies, Dramas, Thrillers  \n8803             Kids' TV, Korean TV Shows, TV Comedies  \n8804                            Comedies, Horror Movies  \n8805                 Children & Family Movies, Comedies  \n8806     Dramas, International Movies, Music & Musicals  \n\n[8797 rows x 11 columns]",
      "text/html": "<div>\n<style scoped>\n    .dataframe tbody tr th:only-of-type {\n        vertical-align: middle;\n    }\n\n    .dataframe tbody tr th {\n        vertical-align: top;\n    }\n\n    .dataframe thead th {\n        text-align: right;\n    }\n</style>\n<table border=\"1\" class=\"dataframe\">\n  <thead>\n    <tr style=\"text-align: right;\">\n      <th></th>\n      <th>show_id</th>\n      <th>type</th>\n      <th>title</th>\n      <th>director</th>\n      <th>cast</th>\n      <th>country</th>\n      <th>date_added</th>\n      <th>release_year</th>\n      <th>rating</th>\n      <th>duration</th>\n      <th>listed_in</th>\n    </tr>\n  </thead>\n  <tbody>\n    <tr>\n      <th>0</th>\n      <td>s1</td>\n      <td>Movie</td>\n      <td>Dick Johnson Is Dead</td>\n      <td>Kirsten Johnson</td>\n      <td>NaN</td>\n      <td>United States</td>\n      <td>September 25, 2021</td>\n      <td>2020</td>\n      <td>PG-13</td>\n      <td>90 min</td>\n      <td>Documentaries</td>\n    </tr>\n    <tr>\n      <th>1</th>\n      <td>s2</td>\n      <td>TV Show</td>\n      <td>Blood &amp; Water</td>\n      <td>NaN</td>\n      <td>Ama Qamata, Khosi Ngema, Gail Mabalane, Thaban...</td>\n      <td>South Africa</td>\n      <td>September 24, 2021</td>\n      <td>2021</td>\n      <td>TV-MA</td>\n      <td>2 Seasons</td>\n      <td>International TV Shows, TV Dramas, TV Mysteries</td>\n    </tr>\n    <tr>\n      <th>2</th>\n      <td>s3</td>\n      <td>TV Show</td>\n      <td>Ganglands</td>\n      <td>Julien Leclercq</td>\n      <td>Sami Bouajila, Tracy Gotoas, Samuel Jouy, Nabi...</td>\n      <td>NaN</td>\n      <td>September 24, 2021</td>\n      <td>2021</td>\n      <td>TV-MA</td>\n      <td>1 Season</td>\n      <td>Crime TV Shows, International TV Shows, TV Act...</td>\n    </tr>\n    <tr>\n      <th>3</th>\n      <td>s4</td>\n      <td>TV Show</td>\n      <td>Jailbirds New Orleans</td>\n      <td>NaN</td>\n      <td>NaN</td>\n      <td>NaN</td>\n      <td>September 24, 2021</td>\n      <td>2021</td>\n      <td>TV-MA</td>\n      <td>1 Season</td>\n      <td>Docuseries, Reality TV</td>\n    </tr>\n    <tr>\n      <th>4</th>\n      <td>s5</td>\n      <td>TV Show</td>\n      <td>Kota Factory</td>\n      <td>NaN</td>\n      <td>Mayur More, Jitendra Kumar, Ranjan Raj, Alam K...</td>\n      <td>India</td>\n      <td>September 24, 2021</td>\n      <td>2021</td>\n      <td>TV-MA</td>\n      <td>2 Seasons</td>\n      <td>International TV Shows, Romantic TV Shows, TV ...</td>\n    </tr>\n    <tr>\n      <th>...</th>\n      <td>...</td>\n      <td>...</td>\n      <td>...</td>\n      <td>...</td>\n      <td>...</td>\n      <td>...</td>\n      <td>...</td>\n      <td>...</td>\n      <td>...</td>\n      <td>...</td>\n      <td>...</td>\n    </tr>\n    <tr>\n      <th>8802</th>\n      <td>s8803</td>\n      <td>Movie</td>\n      <td>Zodiac</td>\n      <td>David Fincher</td>\n      <td>Mark Ruffalo, Jake Gyllenhaal, Robert Downey J...</td>\n      <td>United States</td>\n      <td>November 20, 2019</td>\n      <td>2007</td>\n      <td>R</td>\n      <td>158 min</td>\n      <td>Cult Movies, Dramas, Thrillers</td>\n    </tr>\n    <tr>\n      <th>8803</th>\n      <td>s8804</td>\n      <td>TV Show</td>\n      <td>Zombie Dumb</td>\n      <td>NaN</td>\n      <td>NaN</td>\n      <td>NaN</td>\n      <td>July 1, 2019</td>\n      <td>2018</td>\n      <td>TV-Y7</td>\n      <td>2 Seasons</td>\n      <td>Kids' TV, Korean TV Shows, TV Comedies</td>\n    </tr>\n    <tr>\n      <th>8804</th>\n      <td>s8805</td>\n      <td>Movie</td>\n      <td>Zombieland</td>\n      <td>Ruben Fleischer</td>\n      <td>Jesse Eisenberg, Woody Harrelson, Emma Stone, ...</td>\n      <td>United States</td>\n      <td>November 1, 2019</td>\n      <td>2009</td>\n      <td>R</td>\n      <td>88 min</td>\n      <td>Comedies, Horror Movies</td>\n    </tr>\n    <tr>\n      <th>8805</th>\n      <td>s8806</td>\n      <td>Movie</td>\n      <td>Zoom</td>\n      <td>Peter Hewitt</td>\n      <td>Tim Allen, Courteney Cox, Chevy Chase, Kate Ma...</td>\n      <td>United States</td>\n      <td>January 11, 2020</td>\n      <td>2006</td>\n      <td>PG</td>\n      <td>88 min</td>\n      <td>Children &amp; Family Movies, Comedies</td>\n    </tr>\n    <tr>\n      <th>8806</th>\n      <td>s8807</td>\n      <td>Movie</td>\n      <td>Zubaan</td>\n      <td>Mozez Singh</td>\n      <td>Vicky Kaushal, Sarah-Jane Dias, Raaghav Chanan...</td>\n      <td>India</td>\n      <td>March 2, 2019</td>\n      <td>2015</td>\n      <td>TV-14</td>\n      <td>111 min</td>\n      <td>Dramas, International Movies, Music &amp; Musicals</td>\n    </tr>\n  </tbody>\n</table>\n<p>8797 rows × 11 columns</p>\n</div>"
     },
     "execution_count": 10,
     "metadata": {},
     "output_type": "execute_result"
    }
   ],
   "source": [
    "# This looks all right\n",
    "df[df['date_added'].apply(lambda x:\",\" in str(x))]"
   ],
   "metadata": {
    "collapsed": false,
    "ExecuteTime": {
     "end_time": "2023-07-22T02:04:06.776329200Z",
     "start_time": "2023-07-22T02:04:06.717217600Z"
    }
   }
  },
  {
   "cell_type": "code",
   "execution_count": 11,
   "outputs": [],
   "source": [
    "# Un nesting columns, although this will populate the data\n",
    "nested_column  = ['director', 'cast', 'country', 'listed_in']\n",
    "for i in nested_column :\n",
    "    df[str(i)]= df[str(i)].str.split(',')\n",
    "    df = df.explode(str(i))\n",
    "    df[str(i)] = df[str(i)].str.strip()"
   ],
   "metadata": {
    "collapsed": false,
    "ExecuteTime": {
     "end_time": "2023-07-22T02:05:23.698665900Z",
     "start_time": "2023-07-22T02:05:23.010452600Z"
    }
   }
  },
  {
   "cell_type": "code",
   "execution_count": 13,
   "outputs": [],
   "source": [
    "df['date_added'] = pd.to_datetime(df['date_added'])\n",
    "df['release_year'] = pd.to_datetime(df['release_year'])"
   ],
   "metadata": {
    "collapsed": false,
    "ExecuteTime": {
     "end_time": "2023-07-22T02:10:31.890193Z",
     "start_time": "2023-07-22T02:10:31.731983600Z"
    }
   }
  },
  {
   "cell_type": "markdown",
   "source": [
    "## Now let's check our new data"
   ],
   "metadata": {
    "collapsed": false
   }
  },
  {
   "cell_type": "code",
   "execution_count": 14,
   "outputs": [
    {
     "data": {
      "text/plain": "  show_id     type                 title         director              cast  \\\n0      s1    Movie  Dick Johnson Is Dead  Kirsten Johnson               NaN   \n1      s2  TV Show         Blood & Water              NaN        Ama Qamata   \n1      s2  TV Show         Blood & Water              NaN        Ama Qamata   \n1      s2  TV Show         Blood & Water              NaN        Ama Qamata   \n1      s2  TV Show         Blood & Water              NaN       Khosi Ngema   \n1      s2  TV Show         Blood & Water              NaN       Khosi Ngema   \n1      s2  TV Show         Blood & Water              NaN       Khosi Ngema   \n1      s2  TV Show         Blood & Water              NaN     Gail Mabalane   \n1      s2  TV Show         Blood & Water              NaN     Gail Mabalane   \n1      s2  TV Show         Blood & Water              NaN     Gail Mabalane   \n1      s2  TV Show         Blood & Water              NaN    Thabang Molaba   \n1      s2  TV Show         Blood & Water              NaN    Thabang Molaba   \n1      s2  TV Show         Blood & Water              NaN    Thabang Molaba   \n1      s2  TV Show         Blood & Water              NaN  Dillon Windvogel   \n1      s2  TV Show         Blood & Water              NaN  Dillon Windvogel   \n1      s2  TV Show         Blood & Water              NaN  Dillon Windvogel   \n1      s2  TV Show         Blood & Water              NaN   Natasha Thahane   \n1      s2  TV Show         Blood & Water              NaN   Natasha Thahane   \n1      s2  TV Show         Blood & Water              NaN   Natasha Thahane   \n1      s2  TV Show         Blood & Water              NaN       Arno Greeff   \n\n         country date_added                  release_year rating   duration  \\\n0  United States 2021-09-25 1970-01-01 00:00:00.000002020  PG-13     90 min   \n1   South Africa 2021-09-24 1970-01-01 00:00:00.000002021  TV-MA  2 Seasons   \n1   South Africa 2021-09-24 1970-01-01 00:00:00.000002021  TV-MA  2 Seasons   \n1   South Africa 2021-09-24 1970-01-01 00:00:00.000002021  TV-MA  2 Seasons   \n1   South Africa 2021-09-24 1970-01-01 00:00:00.000002021  TV-MA  2 Seasons   \n1   South Africa 2021-09-24 1970-01-01 00:00:00.000002021  TV-MA  2 Seasons   \n1   South Africa 2021-09-24 1970-01-01 00:00:00.000002021  TV-MA  2 Seasons   \n1   South Africa 2021-09-24 1970-01-01 00:00:00.000002021  TV-MA  2 Seasons   \n1   South Africa 2021-09-24 1970-01-01 00:00:00.000002021  TV-MA  2 Seasons   \n1   South Africa 2021-09-24 1970-01-01 00:00:00.000002021  TV-MA  2 Seasons   \n1   South Africa 2021-09-24 1970-01-01 00:00:00.000002021  TV-MA  2 Seasons   \n1   South Africa 2021-09-24 1970-01-01 00:00:00.000002021  TV-MA  2 Seasons   \n1   South Africa 2021-09-24 1970-01-01 00:00:00.000002021  TV-MA  2 Seasons   \n1   South Africa 2021-09-24 1970-01-01 00:00:00.000002021  TV-MA  2 Seasons   \n1   South Africa 2021-09-24 1970-01-01 00:00:00.000002021  TV-MA  2 Seasons   \n1   South Africa 2021-09-24 1970-01-01 00:00:00.000002021  TV-MA  2 Seasons   \n1   South Africa 2021-09-24 1970-01-01 00:00:00.000002021  TV-MA  2 Seasons   \n1   South Africa 2021-09-24 1970-01-01 00:00:00.000002021  TV-MA  2 Seasons   \n1   South Africa 2021-09-24 1970-01-01 00:00:00.000002021  TV-MA  2 Seasons   \n1   South Africa 2021-09-24 1970-01-01 00:00:00.000002021  TV-MA  2 Seasons   \n\n                listed_in  \n0           Documentaries  \n1  International TV Shows  \n1               TV Dramas  \n1            TV Mysteries  \n1  International TV Shows  \n1               TV Dramas  \n1            TV Mysteries  \n1  International TV Shows  \n1               TV Dramas  \n1            TV Mysteries  \n1  International TV Shows  \n1               TV Dramas  \n1            TV Mysteries  \n1  International TV Shows  \n1               TV Dramas  \n1            TV Mysteries  \n1  International TV Shows  \n1               TV Dramas  \n1            TV Mysteries  \n1  International TV Shows  ",
      "text/html": "<div>\n<style scoped>\n    .dataframe tbody tr th:only-of-type {\n        vertical-align: middle;\n    }\n\n    .dataframe tbody tr th {\n        vertical-align: top;\n    }\n\n    .dataframe thead th {\n        text-align: right;\n    }\n</style>\n<table border=\"1\" class=\"dataframe\">\n  <thead>\n    <tr style=\"text-align: right;\">\n      <th></th>\n      <th>show_id</th>\n      <th>type</th>\n      <th>title</th>\n      <th>director</th>\n      <th>cast</th>\n      <th>country</th>\n      <th>date_added</th>\n      <th>release_year</th>\n      <th>rating</th>\n      <th>duration</th>\n      <th>listed_in</th>\n    </tr>\n  </thead>\n  <tbody>\n    <tr>\n      <th>0</th>\n      <td>s1</td>\n      <td>Movie</td>\n      <td>Dick Johnson Is Dead</td>\n      <td>Kirsten Johnson</td>\n      <td>NaN</td>\n      <td>United States</td>\n      <td>2021-09-25</td>\n      <td>1970-01-01 00:00:00.000002020</td>\n      <td>PG-13</td>\n      <td>90 min</td>\n      <td>Documentaries</td>\n    </tr>\n    <tr>\n      <th>1</th>\n      <td>s2</td>\n      <td>TV Show</td>\n      <td>Blood &amp; Water</td>\n      <td>NaN</td>\n      <td>Ama Qamata</td>\n      <td>South Africa</td>\n      <td>2021-09-24</td>\n      <td>1970-01-01 00:00:00.000002021</td>\n      <td>TV-MA</td>\n      <td>2 Seasons</td>\n      <td>International TV Shows</td>\n    </tr>\n    <tr>\n      <th>1</th>\n      <td>s2</td>\n      <td>TV Show</td>\n      <td>Blood &amp; Water</td>\n      <td>NaN</td>\n      <td>Ama Qamata</td>\n      <td>South Africa</td>\n      <td>2021-09-24</td>\n      <td>1970-01-01 00:00:00.000002021</td>\n      <td>TV-MA</td>\n      <td>2 Seasons</td>\n      <td>TV Dramas</td>\n    </tr>\n    <tr>\n      <th>1</th>\n      <td>s2</td>\n      <td>TV Show</td>\n      <td>Blood &amp; Water</td>\n      <td>NaN</td>\n      <td>Ama Qamata</td>\n      <td>South Africa</td>\n      <td>2021-09-24</td>\n      <td>1970-01-01 00:00:00.000002021</td>\n      <td>TV-MA</td>\n      <td>2 Seasons</td>\n      <td>TV Mysteries</td>\n    </tr>\n    <tr>\n      <th>1</th>\n      <td>s2</td>\n      <td>TV Show</td>\n      <td>Blood &amp; Water</td>\n      <td>NaN</td>\n      <td>Khosi Ngema</td>\n      <td>South Africa</td>\n      <td>2021-09-24</td>\n      <td>1970-01-01 00:00:00.000002021</td>\n      <td>TV-MA</td>\n      <td>2 Seasons</td>\n      <td>International TV Shows</td>\n    </tr>\n    <tr>\n      <th>1</th>\n      <td>s2</td>\n      <td>TV Show</td>\n      <td>Blood &amp; Water</td>\n      <td>NaN</td>\n      <td>Khosi Ngema</td>\n      <td>South Africa</td>\n      <td>2021-09-24</td>\n      <td>1970-01-01 00:00:00.000002021</td>\n      <td>TV-MA</td>\n      <td>2 Seasons</td>\n      <td>TV Dramas</td>\n    </tr>\n    <tr>\n      <th>1</th>\n      <td>s2</td>\n      <td>TV Show</td>\n      <td>Blood &amp; Water</td>\n      <td>NaN</td>\n      <td>Khosi Ngema</td>\n      <td>South Africa</td>\n      <td>2021-09-24</td>\n      <td>1970-01-01 00:00:00.000002021</td>\n      <td>TV-MA</td>\n      <td>2 Seasons</td>\n      <td>TV Mysteries</td>\n    </tr>\n    <tr>\n      <th>1</th>\n      <td>s2</td>\n      <td>TV Show</td>\n      <td>Blood &amp; Water</td>\n      <td>NaN</td>\n      <td>Gail Mabalane</td>\n      <td>South Africa</td>\n      <td>2021-09-24</td>\n      <td>1970-01-01 00:00:00.000002021</td>\n      <td>TV-MA</td>\n      <td>2 Seasons</td>\n      <td>International TV Shows</td>\n    </tr>\n    <tr>\n      <th>1</th>\n      <td>s2</td>\n      <td>TV Show</td>\n      <td>Blood &amp; Water</td>\n      <td>NaN</td>\n      <td>Gail Mabalane</td>\n      <td>South Africa</td>\n      <td>2021-09-24</td>\n      <td>1970-01-01 00:00:00.000002021</td>\n      <td>TV-MA</td>\n      <td>2 Seasons</td>\n      <td>TV Dramas</td>\n    </tr>\n    <tr>\n      <th>1</th>\n      <td>s2</td>\n      <td>TV Show</td>\n      <td>Blood &amp; Water</td>\n      <td>NaN</td>\n      <td>Gail Mabalane</td>\n      <td>South Africa</td>\n      <td>2021-09-24</td>\n      <td>1970-01-01 00:00:00.000002021</td>\n      <td>TV-MA</td>\n      <td>2 Seasons</td>\n      <td>TV Mysteries</td>\n    </tr>\n    <tr>\n      <th>1</th>\n      <td>s2</td>\n      <td>TV Show</td>\n      <td>Blood &amp; Water</td>\n      <td>NaN</td>\n      <td>Thabang Molaba</td>\n      <td>South Africa</td>\n      <td>2021-09-24</td>\n      <td>1970-01-01 00:00:00.000002021</td>\n      <td>TV-MA</td>\n      <td>2 Seasons</td>\n      <td>International TV Shows</td>\n    </tr>\n    <tr>\n      <th>1</th>\n      <td>s2</td>\n      <td>TV Show</td>\n      <td>Blood &amp; Water</td>\n      <td>NaN</td>\n      <td>Thabang Molaba</td>\n      <td>South Africa</td>\n      <td>2021-09-24</td>\n      <td>1970-01-01 00:00:00.000002021</td>\n      <td>TV-MA</td>\n      <td>2 Seasons</td>\n      <td>TV Dramas</td>\n    </tr>\n    <tr>\n      <th>1</th>\n      <td>s2</td>\n      <td>TV Show</td>\n      <td>Blood &amp; Water</td>\n      <td>NaN</td>\n      <td>Thabang Molaba</td>\n      <td>South Africa</td>\n      <td>2021-09-24</td>\n      <td>1970-01-01 00:00:00.000002021</td>\n      <td>TV-MA</td>\n      <td>2 Seasons</td>\n      <td>TV Mysteries</td>\n    </tr>\n    <tr>\n      <th>1</th>\n      <td>s2</td>\n      <td>TV Show</td>\n      <td>Blood &amp; Water</td>\n      <td>NaN</td>\n      <td>Dillon Windvogel</td>\n      <td>South Africa</td>\n      <td>2021-09-24</td>\n      <td>1970-01-01 00:00:00.000002021</td>\n      <td>TV-MA</td>\n      <td>2 Seasons</td>\n      <td>International TV Shows</td>\n    </tr>\n    <tr>\n      <th>1</th>\n      <td>s2</td>\n      <td>TV Show</td>\n      <td>Blood &amp; Water</td>\n      <td>NaN</td>\n      <td>Dillon Windvogel</td>\n      <td>South Africa</td>\n      <td>2021-09-24</td>\n      <td>1970-01-01 00:00:00.000002021</td>\n      <td>TV-MA</td>\n      <td>2 Seasons</td>\n      <td>TV Dramas</td>\n    </tr>\n    <tr>\n      <th>1</th>\n      <td>s2</td>\n      <td>TV Show</td>\n      <td>Blood &amp; Water</td>\n      <td>NaN</td>\n      <td>Dillon Windvogel</td>\n      <td>South Africa</td>\n      <td>2021-09-24</td>\n      <td>1970-01-01 00:00:00.000002021</td>\n      <td>TV-MA</td>\n      <td>2 Seasons</td>\n      <td>TV Mysteries</td>\n    </tr>\n    <tr>\n      <th>1</th>\n      <td>s2</td>\n      <td>TV Show</td>\n      <td>Blood &amp; Water</td>\n      <td>NaN</td>\n      <td>Natasha Thahane</td>\n      <td>South Africa</td>\n      <td>2021-09-24</td>\n      <td>1970-01-01 00:00:00.000002021</td>\n      <td>TV-MA</td>\n      <td>2 Seasons</td>\n      <td>International TV Shows</td>\n    </tr>\n    <tr>\n      <th>1</th>\n      <td>s2</td>\n      <td>TV Show</td>\n      <td>Blood &amp; Water</td>\n      <td>NaN</td>\n      <td>Natasha Thahane</td>\n      <td>South Africa</td>\n      <td>2021-09-24</td>\n      <td>1970-01-01 00:00:00.000002021</td>\n      <td>TV-MA</td>\n      <td>2 Seasons</td>\n      <td>TV Dramas</td>\n    </tr>\n    <tr>\n      <th>1</th>\n      <td>s2</td>\n      <td>TV Show</td>\n      <td>Blood &amp; Water</td>\n      <td>NaN</td>\n      <td>Natasha Thahane</td>\n      <td>South Africa</td>\n      <td>2021-09-24</td>\n      <td>1970-01-01 00:00:00.000002021</td>\n      <td>TV-MA</td>\n      <td>2 Seasons</td>\n      <td>TV Mysteries</td>\n    </tr>\n    <tr>\n      <th>1</th>\n      <td>s2</td>\n      <td>TV Show</td>\n      <td>Blood &amp; Water</td>\n      <td>NaN</td>\n      <td>Arno Greeff</td>\n      <td>South Africa</td>\n      <td>2021-09-24</td>\n      <td>1970-01-01 00:00:00.000002021</td>\n      <td>TV-MA</td>\n      <td>2 Seasons</td>\n      <td>International TV Shows</td>\n    </tr>\n  </tbody>\n</table>\n</div>"
     },
     "execution_count": 14,
     "metadata": {},
     "output_type": "execute_result"
    }
   ],
   "source": [
    "df.head(20)"
   ],
   "metadata": {
    "collapsed": false,
    "ExecuteTime": {
     "end_time": "2023-07-22T02:10:38.755720900Z",
     "start_time": "2023-07-22T02:10:38.725349700Z"
    }
   }
  },
  {
   "cell_type": "markdown",
   "source": [
    "# EDA"
   ],
   "metadata": {
    "collapsed": false
   }
  },
  {
   "cell_type": "code",
   "execution_count": null,
   "outputs": [],
   "source": [
    "df.info()"
   ],
   "metadata": {
    "collapsed": false
   }
  },
  {
   "cell_type": "code",
   "execution_count": null,
   "outputs": [],
   "source": [],
   "metadata": {
    "collapsed": false
   }
  },
  {
   "cell_type": "code",
   "execution_count": 38,
   "outputs": [
    {
     "data": {
      "text/plain": "  show_id     type                 title         director         cast  \\\n0      s1    Movie  Dick Johnson Is Dead  Kirsten Johnson          NaN   \n1      s2  TV Show         Blood & Water              NaN   Ama Qamata   \n1      s2  TV Show         Blood & Water              NaN   Ama Qamata   \n1      s2  TV Show         Blood & Water              NaN   Ama Qamata   \n1      s2  TV Show         Blood & Water              NaN  Khosi Ngema   \n\n         country          date_added  release_year rating   duration  \\\n0  United States  September 25, 2021          2020  PG-13     90 min   \n1   South Africa  September 24, 2021          2021  TV-MA  2 Seasons   \n1   South Africa  September 24, 2021          2021  TV-MA  2 Seasons   \n1   South Africa  September 24, 2021          2021  TV-MA  2 Seasons   \n1   South Africa  September 24, 2021          2021  TV-MA  2 Seasons   \n\n                listed_in  \n0           Documentaries  \n1  International TV Shows  \n1               TV Dramas  \n1            TV Mysteries  \n1  International TV Shows  ",
      "text/html": "<div>\n<style scoped>\n    .dataframe tbody tr th:only-of-type {\n        vertical-align: middle;\n    }\n\n    .dataframe tbody tr th {\n        vertical-align: top;\n    }\n\n    .dataframe thead th {\n        text-align: right;\n    }\n</style>\n<table border=\"1\" class=\"dataframe\">\n  <thead>\n    <tr style=\"text-align: right;\">\n      <th></th>\n      <th>show_id</th>\n      <th>type</th>\n      <th>title</th>\n      <th>director</th>\n      <th>cast</th>\n      <th>country</th>\n      <th>date_added</th>\n      <th>release_year</th>\n      <th>rating</th>\n      <th>duration</th>\n      <th>listed_in</th>\n    </tr>\n  </thead>\n  <tbody>\n    <tr>\n      <th>0</th>\n      <td>s1</td>\n      <td>Movie</td>\n      <td>Dick Johnson Is Dead</td>\n      <td>Kirsten Johnson</td>\n      <td>NaN</td>\n      <td>United States</td>\n      <td>September 25, 2021</td>\n      <td>2020</td>\n      <td>PG-13</td>\n      <td>90 min</td>\n      <td>Documentaries</td>\n    </tr>\n    <tr>\n      <th>1</th>\n      <td>s2</td>\n      <td>TV Show</td>\n      <td>Blood &amp; Water</td>\n      <td>NaN</td>\n      <td>Ama Qamata</td>\n      <td>South Africa</td>\n      <td>September 24, 2021</td>\n      <td>2021</td>\n      <td>TV-MA</td>\n      <td>2 Seasons</td>\n      <td>International TV Shows</td>\n    </tr>\n    <tr>\n      <th>1</th>\n      <td>s2</td>\n      <td>TV Show</td>\n      <td>Blood &amp; Water</td>\n      <td>NaN</td>\n      <td>Ama Qamata</td>\n      <td>South Africa</td>\n      <td>September 24, 2021</td>\n      <td>2021</td>\n      <td>TV-MA</td>\n      <td>2 Seasons</td>\n      <td>TV Dramas</td>\n    </tr>\n    <tr>\n      <th>1</th>\n      <td>s2</td>\n      <td>TV Show</td>\n      <td>Blood &amp; Water</td>\n      <td>NaN</td>\n      <td>Ama Qamata</td>\n      <td>South Africa</td>\n      <td>September 24, 2021</td>\n      <td>2021</td>\n      <td>TV-MA</td>\n      <td>2 Seasons</td>\n      <td>TV Mysteries</td>\n    </tr>\n    <tr>\n      <th>1</th>\n      <td>s2</td>\n      <td>TV Show</td>\n      <td>Blood &amp; Water</td>\n      <td>NaN</td>\n      <td>Khosi Ngema</td>\n      <td>South Africa</td>\n      <td>September 24, 2021</td>\n      <td>2021</td>\n      <td>TV-MA</td>\n      <td>2 Seasons</td>\n      <td>International TV Shows</td>\n    </tr>\n  </tbody>\n</table>\n</div>"
     },
     "execution_count": 38,
     "metadata": {},
     "output_type": "execute_result"
    }
   ],
   "source": [
    "df.head()"
   ],
   "metadata": {
    "collapsed": false,
    "ExecuteTime": {
     "end_time": "2023-07-22T01:59:30.053681200Z",
     "start_time": "2023-07-22T01:59:30.038844900Z"
    }
   }
  }
 ],
 "metadata": {
  "kernelspec": {
   "display_name": "Python 3",
   "language": "python",
   "name": "python3"
  },
  "language_info": {
   "codemirror_mode": {
    "name": "ipython",
    "version": 2
   },
   "file_extension": ".py",
   "mimetype": "text/x-python",
   "name": "python",
   "nbconvert_exporter": "python",
   "pygments_lexer": "ipython2",
   "version": "2.7.6"
  }
 },
 "nbformat": 4,
 "nbformat_minor": 0
}
