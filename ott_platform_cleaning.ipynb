{
 "cells": [
  {
   "cell_type": "markdown",
   "source": [
    "# Importing Libraries"
   ],
   "metadata": {
    "collapsed": false
   }
  },
  {
   "cell_type": "code",
   "execution_count": 5,
   "metadata": {
    "collapsed": true,
    "ExecuteTime": {
     "end_time": "2023-08-05T02:57:55.873350100Z",
     "start_time": "2023-08-05T02:57:55.831857400Z"
    }
   },
   "outputs": [],
   "source": [
    "import numpy as np\n",
    "import pandas as pd\n",
    "import matplotlib.pyplot as plt\n",
    "import seaborn as sns\n",
    "from statistics import mode\n",
    "import copy\n",
    "import warnings\n",
    "warnings.simplefilter(\"ignore\")"
   ]
  },
  {
   "cell_type": "markdown",
   "source": [
    "# Agenda - Analyze the data and generate insights that could help Netflix ijn deciding which type of shows/movies to produce and how they can grow the business in different countries"
   ],
   "metadata": {
    "collapsed": false
   }
  },
  {
   "cell_type": "code",
   "execution_count": 6,
   "outputs": [],
   "source": [
    "df = pd.read_csv(\"G:\\My Drive\\Portfolio Projects\\Ott Platform Cleaning\\Dataset\\ott_platform.csv\")"
   ],
   "metadata": {
    "collapsed": false,
    "ExecuteTime": {
     "end_time": "2023-08-05T02:57:57.635235200Z",
     "start_time": "2023-08-05T02:57:57.481788800Z"
    }
   }
  },
  {
   "cell_type": "code",
   "execution_count": 8,
   "outputs": [
    {
     "data": {
      "text/plain": "     show_id     type                                              title  \\\n3483   s3484  TV Show                                        El Marginal   \n63       s64    Movie  Naruto the Movie: Ninja Clash in the Land of Snow   \n2555   s2556    Movie                                            Aerials   \n7173   s7174    Movie                                    Kaviyude Osyath   \n2128   s2129    Movie  Beyond the Boundary: ICC Women's T20 World Cup...   \n7613   s7614    Movie                               NOVA: Poisoned Water   \n8205   s8206    Movie                               The Battle of Midway   \n1189   s1190    Movie       Nate Bargatze: The Greatest Average American   \n8617   s8618    Movie                                              Trash   \n6501   s6502    Movie                                        Cloud Atlas   \n5657   s5658    Movie          Garfunkel and Oates: Trying to be Special   \n5426   s5427    Movie                                       Counterpunch   \n1904   s1905    Movie                  Carlos Almaraz: Playing with Fire   \n1707   s1708    Movie                                A Very Special Love   \n5658   s5659  TV Show                                             Sense8   \n6621   s6622    Movie                                       Dolphin Kick   \n854     s855    Movie                       Creating an Army of the Dead   \n4234   s4235    Movie                  Gina Yashere: Laughing to America   \n1713   s1714    Movie                             Memories of a Teenager   \n3132   s3133    Movie                                    Dil Dhadakne Do   \n\n                                         director  \\\n3483                                          NaN   \n63                                 Tensai Okamura   \n2555                                   S.A. Zaidi   \n7173                                 Vineeth Anil   \n2128                                   Anna Stone   \n7613                           Llewellyn M. Smith   \n8205                                    John Ford   \n1189                                  Troy Miller   \n8617                               Stephen Daldry   \n6501  Lilly Wachowski, Lana Wachowski, Tom Tykwer   \n5657                 Riki Lindhome, Jeremy Konner   \n5426                                   Jay Bulger   \n1904       Elsa Flores Almaraz, Richard J Montoya   \n1707                          Cathy Garcia-Molina   \n5658                                          NaN   \n6621                               Philip Marlatt   \n854                                           NaN   \n4234                                Paul M. Green   \n1713                              Lucas Santa Ana   \n3132                                  Zoya Akhtar   \n\n                                                   cast  \\\n3483  Juan Minujín, Martina Gusman, Gerardo Romano, ...   \n63    Junko Takeuchi, Noriaki Sugiyama, Chie Nakamur...   \n2555  Saga Alyasery, Ana Druzhynina, Mansour Al Fele...   \n7173  Prakash Bare, Arun Kumar, Kulappulli Leela, Sa...   \n2128                                                NaN   \n7613                                         Joe Morton   \n8205                          Henry Fonda, Jane Darwell   \n1189                                      Nate Bargatze   \n8617  Wagner Moura, Martin Sheen, Rooney Mara, Selto...   \n6501  Tom Hanks, Halle Berry, Jim Broadbent, Hugo We...   \n5657  Riki Lindhome, Kate Micucci, Anthony Jeselnik,...   \n5426                                                NaN   \n1904               Edward James Olmos, Zach De La Rocha   \n1707  John Lloyd Cruz, Sarah Geronimo, Dante Rivero,...   \n5658  Tuppence Middleton, Brian J. Smith, Doona Bae,...   \n6621  Axle McCoy, Travis McCoy, Tyler Jade Nixon, Al...   \n854                                                 NaN   \n4234                                       Gina Yashere   \n1713  Renato Quattordio, Malena Narvay, Thomás Leper...   \n3132  Anil Kapoor, Priyanka Chopra, Ranveer Singh, A...   \n\n                                           country          date_added  \\\n3483                                     Argentina  September 27, 2019   \n63                                           Japan  September 15, 2021   \n2555                          United Arab Emirates         May 7, 2020   \n7173                                         India        July 1, 2018   \n2128                                           NaN     August 14, 2020   \n7613                                 United States        July 1, 2019   \n8205                                 United States      March 31, 2017   \n1189                                 United States      March 18, 2021   \n8617               United Kingdom, Brazil, Germany     January 1, 2019   \n6501  Germany, United States, Hong Kong, Singapore      August 1, 2017   \n5657                                 United States   December 23, 2016   \n5426                                 United States       June 16, 2017   \n1904                                 United States     October 1, 2020   \n1707                                   Philippines   November 12, 2020   \n5658                                 United States   December 23, 2016   \n6621                                 United States        June 5, 2019   \n854                                            NaN        May 21, 2021   \n4234                                           NaN   December 31, 2018   \n1713                                     Argentina   November 12, 2020   \n3132                                         India   December 15, 2019   \n\n      release_year rating   duration  \\\n3483          2019  TV-MA  3 Seasons   \n63            2004  TV-PG     83 min   \n2555          2016  TV-14     90 min   \n7173          2017  TV-14    116 min   \n2128          2020   TV-G     59 min   \n7613          2017  TV-PG     54 min   \n8205          1942  TV-14     18 min   \n1189          2021   TV-G     60 min   \n8617          2014      R    114 min   \n6501          2012      R    172 min   \n5657          2016  TV-MA     62 min   \n5426          2017  TV-MA     91 min   \n1904          2019  TV-14     83 min   \n1707          2008   TV-G    107 min   \n5658          2018  TV-MA  2 Seasons   \n6621          2019  TV-PG     90 min   \n854           2021  TV-MA     29 min   \n4234          2013  TV-MA     68 min   \n1713          2019  TV-MA     97 min   \n3132          2015  TV-MA    174 min   \n\n                                              listed_in  \\\n3483  Crime TV Shows, International TV Shows, Spanis...   \n63    Action & Adventure, Anime Features, Internatio...   \n2555             International Movies, Sci-Fi & Fantasy   \n7173                       Dramas, International Movies   \n2128  Documentaries, International Movies, Sports Mo...   \n7613                                      Documentaries   \n8205                      Classic Movies, Documentaries   \n1189                                    Stand-Up Comedy   \n8617              Dramas, Independent Movies, Thrillers   \n6501            Action & Adventure, Cult Movies, Dramas   \n5657                  Music & Musicals, Stand-Up Comedy   \n5426                       Documentaries, Sports Movies   \n1904                        Documentaries, LGBTQ Movies   \n1707              International Movies, Romantic Movies   \n5658            Crime TV Shows, TV Dramas, TV Mysteries   \n6621                           Children & Family Movies   \n854                                       Documentaries   \n4234                                    Stand-Up Comedy   \n1713         Dramas, International Movies, LGBTQ Movies   \n3132             Comedies, Dramas, International Movies   \n\n                                            description  \n3483  While investigating a kidnapping, an ex-cop se...  \n63    Naruto, Sasuke and Sakura learn they'll be pro...  \n2555  Dubai residents struggle to figure out why a f...  \n7173  When a late poet leaves behind his property to...  \n2128  With highlights from the 2020 tourney, this pr...  \n7613  This documentary details how the water disaste...  \n8205  Director John Ford captures combat footage of ...  \n1189  Nate Bargatze touches on Zoom comedy shows, lo...  \n8617  Three poor Brazilian teens find something susp...  \n6501  In this star-studded drama, six seemingly disp...  \n5657  Garfunkel and Oates put on a surprise-filled s...  \n5426  As boxing's popularity wanes, three fighters a...  \n1904  Mixing archival footage with interviews, this ...  \n1707  After landing a job working for her longtime c...  \n5658  From the creators of \"The Matrix\" and \"Babylon...  \n6621  After losing his mom, 10-year-old Luke abandon...  \n854   Zack Snyder and his \"Army of the Dead\" team di...  \n4234  British comic Gina Yashere takes the stage in ...  \n1713  To cope with a friend's death, a teen blogs ab...  \n3132  While hosting a shipboard holiday for relative...  ",
      "text/html": "<div>\n<style scoped>\n    .dataframe tbody tr th:only-of-type {\n        vertical-align: middle;\n    }\n\n    .dataframe tbody tr th {\n        vertical-align: top;\n    }\n\n    .dataframe thead th {\n        text-align: right;\n    }\n</style>\n<table border=\"1\" class=\"dataframe\">\n  <thead>\n    <tr style=\"text-align: right;\">\n      <th></th>\n      <th>show_id</th>\n      <th>type</th>\n      <th>title</th>\n      <th>director</th>\n      <th>cast</th>\n      <th>country</th>\n      <th>date_added</th>\n      <th>release_year</th>\n      <th>rating</th>\n      <th>duration</th>\n      <th>listed_in</th>\n      <th>description</th>\n    </tr>\n  </thead>\n  <tbody>\n    <tr>\n      <th>3483</th>\n      <td>s3484</td>\n      <td>TV Show</td>\n      <td>El Marginal</td>\n      <td>NaN</td>\n      <td>Juan Minujín, Martina Gusman, Gerardo Romano, ...</td>\n      <td>Argentina</td>\n      <td>September 27, 2019</td>\n      <td>2019</td>\n      <td>TV-MA</td>\n      <td>3 Seasons</td>\n      <td>Crime TV Shows, International TV Shows, Spanis...</td>\n      <td>While investigating a kidnapping, an ex-cop se...</td>\n    </tr>\n    <tr>\n      <th>63</th>\n      <td>s64</td>\n      <td>Movie</td>\n      <td>Naruto the Movie: Ninja Clash in the Land of Snow</td>\n      <td>Tensai Okamura</td>\n      <td>Junko Takeuchi, Noriaki Sugiyama, Chie Nakamur...</td>\n      <td>Japan</td>\n      <td>September 15, 2021</td>\n      <td>2004</td>\n      <td>TV-PG</td>\n      <td>83 min</td>\n      <td>Action &amp; Adventure, Anime Features, Internatio...</td>\n      <td>Naruto, Sasuke and Sakura learn they'll be pro...</td>\n    </tr>\n    <tr>\n      <th>2555</th>\n      <td>s2556</td>\n      <td>Movie</td>\n      <td>Aerials</td>\n      <td>S.A. Zaidi</td>\n      <td>Saga Alyasery, Ana Druzhynina, Mansour Al Fele...</td>\n      <td>United Arab Emirates</td>\n      <td>May 7, 2020</td>\n      <td>2016</td>\n      <td>TV-14</td>\n      <td>90 min</td>\n      <td>International Movies, Sci-Fi &amp; Fantasy</td>\n      <td>Dubai residents struggle to figure out why a f...</td>\n    </tr>\n    <tr>\n      <th>7173</th>\n      <td>s7174</td>\n      <td>Movie</td>\n      <td>Kaviyude Osyath</td>\n      <td>Vineeth Anil</td>\n      <td>Prakash Bare, Arun Kumar, Kulappulli Leela, Sa...</td>\n      <td>India</td>\n      <td>July 1, 2018</td>\n      <td>2017</td>\n      <td>TV-14</td>\n      <td>116 min</td>\n      <td>Dramas, International Movies</td>\n      <td>When a late poet leaves behind his property to...</td>\n    </tr>\n    <tr>\n      <th>2128</th>\n      <td>s2129</td>\n      <td>Movie</td>\n      <td>Beyond the Boundary: ICC Women's T20 World Cup...</td>\n      <td>Anna Stone</td>\n      <td>NaN</td>\n      <td>NaN</td>\n      <td>August 14, 2020</td>\n      <td>2020</td>\n      <td>TV-G</td>\n      <td>59 min</td>\n      <td>Documentaries, International Movies, Sports Mo...</td>\n      <td>With highlights from the 2020 tourney, this pr...</td>\n    </tr>\n    <tr>\n      <th>7613</th>\n      <td>s7614</td>\n      <td>Movie</td>\n      <td>NOVA: Poisoned Water</td>\n      <td>Llewellyn M. Smith</td>\n      <td>Joe Morton</td>\n      <td>United States</td>\n      <td>July 1, 2019</td>\n      <td>2017</td>\n      <td>TV-PG</td>\n      <td>54 min</td>\n      <td>Documentaries</td>\n      <td>This documentary details how the water disaste...</td>\n    </tr>\n    <tr>\n      <th>8205</th>\n      <td>s8206</td>\n      <td>Movie</td>\n      <td>The Battle of Midway</td>\n      <td>John Ford</td>\n      <td>Henry Fonda, Jane Darwell</td>\n      <td>United States</td>\n      <td>March 31, 2017</td>\n      <td>1942</td>\n      <td>TV-14</td>\n      <td>18 min</td>\n      <td>Classic Movies, Documentaries</td>\n      <td>Director John Ford captures combat footage of ...</td>\n    </tr>\n    <tr>\n      <th>1189</th>\n      <td>s1190</td>\n      <td>Movie</td>\n      <td>Nate Bargatze: The Greatest Average American</td>\n      <td>Troy Miller</td>\n      <td>Nate Bargatze</td>\n      <td>United States</td>\n      <td>March 18, 2021</td>\n      <td>2021</td>\n      <td>TV-G</td>\n      <td>60 min</td>\n      <td>Stand-Up Comedy</td>\n      <td>Nate Bargatze touches on Zoom comedy shows, lo...</td>\n    </tr>\n    <tr>\n      <th>8617</th>\n      <td>s8618</td>\n      <td>Movie</td>\n      <td>Trash</td>\n      <td>Stephen Daldry</td>\n      <td>Wagner Moura, Martin Sheen, Rooney Mara, Selto...</td>\n      <td>United Kingdom, Brazil, Germany</td>\n      <td>January 1, 2019</td>\n      <td>2014</td>\n      <td>R</td>\n      <td>114 min</td>\n      <td>Dramas, Independent Movies, Thrillers</td>\n      <td>Three poor Brazilian teens find something susp...</td>\n    </tr>\n    <tr>\n      <th>6501</th>\n      <td>s6502</td>\n      <td>Movie</td>\n      <td>Cloud Atlas</td>\n      <td>Lilly Wachowski, Lana Wachowski, Tom Tykwer</td>\n      <td>Tom Hanks, Halle Berry, Jim Broadbent, Hugo We...</td>\n      <td>Germany, United States, Hong Kong, Singapore</td>\n      <td>August 1, 2017</td>\n      <td>2012</td>\n      <td>R</td>\n      <td>172 min</td>\n      <td>Action &amp; Adventure, Cult Movies, Dramas</td>\n      <td>In this star-studded drama, six seemingly disp...</td>\n    </tr>\n    <tr>\n      <th>5657</th>\n      <td>s5658</td>\n      <td>Movie</td>\n      <td>Garfunkel and Oates: Trying to be Special</td>\n      <td>Riki Lindhome, Jeremy Konner</td>\n      <td>Riki Lindhome, Kate Micucci, Anthony Jeselnik,...</td>\n      <td>United States</td>\n      <td>December 23, 2016</td>\n      <td>2016</td>\n      <td>TV-MA</td>\n      <td>62 min</td>\n      <td>Music &amp; Musicals, Stand-Up Comedy</td>\n      <td>Garfunkel and Oates put on a surprise-filled s...</td>\n    </tr>\n    <tr>\n      <th>5426</th>\n      <td>s5427</td>\n      <td>Movie</td>\n      <td>Counterpunch</td>\n      <td>Jay Bulger</td>\n      <td>NaN</td>\n      <td>United States</td>\n      <td>June 16, 2017</td>\n      <td>2017</td>\n      <td>TV-MA</td>\n      <td>91 min</td>\n      <td>Documentaries, Sports Movies</td>\n      <td>As boxing's popularity wanes, three fighters a...</td>\n    </tr>\n    <tr>\n      <th>1904</th>\n      <td>s1905</td>\n      <td>Movie</td>\n      <td>Carlos Almaraz: Playing with Fire</td>\n      <td>Elsa Flores Almaraz, Richard J Montoya</td>\n      <td>Edward James Olmos, Zach De La Rocha</td>\n      <td>United States</td>\n      <td>October 1, 2020</td>\n      <td>2019</td>\n      <td>TV-14</td>\n      <td>83 min</td>\n      <td>Documentaries, LGBTQ Movies</td>\n      <td>Mixing archival footage with interviews, this ...</td>\n    </tr>\n    <tr>\n      <th>1707</th>\n      <td>s1708</td>\n      <td>Movie</td>\n      <td>A Very Special Love</td>\n      <td>Cathy Garcia-Molina</td>\n      <td>John Lloyd Cruz, Sarah Geronimo, Dante Rivero,...</td>\n      <td>Philippines</td>\n      <td>November 12, 2020</td>\n      <td>2008</td>\n      <td>TV-G</td>\n      <td>107 min</td>\n      <td>International Movies, Romantic Movies</td>\n      <td>After landing a job working for her longtime c...</td>\n    </tr>\n    <tr>\n      <th>5658</th>\n      <td>s5659</td>\n      <td>TV Show</td>\n      <td>Sense8</td>\n      <td>NaN</td>\n      <td>Tuppence Middleton, Brian J. Smith, Doona Bae,...</td>\n      <td>United States</td>\n      <td>December 23, 2016</td>\n      <td>2018</td>\n      <td>TV-MA</td>\n      <td>2 Seasons</td>\n      <td>Crime TV Shows, TV Dramas, TV Mysteries</td>\n      <td>From the creators of \"The Matrix\" and \"Babylon...</td>\n    </tr>\n    <tr>\n      <th>6621</th>\n      <td>s6622</td>\n      <td>Movie</td>\n      <td>Dolphin Kick</td>\n      <td>Philip Marlatt</td>\n      <td>Axle McCoy, Travis McCoy, Tyler Jade Nixon, Al...</td>\n      <td>United States</td>\n      <td>June 5, 2019</td>\n      <td>2019</td>\n      <td>TV-PG</td>\n      <td>90 min</td>\n      <td>Children &amp; Family Movies</td>\n      <td>After losing his mom, 10-year-old Luke abandon...</td>\n    </tr>\n    <tr>\n      <th>854</th>\n      <td>s855</td>\n      <td>Movie</td>\n      <td>Creating an Army of the Dead</td>\n      <td>NaN</td>\n      <td>NaN</td>\n      <td>NaN</td>\n      <td>May 21, 2021</td>\n      <td>2021</td>\n      <td>TV-MA</td>\n      <td>29 min</td>\n      <td>Documentaries</td>\n      <td>Zack Snyder and his \"Army of the Dead\" team di...</td>\n    </tr>\n    <tr>\n      <th>4234</th>\n      <td>s4235</td>\n      <td>Movie</td>\n      <td>Gina Yashere: Laughing to America</td>\n      <td>Paul M. Green</td>\n      <td>Gina Yashere</td>\n      <td>NaN</td>\n      <td>December 31, 2018</td>\n      <td>2013</td>\n      <td>TV-MA</td>\n      <td>68 min</td>\n      <td>Stand-Up Comedy</td>\n      <td>British comic Gina Yashere takes the stage in ...</td>\n    </tr>\n    <tr>\n      <th>1713</th>\n      <td>s1714</td>\n      <td>Movie</td>\n      <td>Memories of a Teenager</td>\n      <td>Lucas Santa Ana</td>\n      <td>Renato Quattordio, Malena Narvay, Thomás Leper...</td>\n      <td>Argentina</td>\n      <td>November 12, 2020</td>\n      <td>2019</td>\n      <td>TV-MA</td>\n      <td>97 min</td>\n      <td>Dramas, International Movies, LGBTQ Movies</td>\n      <td>To cope with a friend's death, a teen blogs ab...</td>\n    </tr>\n    <tr>\n      <th>3132</th>\n      <td>s3133</td>\n      <td>Movie</td>\n      <td>Dil Dhadakne Do</td>\n      <td>Zoya Akhtar</td>\n      <td>Anil Kapoor, Priyanka Chopra, Ranveer Singh, A...</td>\n      <td>India</td>\n      <td>December 15, 2019</td>\n      <td>2015</td>\n      <td>TV-MA</td>\n      <td>174 min</td>\n      <td>Comedies, Dramas, International Movies</td>\n      <td>While hosting a shipboard holiday for relative...</td>\n    </tr>\n  </tbody>\n</table>\n</div>"
     },
     "execution_count": 8,
     "metadata": {},
     "output_type": "execute_result"
    }
   ],
   "source": [
    "df.sample(20)"
   ],
   "metadata": {
    "collapsed": false,
    "ExecuteTime": {
     "end_time": "2023-08-02T17:16:06.617833700Z",
     "start_time": "2023-08-02T17:16:06.457510100Z"
    }
   }
  },
  {
   "cell_type": "markdown",
   "source": [
    "# Cleaning The Data\n",
    "- Upon Checking the sample, we can see how these files are nested like Director, Cast,Country\n",
    "- We don't really need description column\n",
    "- Release_year column is an object type, need to change it to datetime\n",
    "- Though There are Null Values, there are no duplicates in data"
   ],
   "metadata": {
    "collapsed": false
   }
  },
  {
   "cell_type": "code",
   "execution_count": 9,
   "outputs": [],
   "source": [
    "#Dropping Description Column\n",
    "df.drop(\"description\",axis=1,inplace=True)\n",
    "legacy_df = copy.deepcopy(df)"
   ],
   "metadata": {
    "collapsed": false,
    "ExecuteTime": {
     "end_time": "2023-08-02T17:16:06.632842300Z",
     "start_time": "2023-08-02T17:16:06.474166800Z"
    }
   }
  },
  {
   "cell_type": "code",
   "execution_count": 10,
   "outputs": [
    {
     "name": "stdout",
     "output_type": "stream",
     "text": [
      "<class 'pandas.core.frame.DataFrame'>\n",
      "RangeIndex: 8807 entries, 0 to 8806\n",
      "Data columns (total 11 columns):\n",
      " #   Column        Non-Null Count  Dtype \n",
      "---  ------        --------------  ----- \n",
      " 0   show_id       8807 non-null   object\n",
      " 1   type          8807 non-null   object\n",
      " 2   title         8807 non-null   object\n",
      " 3   director      6173 non-null   object\n",
      " 4   cast          7982 non-null   object\n",
      " 5   country       7976 non-null   object\n",
      " 6   date_added    8797 non-null   object\n",
      " 7   release_year  8807 non-null   int64 \n",
      " 8   rating        8803 non-null   object\n",
      " 9   duration      8804 non-null   object\n",
      " 10  listed_in     8807 non-null   object\n",
      "dtypes: int64(1), object(10)\n",
      "memory usage: 757.0+ KB\n"
     ]
    }
   ],
   "source": [
    "df.info()"
   ],
   "metadata": {
    "collapsed": false,
    "ExecuteTime": {
     "end_time": "2023-08-02T17:16:06.633835900Z",
     "start_time": "2023-08-02T17:16:06.502485600Z"
    }
   }
  },
  {
   "cell_type": "code",
   "execution_count": 11,
   "outputs": [
    {
     "data": {
      "text/plain": "       show_id   type                 title       director  \\\ncount     8807   8807                  8807           6173   \nunique    8807      2                  8807           4528   \ntop         s1  Movie  Dick Johnson Is Dead  Rajiv Chilaka   \nfreq         1   6131                     1             19   \nmean       NaN    NaN                   NaN            NaN   \nstd        NaN    NaN                   NaN            NaN   \nmin        NaN    NaN                   NaN            NaN   \n25%        NaN    NaN                   NaN            NaN   \n50%        NaN    NaN                   NaN            NaN   \n75%        NaN    NaN                   NaN            NaN   \nmax        NaN    NaN                   NaN            NaN   \n\n                      cast        country       date_added  release_year  \\\ncount                 7982           7976             8797   8807.000000   \nunique                7692            748             1767           NaN   \ntop     David Attenborough  United States  January 1, 2020           NaN   \nfreq                    19           2818              109           NaN   \nmean                   NaN            NaN              NaN   2014.180198   \nstd                    NaN            NaN              NaN      8.819312   \nmin                    NaN            NaN              NaN   1925.000000   \n25%                    NaN            NaN              NaN   2013.000000   \n50%                    NaN            NaN              NaN   2017.000000   \n75%                    NaN            NaN              NaN   2019.000000   \nmax                    NaN            NaN              NaN   2021.000000   \n\n       rating  duration                     listed_in  \ncount    8803      8804                          8807  \nunique     17       220                           514  \ntop     TV-MA  1 Season  Dramas, International Movies  \nfreq     3207      1793                           362  \nmean      NaN       NaN                           NaN  \nstd       NaN       NaN                           NaN  \nmin       NaN       NaN                           NaN  \n25%       NaN       NaN                           NaN  \n50%       NaN       NaN                           NaN  \n75%       NaN       NaN                           NaN  \nmax       NaN       NaN                           NaN  ",
      "text/html": "<div>\n<style scoped>\n    .dataframe tbody tr th:only-of-type {\n        vertical-align: middle;\n    }\n\n    .dataframe tbody tr th {\n        vertical-align: top;\n    }\n\n    .dataframe thead th {\n        text-align: right;\n    }\n</style>\n<table border=\"1\" class=\"dataframe\">\n  <thead>\n    <tr style=\"text-align: right;\">\n      <th></th>\n      <th>show_id</th>\n      <th>type</th>\n      <th>title</th>\n      <th>director</th>\n      <th>cast</th>\n      <th>country</th>\n      <th>date_added</th>\n      <th>release_year</th>\n      <th>rating</th>\n      <th>duration</th>\n      <th>listed_in</th>\n    </tr>\n  </thead>\n  <tbody>\n    <tr>\n      <th>count</th>\n      <td>8807</td>\n      <td>8807</td>\n      <td>8807</td>\n      <td>6173</td>\n      <td>7982</td>\n      <td>7976</td>\n      <td>8797</td>\n      <td>8807.000000</td>\n      <td>8803</td>\n      <td>8804</td>\n      <td>8807</td>\n    </tr>\n    <tr>\n      <th>unique</th>\n      <td>8807</td>\n      <td>2</td>\n      <td>8807</td>\n      <td>4528</td>\n      <td>7692</td>\n      <td>748</td>\n      <td>1767</td>\n      <td>NaN</td>\n      <td>17</td>\n      <td>220</td>\n      <td>514</td>\n    </tr>\n    <tr>\n      <th>top</th>\n      <td>s1</td>\n      <td>Movie</td>\n      <td>Dick Johnson Is Dead</td>\n      <td>Rajiv Chilaka</td>\n      <td>David Attenborough</td>\n      <td>United States</td>\n      <td>January 1, 2020</td>\n      <td>NaN</td>\n      <td>TV-MA</td>\n      <td>1 Season</td>\n      <td>Dramas, International Movies</td>\n    </tr>\n    <tr>\n      <th>freq</th>\n      <td>1</td>\n      <td>6131</td>\n      <td>1</td>\n      <td>19</td>\n      <td>19</td>\n      <td>2818</td>\n      <td>109</td>\n      <td>NaN</td>\n      <td>3207</td>\n      <td>1793</td>\n      <td>362</td>\n    </tr>\n    <tr>\n      <th>mean</th>\n      <td>NaN</td>\n      <td>NaN</td>\n      <td>NaN</td>\n      <td>NaN</td>\n      <td>NaN</td>\n      <td>NaN</td>\n      <td>NaN</td>\n      <td>2014.180198</td>\n      <td>NaN</td>\n      <td>NaN</td>\n      <td>NaN</td>\n    </tr>\n    <tr>\n      <th>std</th>\n      <td>NaN</td>\n      <td>NaN</td>\n      <td>NaN</td>\n      <td>NaN</td>\n      <td>NaN</td>\n      <td>NaN</td>\n      <td>NaN</td>\n      <td>8.819312</td>\n      <td>NaN</td>\n      <td>NaN</td>\n      <td>NaN</td>\n    </tr>\n    <tr>\n      <th>min</th>\n      <td>NaN</td>\n      <td>NaN</td>\n      <td>NaN</td>\n      <td>NaN</td>\n      <td>NaN</td>\n      <td>NaN</td>\n      <td>NaN</td>\n      <td>1925.000000</td>\n      <td>NaN</td>\n      <td>NaN</td>\n      <td>NaN</td>\n    </tr>\n    <tr>\n      <th>25%</th>\n      <td>NaN</td>\n      <td>NaN</td>\n      <td>NaN</td>\n      <td>NaN</td>\n      <td>NaN</td>\n      <td>NaN</td>\n      <td>NaN</td>\n      <td>2013.000000</td>\n      <td>NaN</td>\n      <td>NaN</td>\n      <td>NaN</td>\n    </tr>\n    <tr>\n      <th>50%</th>\n      <td>NaN</td>\n      <td>NaN</td>\n      <td>NaN</td>\n      <td>NaN</td>\n      <td>NaN</td>\n      <td>NaN</td>\n      <td>NaN</td>\n      <td>2017.000000</td>\n      <td>NaN</td>\n      <td>NaN</td>\n      <td>NaN</td>\n    </tr>\n    <tr>\n      <th>75%</th>\n      <td>NaN</td>\n      <td>NaN</td>\n      <td>NaN</td>\n      <td>NaN</td>\n      <td>NaN</td>\n      <td>NaN</td>\n      <td>NaN</td>\n      <td>2019.000000</td>\n      <td>NaN</td>\n      <td>NaN</td>\n      <td>NaN</td>\n    </tr>\n    <tr>\n      <th>max</th>\n      <td>NaN</td>\n      <td>NaN</td>\n      <td>NaN</td>\n      <td>NaN</td>\n      <td>NaN</td>\n      <td>NaN</td>\n      <td>NaN</td>\n      <td>2021.000000</td>\n      <td>NaN</td>\n      <td>NaN</td>\n      <td>NaN</td>\n    </tr>\n  </tbody>\n</table>\n</div>"
     },
     "execution_count": 11,
     "metadata": {},
     "output_type": "execute_result"
    }
   ],
   "source": [
    "legacy_summary = df.describe(include='all')\n",
    "legacy_summary"
   ],
   "metadata": {
    "collapsed": false,
    "ExecuteTime": {
     "end_time": "2023-08-02T17:16:06.634836200Z",
     "start_time": "2023-08-02T17:16:06.552325400Z"
    }
   }
  },
  {
   "cell_type": "code",
   "execution_count": 12,
   "outputs": [
    {
     "data": {
      "text/plain": "Empty DataFrame\nColumns: [show_id, type, title, director, cast, country, date_added, release_year, rating, duration, listed_in]\nIndex: []",
      "text/html": "<div>\n<style scoped>\n    .dataframe tbody tr th:only-of-type {\n        vertical-align: middle;\n    }\n\n    .dataframe tbody tr th {\n        vertical-align: top;\n    }\n\n    .dataframe thead th {\n        text-align: right;\n    }\n</style>\n<table border=\"1\" class=\"dataframe\">\n  <thead>\n    <tr style=\"text-align: right;\">\n      <th></th>\n      <th>show_id</th>\n      <th>type</th>\n      <th>title</th>\n      <th>director</th>\n      <th>cast</th>\n      <th>country</th>\n      <th>date_added</th>\n      <th>release_year</th>\n      <th>rating</th>\n      <th>duration</th>\n      <th>listed_in</th>\n    </tr>\n  </thead>\n  <tbody>\n  </tbody>\n</table>\n</div>"
     },
     "execution_count": 12,
     "metadata": {},
     "output_type": "execute_result"
    }
   ],
   "source": [
    "legacy_df[legacy_df.duplicated()]"
   ],
   "metadata": {
    "collapsed": false,
    "ExecuteTime": {
     "end_time": "2023-08-02T17:16:06.658847Z",
     "start_time": "2023-08-02T17:16:06.598834800Z"
    }
   }
  },
  {
   "cell_type": "code",
   "execution_count": 13,
   "outputs": [
    {
     "data": {
      "text/plain": "['title', 'director', 'cast', 'country', 'date_added', 'listed_in']"
     },
     "execution_count": 13,
     "metadata": {},
     "output_type": "execute_result"
    }
   ],
   "source": [
    "# getting nested columns\n",
    "def get_nested_columns(xx):\n",
    "    nested_columns = []\n",
    "    for i in xx:\n",
    "        if df[df[str(i)].apply(lambda x:\",\" in str(x))].shape[0] > 0:\n",
    "            nested_columns.append(i)\n",
    "\n",
    "    return nested_columns\n",
    "get_nested_columns(df.columns)"
   ],
   "metadata": {
    "collapsed": false,
    "ExecuteTime": {
     "end_time": "2023-08-02T17:16:06.736379900Z",
     "start_time": "2023-08-02T17:16:06.630834400Z"
    }
   }
  },
  {
   "cell_type": "code",
   "execution_count": 14,
   "outputs": [
    {
     "data": {
      "text/plain": "     show_id     type                                             title  \\\n10       s11  TV Show               Vendetta: Truth, Lies and The Mafia   \n140     s141    Movie               El patrón, radiografía de un crimen   \n206     s207    Movie                         LSD: Love, Sex Aur Dhokha   \n221     s222    Movie       Bob Ross: Happy Accidents, Betrayal & Greed   \n658     s659  TV Show                                     Nevertheless,   \n...      ...      ...                                               ...   \n8598   s8599    Movie  To Wong Foo, Thanks for Everything! Julie Newmar   \n8628   s8629    Movie                    Trikal (Past, Present, Future)   \n8647   s8648    Movie                       Twisted Trunk, Big Fat Body   \n8707   s8708    Movie                                   We, the Marines   \n8793   s8794    Movie                              Yours, Mine and Ours   \n\n                director                                               cast  \\\n10                   NaN                                                NaN   \n140   Sebastián Schindel  Joaquín Furriel, Luis Ziembrowski, Guillermo P...   \n206     Dibakar Banerjee  Nushrat Bharucha, Anshuman Jha, Neha Chauhan, ...   \n221          Joshua Rofé                                           Bob Ross   \n658                  NaN  Song Kang, Han So-hee, Chae Jong-hyeop, Lee Yu...   \n...                  ...                                                ...   \n8598       Beeban Kidron  Patrick Swayze, Wesley Snipes, John Leguizamo,...   \n8628       Shyam Benegal  Leela Naidu, Neena Gupta, Anita Kanwar, Soni R...   \n8647                 NaN  Vijay Maurya, Naman Jain, Usha Nadkarni, Mukes...   \n8707   Greg MacGillivray                                                NaN   \n8793        Raja Gosnell  Dennis Quaid, Rene Russo, Sean Faris, Katija P...   \n\n                   country          date_added  release_year rating  duration  \\\n10                     NaN  September 24, 2021          2021  TV-MA  1 Season   \n140   Argentina, Venezuela   September 1, 2021          2014  TV-MA   100 min   \n206                  India     August 27, 2021          2010  TV-MA   112 min   \n221                    NaN     August 25, 2021          2021  TV-14    93 min   \n658                    NaN       June 20, 2021          2021  TV-14  1 Season   \n...                    ...                 ...           ...    ...       ...   \n8598         United States      August 1, 2019          1995  PG-13   108 min   \n8628                 India   December 31, 2019          1985  TV-14   134 min   \n8647                 India    January 15, 2017          2015  TV-14    89 min   \n8707         United States        July 1, 2018          2017  TV-PG    38 min   \n8793         United States   November 20, 2019          2005     PG    88 min   \n\n                                              listed_in  \n10    Crime TV Shows, Docuseries, International TV S...  \n140             Dramas, International Movies, Thrillers  \n206    Dramas, Independent Movies, International Movies  \n221                                       Documentaries  \n658   International TV Shows, Romantic TV Shows, TV ...  \n...                                                 ...  \n8598                Comedies, Cult Movies, LGBTQ Movies  \n8628               Comedies, Dramas, Independent Movies  \n8647                       Dramas, International Movies  \n8707                Documentaries, International Movies  \n8793                 Children & Family Movies, Comedies  \n\n[138 rows x 11 columns]",
      "text/html": "<div>\n<style scoped>\n    .dataframe tbody tr th:only-of-type {\n        vertical-align: middle;\n    }\n\n    .dataframe tbody tr th {\n        vertical-align: top;\n    }\n\n    .dataframe thead th {\n        text-align: right;\n    }\n</style>\n<table border=\"1\" class=\"dataframe\">\n  <thead>\n    <tr style=\"text-align: right;\">\n      <th></th>\n      <th>show_id</th>\n      <th>type</th>\n      <th>title</th>\n      <th>director</th>\n      <th>cast</th>\n      <th>country</th>\n      <th>date_added</th>\n      <th>release_year</th>\n      <th>rating</th>\n      <th>duration</th>\n      <th>listed_in</th>\n    </tr>\n  </thead>\n  <tbody>\n    <tr>\n      <th>10</th>\n      <td>s11</td>\n      <td>TV Show</td>\n      <td>Vendetta: Truth, Lies and The Mafia</td>\n      <td>NaN</td>\n      <td>NaN</td>\n      <td>NaN</td>\n      <td>September 24, 2021</td>\n      <td>2021</td>\n      <td>TV-MA</td>\n      <td>1 Season</td>\n      <td>Crime TV Shows, Docuseries, International TV S...</td>\n    </tr>\n    <tr>\n      <th>140</th>\n      <td>s141</td>\n      <td>Movie</td>\n      <td>El patrón, radiografía de un crimen</td>\n      <td>Sebastián Schindel</td>\n      <td>Joaquín Furriel, Luis Ziembrowski, Guillermo P...</td>\n      <td>Argentina, Venezuela</td>\n      <td>September 1, 2021</td>\n      <td>2014</td>\n      <td>TV-MA</td>\n      <td>100 min</td>\n      <td>Dramas, International Movies, Thrillers</td>\n    </tr>\n    <tr>\n      <th>206</th>\n      <td>s207</td>\n      <td>Movie</td>\n      <td>LSD: Love, Sex Aur Dhokha</td>\n      <td>Dibakar Banerjee</td>\n      <td>Nushrat Bharucha, Anshuman Jha, Neha Chauhan, ...</td>\n      <td>India</td>\n      <td>August 27, 2021</td>\n      <td>2010</td>\n      <td>TV-MA</td>\n      <td>112 min</td>\n      <td>Dramas, Independent Movies, International Movies</td>\n    </tr>\n    <tr>\n      <th>221</th>\n      <td>s222</td>\n      <td>Movie</td>\n      <td>Bob Ross: Happy Accidents, Betrayal &amp; Greed</td>\n      <td>Joshua Rofé</td>\n      <td>Bob Ross</td>\n      <td>NaN</td>\n      <td>August 25, 2021</td>\n      <td>2021</td>\n      <td>TV-14</td>\n      <td>93 min</td>\n      <td>Documentaries</td>\n    </tr>\n    <tr>\n      <th>658</th>\n      <td>s659</td>\n      <td>TV Show</td>\n      <td>Nevertheless,</td>\n      <td>NaN</td>\n      <td>Song Kang, Han So-hee, Chae Jong-hyeop, Lee Yu...</td>\n      <td>NaN</td>\n      <td>June 20, 2021</td>\n      <td>2021</td>\n      <td>TV-14</td>\n      <td>1 Season</td>\n      <td>International TV Shows, Romantic TV Shows, TV ...</td>\n    </tr>\n    <tr>\n      <th>...</th>\n      <td>...</td>\n      <td>...</td>\n      <td>...</td>\n      <td>...</td>\n      <td>...</td>\n      <td>...</td>\n      <td>...</td>\n      <td>...</td>\n      <td>...</td>\n      <td>...</td>\n      <td>...</td>\n    </tr>\n    <tr>\n      <th>8598</th>\n      <td>s8599</td>\n      <td>Movie</td>\n      <td>To Wong Foo, Thanks for Everything! Julie Newmar</td>\n      <td>Beeban Kidron</td>\n      <td>Patrick Swayze, Wesley Snipes, John Leguizamo,...</td>\n      <td>United States</td>\n      <td>August 1, 2019</td>\n      <td>1995</td>\n      <td>PG-13</td>\n      <td>108 min</td>\n      <td>Comedies, Cult Movies, LGBTQ Movies</td>\n    </tr>\n    <tr>\n      <th>8628</th>\n      <td>s8629</td>\n      <td>Movie</td>\n      <td>Trikal (Past, Present, Future)</td>\n      <td>Shyam Benegal</td>\n      <td>Leela Naidu, Neena Gupta, Anita Kanwar, Soni R...</td>\n      <td>India</td>\n      <td>December 31, 2019</td>\n      <td>1985</td>\n      <td>TV-14</td>\n      <td>134 min</td>\n      <td>Comedies, Dramas, Independent Movies</td>\n    </tr>\n    <tr>\n      <th>8647</th>\n      <td>s8648</td>\n      <td>Movie</td>\n      <td>Twisted Trunk, Big Fat Body</td>\n      <td>NaN</td>\n      <td>Vijay Maurya, Naman Jain, Usha Nadkarni, Mukes...</td>\n      <td>India</td>\n      <td>January 15, 2017</td>\n      <td>2015</td>\n      <td>TV-14</td>\n      <td>89 min</td>\n      <td>Dramas, International Movies</td>\n    </tr>\n    <tr>\n      <th>8707</th>\n      <td>s8708</td>\n      <td>Movie</td>\n      <td>We, the Marines</td>\n      <td>Greg MacGillivray</td>\n      <td>NaN</td>\n      <td>United States</td>\n      <td>July 1, 2018</td>\n      <td>2017</td>\n      <td>TV-PG</td>\n      <td>38 min</td>\n      <td>Documentaries, International Movies</td>\n    </tr>\n    <tr>\n      <th>8793</th>\n      <td>s8794</td>\n      <td>Movie</td>\n      <td>Yours, Mine and Ours</td>\n      <td>Raja Gosnell</td>\n      <td>Dennis Quaid, Rene Russo, Sean Faris, Katija P...</td>\n      <td>United States</td>\n      <td>November 20, 2019</td>\n      <td>2005</td>\n      <td>PG</td>\n      <td>88 min</td>\n      <td>Children &amp; Family Movies, Comedies</td>\n    </tr>\n  </tbody>\n</table>\n<p>138 rows × 11 columns</p>\n</div>"
     },
     "execution_count": 14,
     "metadata": {},
     "output_type": "execute_result"
    }
   ],
   "source": [
    "# This looks all right\n",
    "df[df['title'].apply(lambda x:\",\" in str(x))]"
   ],
   "metadata": {
    "collapsed": false,
    "ExecuteTime": {
     "end_time": "2023-08-02T17:16:06.862525300Z",
     "start_time": "2023-08-02T17:16:06.678361700Z"
    }
   }
  },
  {
   "cell_type": "code",
   "execution_count": 15,
   "outputs": [
    {
     "data": {
      "text/plain": "     show_id     type                  title         director  \\\n0         s1    Movie   Dick Johnson Is Dead  Kirsten Johnson   \n1         s2  TV Show          Blood & Water              NaN   \n2         s3  TV Show              Ganglands  Julien Leclercq   \n3         s4  TV Show  Jailbirds New Orleans              NaN   \n4         s5  TV Show           Kota Factory              NaN   \n...      ...      ...                    ...              ...   \n8802   s8803    Movie                 Zodiac    David Fincher   \n8803   s8804  TV Show            Zombie Dumb              NaN   \n8804   s8805    Movie             Zombieland  Ruben Fleischer   \n8805   s8806    Movie                   Zoom     Peter Hewitt   \n8806   s8807    Movie                 Zubaan      Mozez Singh   \n\n                                                   cast        country  \\\n0                                                   NaN  United States   \n1     Ama Qamata, Khosi Ngema, Gail Mabalane, Thaban...   South Africa   \n2     Sami Bouajila, Tracy Gotoas, Samuel Jouy, Nabi...            NaN   \n3                                                   NaN            NaN   \n4     Mayur More, Jitendra Kumar, Ranjan Raj, Alam K...          India   \n...                                                 ...            ...   \n8802  Mark Ruffalo, Jake Gyllenhaal, Robert Downey J...  United States   \n8803                                                NaN            NaN   \n8804  Jesse Eisenberg, Woody Harrelson, Emma Stone, ...  United States   \n8805  Tim Allen, Courteney Cox, Chevy Chase, Kate Ma...  United States   \n8806  Vicky Kaushal, Sarah-Jane Dias, Raaghav Chanan...          India   \n\n              date_added  release_year rating   duration  \\\n0     September 25, 2021          2020  PG-13     90 min   \n1     September 24, 2021          2021  TV-MA  2 Seasons   \n2     September 24, 2021          2021  TV-MA   1 Season   \n3     September 24, 2021          2021  TV-MA   1 Season   \n4     September 24, 2021          2021  TV-MA  2 Seasons   \n...                  ...           ...    ...        ...   \n8802   November 20, 2019          2007      R    158 min   \n8803        July 1, 2019          2018  TV-Y7  2 Seasons   \n8804    November 1, 2019          2009      R     88 min   \n8805    January 11, 2020          2006     PG     88 min   \n8806       March 2, 2019          2015  TV-14    111 min   \n\n                                              listed_in  \n0                                         Documentaries  \n1       International TV Shows, TV Dramas, TV Mysteries  \n2     Crime TV Shows, International TV Shows, TV Act...  \n3                                Docuseries, Reality TV  \n4     International TV Shows, Romantic TV Shows, TV ...  \n...                                                 ...  \n8802                     Cult Movies, Dramas, Thrillers  \n8803             Kids' TV, Korean TV Shows, TV Comedies  \n8804                            Comedies, Horror Movies  \n8805                 Children & Family Movies, Comedies  \n8806     Dramas, International Movies, Music & Musicals  \n\n[8797 rows x 11 columns]",
      "text/html": "<div>\n<style scoped>\n    .dataframe tbody tr th:only-of-type {\n        vertical-align: middle;\n    }\n\n    .dataframe tbody tr th {\n        vertical-align: top;\n    }\n\n    .dataframe thead th {\n        text-align: right;\n    }\n</style>\n<table border=\"1\" class=\"dataframe\">\n  <thead>\n    <tr style=\"text-align: right;\">\n      <th></th>\n      <th>show_id</th>\n      <th>type</th>\n      <th>title</th>\n      <th>director</th>\n      <th>cast</th>\n      <th>country</th>\n      <th>date_added</th>\n      <th>release_year</th>\n      <th>rating</th>\n      <th>duration</th>\n      <th>listed_in</th>\n    </tr>\n  </thead>\n  <tbody>\n    <tr>\n      <th>0</th>\n      <td>s1</td>\n      <td>Movie</td>\n      <td>Dick Johnson Is Dead</td>\n      <td>Kirsten Johnson</td>\n      <td>NaN</td>\n      <td>United States</td>\n      <td>September 25, 2021</td>\n      <td>2020</td>\n      <td>PG-13</td>\n      <td>90 min</td>\n      <td>Documentaries</td>\n    </tr>\n    <tr>\n      <th>1</th>\n      <td>s2</td>\n      <td>TV Show</td>\n      <td>Blood &amp; Water</td>\n      <td>NaN</td>\n      <td>Ama Qamata, Khosi Ngema, Gail Mabalane, Thaban...</td>\n      <td>South Africa</td>\n      <td>September 24, 2021</td>\n      <td>2021</td>\n      <td>TV-MA</td>\n      <td>2 Seasons</td>\n      <td>International TV Shows, TV Dramas, TV Mysteries</td>\n    </tr>\n    <tr>\n      <th>2</th>\n      <td>s3</td>\n      <td>TV Show</td>\n      <td>Ganglands</td>\n      <td>Julien Leclercq</td>\n      <td>Sami Bouajila, Tracy Gotoas, Samuel Jouy, Nabi...</td>\n      <td>NaN</td>\n      <td>September 24, 2021</td>\n      <td>2021</td>\n      <td>TV-MA</td>\n      <td>1 Season</td>\n      <td>Crime TV Shows, International TV Shows, TV Act...</td>\n    </tr>\n    <tr>\n      <th>3</th>\n      <td>s4</td>\n      <td>TV Show</td>\n      <td>Jailbirds New Orleans</td>\n      <td>NaN</td>\n      <td>NaN</td>\n      <td>NaN</td>\n      <td>September 24, 2021</td>\n      <td>2021</td>\n      <td>TV-MA</td>\n      <td>1 Season</td>\n      <td>Docuseries, Reality TV</td>\n    </tr>\n    <tr>\n      <th>4</th>\n      <td>s5</td>\n      <td>TV Show</td>\n      <td>Kota Factory</td>\n      <td>NaN</td>\n      <td>Mayur More, Jitendra Kumar, Ranjan Raj, Alam K...</td>\n      <td>India</td>\n      <td>September 24, 2021</td>\n      <td>2021</td>\n      <td>TV-MA</td>\n      <td>2 Seasons</td>\n      <td>International TV Shows, Romantic TV Shows, TV ...</td>\n    </tr>\n    <tr>\n      <th>...</th>\n      <td>...</td>\n      <td>...</td>\n      <td>...</td>\n      <td>...</td>\n      <td>...</td>\n      <td>...</td>\n      <td>...</td>\n      <td>...</td>\n      <td>...</td>\n      <td>...</td>\n      <td>...</td>\n    </tr>\n    <tr>\n      <th>8802</th>\n      <td>s8803</td>\n      <td>Movie</td>\n      <td>Zodiac</td>\n      <td>David Fincher</td>\n      <td>Mark Ruffalo, Jake Gyllenhaal, Robert Downey J...</td>\n      <td>United States</td>\n      <td>November 20, 2019</td>\n      <td>2007</td>\n      <td>R</td>\n      <td>158 min</td>\n      <td>Cult Movies, Dramas, Thrillers</td>\n    </tr>\n    <tr>\n      <th>8803</th>\n      <td>s8804</td>\n      <td>TV Show</td>\n      <td>Zombie Dumb</td>\n      <td>NaN</td>\n      <td>NaN</td>\n      <td>NaN</td>\n      <td>July 1, 2019</td>\n      <td>2018</td>\n      <td>TV-Y7</td>\n      <td>2 Seasons</td>\n      <td>Kids' TV, Korean TV Shows, TV Comedies</td>\n    </tr>\n    <tr>\n      <th>8804</th>\n      <td>s8805</td>\n      <td>Movie</td>\n      <td>Zombieland</td>\n      <td>Ruben Fleischer</td>\n      <td>Jesse Eisenberg, Woody Harrelson, Emma Stone, ...</td>\n      <td>United States</td>\n      <td>November 1, 2019</td>\n      <td>2009</td>\n      <td>R</td>\n      <td>88 min</td>\n      <td>Comedies, Horror Movies</td>\n    </tr>\n    <tr>\n      <th>8805</th>\n      <td>s8806</td>\n      <td>Movie</td>\n      <td>Zoom</td>\n      <td>Peter Hewitt</td>\n      <td>Tim Allen, Courteney Cox, Chevy Chase, Kate Ma...</td>\n      <td>United States</td>\n      <td>January 11, 2020</td>\n      <td>2006</td>\n      <td>PG</td>\n      <td>88 min</td>\n      <td>Children &amp; Family Movies, Comedies</td>\n    </tr>\n    <tr>\n      <th>8806</th>\n      <td>s8807</td>\n      <td>Movie</td>\n      <td>Zubaan</td>\n      <td>Mozez Singh</td>\n      <td>Vicky Kaushal, Sarah-Jane Dias, Raaghav Chanan...</td>\n      <td>India</td>\n      <td>March 2, 2019</td>\n      <td>2015</td>\n      <td>TV-14</td>\n      <td>111 min</td>\n      <td>Dramas, International Movies, Music &amp; Musicals</td>\n    </tr>\n  </tbody>\n</table>\n<p>8797 rows × 11 columns</p>\n</div>"
     },
     "execution_count": 15,
     "metadata": {},
     "output_type": "execute_result"
    }
   ],
   "source": [
    "# This looks all right\n",
    "df[df['date_added'].apply(lambda x:\",\" in str(x))]"
   ],
   "metadata": {
    "collapsed": false,
    "ExecuteTime": {
     "end_time": "2023-08-02T17:16:07.020477300Z",
     "start_time": "2023-08-02T17:16:06.712359700Z"
    }
   }
  },
  {
   "cell_type": "code",
   "execution_count": 16,
   "outputs": [],
   "source": [
    "# Un nesting columns, although this will populate the data\n",
    "nested_column  = ['director', 'cast', 'country', 'listed_in']\n",
    "for i in nested_column :\n",
    "    df[str(i)]= df[str(i)].str.split(',')\n",
    "    df = df.explode(str(i))\n",
    "    df[str(i)] = df[str(i)].str.strip()"
   ],
   "metadata": {
    "collapsed": false,
    "ExecuteTime": {
     "end_time": "2023-08-02T17:16:07.494343200Z",
     "start_time": "2023-08-02T17:16:06.741360500Z"
    }
   }
  },
  {
   "cell_type": "code",
   "execution_count": 17,
   "outputs": [],
   "source": [
    "df['date_added'] = pd.to_datetime(df['date_added'])\n",
    "df['release_year'] = pd.to_datetime(df['release_year'])"
   ],
   "metadata": {
    "collapsed": false,
    "ExecuteTime": {
     "end_time": "2023-08-02T17:16:07.724439300Z",
     "start_time": "2023-08-02T17:16:07.497350900Z"
    }
   }
  },
  {
   "cell_type": "markdown",
   "source": [
    "## Now let's check our new data"
   ],
   "metadata": {
    "collapsed": false
   }
  },
  {
   "cell_type": "code",
   "execution_count": 18,
   "outputs": [
    {
     "data": {
      "text/plain": "  show_id     type                 title         director              cast  \\\n0      s1    Movie  Dick Johnson Is Dead  Kirsten Johnson               NaN   \n1      s2  TV Show         Blood & Water              NaN        Ama Qamata   \n1      s2  TV Show         Blood & Water              NaN        Ama Qamata   \n1      s2  TV Show         Blood & Water              NaN        Ama Qamata   \n1      s2  TV Show         Blood & Water              NaN       Khosi Ngema   \n1      s2  TV Show         Blood & Water              NaN       Khosi Ngema   \n1      s2  TV Show         Blood & Water              NaN       Khosi Ngema   \n1      s2  TV Show         Blood & Water              NaN     Gail Mabalane   \n1      s2  TV Show         Blood & Water              NaN     Gail Mabalane   \n1      s2  TV Show         Blood & Water              NaN     Gail Mabalane   \n1      s2  TV Show         Blood & Water              NaN    Thabang Molaba   \n1      s2  TV Show         Blood & Water              NaN    Thabang Molaba   \n1      s2  TV Show         Blood & Water              NaN    Thabang Molaba   \n1      s2  TV Show         Blood & Water              NaN  Dillon Windvogel   \n1      s2  TV Show         Blood & Water              NaN  Dillon Windvogel   \n1      s2  TV Show         Blood & Water              NaN  Dillon Windvogel   \n1      s2  TV Show         Blood & Water              NaN   Natasha Thahane   \n1      s2  TV Show         Blood & Water              NaN   Natasha Thahane   \n1      s2  TV Show         Blood & Water              NaN   Natasha Thahane   \n1      s2  TV Show         Blood & Water              NaN       Arno Greeff   \n\n         country date_added                  release_year rating   duration  \\\n0  United States 2021-09-25 1970-01-01 00:00:00.000002020  PG-13     90 min   \n1   South Africa 2021-09-24 1970-01-01 00:00:00.000002021  TV-MA  2 Seasons   \n1   South Africa 2021-09-24 1970-01-01 00:00:00.000002021  TV-MA  2 Seasons   \n1   South Africa 2021-09-24 1970-01-01 00:00:00.000002021  TV-MA  2 Seasons   \n1   South Africa 2021-09-24 1970-01-01 00:00:00.000002021  TV-MA  2 Seasons   \n1   South Africa 2021-09-24 1970-01-01 00:00:00.000002021  TV-MA  2 Seasons   \n1   South Africa 2021-09-24 1970-01-01 00:00:00.000002021  TV-MA  2 Seasons   \n1   South Africa 2021-09-24 1970-01-01 00:00:00.000002021  TV-MA  2 Seasons   \n1   South Africa 2021-09-24 1970-01-01 00:00:00.000002021  TV-MA  2 Seasons   \n1   South Africa 2021-09-24 1970-01-01 00:00:00.000002021  TV-MA  2 Seasons   \n1   South Africa 2021-09-24 1970-01-01 00:00:00.000002021  TV-MA  2 Seasons   \n1   South Africa 2021-09-24 1970-01-01 00:00:00.000002021  TV-MA  2 Seasons   \n1   South Africa 2021-09-24 1970-01-01 00:00:00.000002021  TV-MA  2 Seasons   \n1   South Africa 2021-09-24 1970-01-01 00:00:00.000002021  TV-MA  2 Seasons   \n1   South Africa 2021-09-24 1970-01-01 00:00:00.000002021  TV-MA  2 Seasons   \n1   South Africa 2021-09-24 1970-01-01 00:00:00.000002021  TV-MA  2 Seasons   \n1   South Africa 2021-09-24 1970-01-01 00:00:00.000002021  TV-MA  2 Seasons   \n1   South Africa 2021-09-24 1970-01-01 00:00:00.000002021  TV-MA  2 Seasons   \n1   South Africa 2021-09-24 1970-01-01 00:00:00.000002021  TV-MA  2 Seasons   \n1   South Africa 2021-09-24 1970-01-01 00:00:00.000002021  TV-MA  2 Seasons   \n\n                listed_in  \n0           Documentaries  \n1  International TV Shows  \n1               TV Dramas  \n1            TV Mysteries  \n1  International TV Shows  \n1               TV Dramas  \n1            TV Mysteries  \n1  International TV Shows  \n1               TV Dramas  \n1            TV Mysteries  \n1  International TV Shows  \n1               TV Dramas  \n1            TV Mysteries  \n1  International TV Shows  \n1               TV Dramas  \n1            TV Mysteries  \n1  International TV Shows  \n1               TV Dramas  \n1            TV Mysteries  \n1  International TV Shows  ",
      "text/html": "<div>\n<style scoped>\n    .dataframe tbody tr th:only-of-type {\n        vertical-align: middle;\n    }\n\n    .dataframe tbody tr th {\n        vertical-align: top;\n    }\n\n    .dataframe thead th {\n        text-align: right;\n    }\n</style>\n<table border=\"1\" class=\"dataframe\">\n  <thead>\n    <tr style=\"text-align: right;\">\n      <th></th>\n      <th>show_id</th>\n      <th>type</th>\n      <th>title</th>\n      <th>director</th>\n      <th>cast</th>\n      <th>country</th>\n      <th>date_added</th>\n      <th>release_year</th>\n      <th>rating</th>\n      <th>duration</th>\n      <th>listed_in</th>\n    </tr>\n  </thead>\n  <tbody>\n    <tr>\n      <th>0</th>\n      <td>s1</td>\n      <td>Movie</td>\n      <td>Dick Johnson Is Dead</td>\n      <td>Kirsten Johnson</td>\n      <td>NaN</td>\n      <td>United States</td>\n      <td>2021-09-25</td>\n      <td>1970-01-01 00:00:00.000002020</td>\n      <td>PG-13</td>\n      <td>90 min</td>\n      <td>Documentaries</td>\n    </tr>\n    <tr>\n      <th>1</th>\n      <td>s2</td>\n      <td>TV Show</td>\n      <td>Blood &amp; Water</td>\n      <td>NaN</td>\n      <td>Ama Qamata</td>\n      <td>South Africa</td>\n      <td>2021-09-24</td>\n      <td>1970-01-01 00:00:00.000002021</td>\n      <td>TV-MA</td>\n      <td>2 Seasons</td>\n      <td>International TV Shows</td>\n    </tr>\n    <tr>\n      <th>1</th>\n      <td>s2</td>\n      <td>TV Show</td>\n      <td>Blood &amp; Water</td>\n      <td>NaN</td>\n      <td>Ama Qamata</td>\n      <td>South Africa</td>\n      <td>2021-09-24</td>\n      <td>1970-01-01 00:00:00.000002021</td>\n      <td>TV-MA</td>\n      <td>2 Seasons</td>\n      <td>TV Dramas</td>\n    </tr>\n    <tr>\n      <th>1</th>\n      <td>s2</td>\n      <td>TV Show</td>\n      <td>Blood &amp; Water</td>\n      <td>NaN</td>\n      <td>Ama Qamata</td>\n      <td>South Africa</td>\n      <td>2021-09-24</td>\n      <td>1970-01-01 00:00:00.000002021</td>\n      <td>TV-MA</td>\n      <td>2 Seasons</td>\n      <td>TV Mysteries</td>\n    </tr>\n    <tr>\n      <th>1</th>\n      <td>s2</td>\n      <td>TV Show</td>\n      <td>Blood &amp; Water</td>\n      <td>NaN</td>\n      <td>Khosi Ngema</td>\n      <td>South Africa</td>\n      <td>2021-09-24</td>\n      <td>1970-01-01 00:00:00.000002021</td>\n      <td>TV-MA</td>\n      <td>2 Seasons</td>\n      <td>International TV Shows</td>\n    </tr>\n    <tr>\n      <th>1</th>\n      <td>s2</td>\n      <td>TV Show</td>\n      <td>Blood &amp; Water</td>\n      <td>NaN</td>\n      <td>Khosi Ngema</td>\n      <td>South Africa</td>\n      <td>2021-09-24</td>\n      <td>1970-01-01 00:00:00.000002021</td>\n      <td>TV-MA</td>\n      <td>2 Seasons</td>\n      <td>TV Dramas</td>\n    </tr>\n    <tr>\n      <th>1</th>\n      <td>s2</td>\n      <td>TV Show</td>\n      <td>Blood &amp; Water</td>\n      <td>NaN</td>\n      <td>Khosi Ngema</td>\n      <td>South Africa</td>\n      <td>2021-09-24</td>\n      <td>1970-01-01 00:00:00.000002021</td>\n      <td>TV-MA</td>\n      <td>2 Seasons</td>\n      <td>TV Mysteries</td>\n    </tr>\n    <tr>\n      <th>1</th>\n      <td>s2</td>\n      <td>TV Show</td>\n      <td>Blood &amp; Water</td>\n      <td>NaN</td>\n      <td>Gail Mabalane</td>\n      <td>South Africa</td>\n      <td>2021-09-24</td>\n      <td>1970-01-01 00:00:00.000002021</td>\n      <td>TV-MA</td>\n      <td>2 Seasons</td>\n      <td>International TV Shows</td>\n    </tr>\n    <tr>\n      <th>1</th>\n      <td>s2</td>\n      <td>TV Show</td>\n      <td>Blood &amp; Water</td>\n      <td>NaN</td>\n      <td>Gail Mabalane</td>\n      <td>South Africa</td>\n      <td>2021-09-24</td>\n      <td>1970-01-01 00:00:00.000002021</td>\n      <td>TV-MA</td>\n      <td>2 Seasons</td>\n      <td>TV Dramas</td>\n    </tr>\n    <tr>\n      <th>1</th>\n      <td>s2</td>\n      <td>TV Show</td>\n      <td>Blood &amp; Water</td>\n      <td>NaN</td>\n      <td>Gail Mabalane</td>\n      <td>South Africa</td>\n      <td>2021-09-24</td>\n      <td>1970-01-01 00:00:00.000002021</td>\n      <td>TV-MA</td>\n      <td>2 Seasons</td>\n      <td>TV Mysteries</td>\n    </tr>\n    <tr>\n      <th>1</th>\n      <td>s2</td>\n      <td>TV Show</td>\n      <td>Blood &amp; Water</td>\n      <td>NaN</td>\n      <td>Thabang Molaba</td>\n      <td>South Africa</td>\n      <td>2021-09-24</td>\n      <td>1970-01-01 00:00:00.000002021</td>\n      <td>TV-MA</td>\n      <td>2 Seasons</td>\n      <td>International TV Shows</td>\n    </tr>\n    <tr>\n      <th>1</th>\n      <td>s2</td>\n      <td>TV Show</td>\n      <td>Blood &amp; Water</td>\n      <td>NaN</td>\n      <td>Thabang Molaba</td>\n      <td>South Africa</td>\n      <td>2021-09-24</td>\n      <td>1970-01-01 00:00:00.000002021</td>\n      <td>TV-MA</td>\n      <td>2 Seasons</td>\n      <td>TV Dramas</td>\n    </tr>\n    <tr>\n      <th>1</th>\n      <td>s2</td>\n      <td>TV Show</td>\n      <td>Blood &amp; Water</td>\n      <td>NaN</td>\n      <td>Thabang Molaba</td>\n      <td>South Africa</td>\n      <td>2021-09-24</td>\n      <td>1970-01-01 00:00:00.000002021</td>\n      <td>TV-MA</td>\n      <td>2 Seasons</td>\n      <td>TV Mysteries</td>\n    </tr>\n    <tr>\n      <th>1</th>\n      <td>s2</td>\n      <td>TV Show</td>\n      <td>Blood &amp; Water</td>\n      <td>NaN</td>\n      <td>Dillon Windvogel</td>\n      <td>South Africa</td>\n      <td>2021-09-24</td>\n      <td>1970-01-01 00:00:00.000002021</td>\n      <td>TV-MA</td>\n      <td>2 Seasons</td>\n      <td>International TV Shows</td>\n    </tr>\n    <tr>\n      <th>1</th>\n      <td>s2</td>\n      <td>TV Show</td>\n      <td>Blood &amp; Water</td>\n      <td>NaN</td>\n      <td>Dillon Windvogel</td>\n      <td>South Africa</td>\n      <td>2021-09-24</td>\n      <td>1970-01-01 00:00:00.000002021</td>\n      <td>TV-MA</td>\n      <td>2 Seasons</td>\n      <td>TV Dramas</td>\n    </tr>\n    <tr>\n      <th>1</th>\n      <td>s2</td>\n      <td>TV Show</td>\n      <td>Blood &amp; Water</td>\n      <td>NaN</td>\n      <td>Dillon Windvogel</td>\n      <td>South Africa</td>\n      <td>2021-09-24</td>\n      <td>1970-01-01 00:00:00.000002021</td>\n      <td>TV-MA</td>\n      <td>2 Seasons</td>\n      <td>TV Mysteries</td>\n    </tr>\n    <tr>\n      <th>1</th>\n      <td>s2</td>\n      <td>TV Show</td>\n      <td>Blood &amp; Water</td>\n      <td>NaN</td>\n      <td>Natasha Thahane</td>\n      <td>South Africa</td>\n      <td>2021-09-24</td>\n      <td>1970-01-01 00:00:00.000002021</td>\n      <td>TV-MA</td>\n      <td>2 Seasons</td>\n      <td>International TV Shows</td>\n    </tr>\n    <tr>\n      <th>1</th>\n      <td>s2</td>\n      <td>TV Show</td>\n      <td>Blood &amp; Water</td>\n      <td>NaN</td>\n      <td>Natasha Thahane</td>\n      <td>South Africa</td>\n      <td>2021-09-24</td>\n      <td>1970-01-01 00:00:00.000002021</td>\n      <td>TV-MA</td>\n      <td>2 Seasons</td>\n      <td>TV Dramas</td>\n    </tr>\n    <tr>\n      <th>1</th>\n      <td>s2</td>\n      <td>TV Show</td>\n      <td>Blood &amp; Water</td>\n      <td>NaN</td>\n      <td>Natasha Thahane</td>\n      <td>South Africa</td>\n      <td>2021-09-24</td>\n      <td>1970-01-01 00:00:00.000002021</td>\n      <td>TV-MA</td>\n      <td>2 Seasons</td>\n      <td>TV Mysteries</td>\n    </tr>\n    <tr>\n      <th>1</th>\n      <td>s2</td>\n      <td>TV Show</td>\n      <td>Blood &amp; Water</td>\n      <td>NaN</td>\n      <td>Arno Greeff</td>\n      <td>South Africa</td>\n      <td>2021-09-24</td>\n      <td>1970-01-01 00:00:00.000002021</td>\n      <td>TV-MA</td>\n      <td>2 Seasons</td>\n      <td>International TV Shows</td>\n    </tr>\n  </tbody>\n</table>\n</div>"
     },
     "execution_count": 18,
     "metadata": {},
     "output_type": "execute_result"
    }
   ],
   "source": [
    "df.head(20)"
   ],
   "metadata": {
    "collapsed": false,
    "ExecuteTime": {
     "end_time": "2023-08-02T17:16:07.764961900Z",
     "start_time": "2023-08-02T17:16:07.719440400Z"
    }
   }
  },
  {
   "cell_type": "markdown",
   "source": [
    "# EDA\n",
    "- Removing Duplicates\n",
    "- Handling Null Values"
   ],
   "metadata": {
    "collapsed": false
   }
  },
  {
   "cell_type": "markdown",
   "source": [
    "## Removing Duplicate Values"
   ],
   "metadata": {
    "collapsed": false
   }
  },
  {
   "cell_type": "code",
   "execution_count": 19,
   "outputs": [],
   "source": [
    "df.drop_duplicates(inplace=True)"
   ],
   "metadata": {
    "collapsed": false,
    "ExecuteTime": {
     "end_time": "2023-08-02T17:16:08.030999800Z",
     "start_time": "2023-08-02T17:16:07.750445100Z"
    }
   }
  },
  {
   "cell_type": "markdown",
   "source": [
    "## Basic Information"
   ],
   "metadata": {
    "collapsed": false
   }
  },
  {
   "cell_type": "code",
   "execution_count": 20,
   "outputs": [
    {
     "name": "stdout",
     "output_type": "stream",
     "text": [
      "<class 'pandas.core.frame.DataFrame'>\n",
      "Int64Index: 202010 entries, 0 to 8806\n",
      "Data columns (total 11 columns):\n",
      " #   Column        Non-Null Count   Dtype         \n",
      "---  ------        --------------   -----         \n",
      " 0   show_id       202010 non-null  object        \n",
      " 1   type          202010 non-null  object        \n",
      " 2   title         202010 non-null  object        \n",
      " 3   director      151367 non-null  object        \n",
      " 4   cast          199861 non-null  object        \n",
      " 5   country       190113 non-null  object        \n",
      " 6   date_added    201852 non-null  datetime64[ns]\n",
      " 7   release_year  202010 non-null  datetime64[ns]\n",
      " 8   rating        201943 non-null  object        \n",
      " 9   duration      202007 non-null  object        \n",
      " 10  listed_in     202010 non-null  object        \n",
      "dtypes: datetime64[ns](2), object(9)\n",
      "memory usage: 18.5+ MB\n"
     ]
    }
   ],
   "source": [
    "df.info()"
   ],
   "metadata": {
    "collapsed": false,
    "ExecuteTime": {
     "end_time": "2023-08-02T17:16:08.212285200Z",
     "start_time": "2023-08-02T17:16:08.021007Z"
    }
   }
  },
  {
   "cell_type": "code",
   "execution_count": 21,
   "outputs": [
    {
     "data": {
      "text/plain": "       show_id    type                        title         director  \\\ncount   202010  202010                       202010           151367   \nunique    8807       2                         8807             4993   \ntop      s7165   Movie  Kahlil Gibran's The Prophet  Martin Scorsese   \nfreq       700  145862                          700              419   \nfirst      NaN     NaN                          NaN              NaN   \nlast       NaN     NaN                          NaN              NaN   \n\n               cast        country           date_added  \\\ncount        199861         190113               201852   \nunique        36439            123                 1714   \ntop     Liam Neeson  United States  2020-01-01 00:00:00   \nfreq            161          59325                 3748   \nfirst           NaN            NaN  2008-01-01 00:00:00   \nlast            NaN            NaN  2021-09-25 00:00:00   \n\n                         release_year  rating  duration listed_in  \ncount                          202010  201943    202007    202010  \nunique                             74      17       220        42  \ntop     1970-01-01 00:00:00.000002018   TV-MA  1 Season    Dramas  \nfreq                            24440   73867     35035     29787  \nfirst   1970-01-01 00:00:00.000001925     NaN       NaN       NaN  \nlast    1970-01-01 00:00:00.000002021     NaN       NaN       NaN  ",
      "text/html": "<div>\n<style scoped>\n    .dataframe tbody tr th:only-of-type {\n        vertical-align: middle;\n    }\n\n    .dataframe tbody tr th {\n        vertical-align: top;\n    }\n\n    .dataframe thead th {\n        text-align: right;\n    }\n</style>\n<table border=\"1\" class=\"dataframe\">\n  <thead>\n    <tr style=\"text-align: right;\">\n      <th></th>\n      <th>show_id</th>\n      <th>type</th>\n      <th>title</th>\n      <th>director</th>\n      <th>cast</th>\n      <th>country</th>\n      <th>date_added</th>\n      <th>release_year</th>\n      <th>rating</th>\n      <th>duration</th>\n      <th>listed_in</th>\n    </tr>\n  </thead>\n  <tbody>\n    <tr>\n      <th>count</th>\n      <td>202010</td>\n      <td>202010</td>\n      <td>202010</td>\n      <td>151367</td>\n      <td>199861</td>\n      <td>190113</td>\n      <td>201852</td>\n      <td>202010</td>\n      <td>201943</td>\n      <td>202007</td>\n      <td>202010</td>\n    </tr>\n    <tr>\n      <th>unique</th>\n      <td>8807</td>\n      <td>2</td>\n      <td>8807</td>\n      <td>4993</td>\n      <td>36439</td>\n      <td>123</td>\n      <td>1714</td>\n      <td>74</td>\n      <td>17</td>\n      <td>220</td>\n      <td>42</td>\n    </tr>\n    <tr>\n      <th>top</th>\n      <td>s7165</td>\n      <td>Movie</td>\n      <td>Kahlil Gibran's The Prophet</td>\n      <td>Martin Scorsese</td>\n      <td>Liam Neeson</td>\n      <td>United States</td>\n      <td>2020-01-01 00:00:00</td>\n      <td>1970-01-01 00:00:00.000002018</td>\n      <td>TV-MA</td>\n      <td>1 Season</td>\n      <td>Dramas</td>\n    </tr>\n    <tr>\n      <th>freq</th>\n      <td>700</td>\n      <td>145862</td>\n      <td>700</td>\n      <td>419</td>\n      <td>161</td>\n      <td>59325</td>\n      <td>3748</td>\n      <td>24440</td>\n      <td>73867</td>\n      <td>35035</td>\n      <td>29787</td>\n    </tr>\n    <tr>\n      <th>first</th>\n      <td>NaN</td>\n      <td>NaN</td>\n      <td>NaN</td>\n      <td>NaN</td>\n      <td>NaN</td>\n      <td>NaN</td>\n      <td>2008-01-01 00:00:00</td>\n      <td>1970-01-01 00:00:00.000001925</td>\n      <td>NaN</td>\n      <td>NaN</td>\n      <td>NaN</td>\n    </tr>\n    <tr>\n      <th>last</th>\n      <td>NaN</td>\n      <td>NaN</td>\n      <td>NaN</td>\n      <td>NaN</td>\n      <td>NaN</td>\n      <td>NaN</td>\n      <td>2021-09-25 00:00:00</td>\n      <td>1970-01-01 00:00:00.000002021</td>\n      <td>NaN</td>\n      <td>NaN</td>\n      <td>NaN</td>\n    </tr>\n  </tbody>\n</table>\n</div>"
     },
     "execution_count": 21,
     "metadata": {},
     "output_type": "execute_result"
    }
   ],
   "source": [
    "df.describe()"
   ],
   "metadata": {
    "collapsed": false,
    "ExecuteTime": {
     "end_time": "2023-08-02T17:16:08.467405100Z",
     "start_time": "2023-08-02T17:16:08.210289200Z"
    }
   }
  },
  {
   "cell_type": "code",
   "execution_count": 22,
   "outputs": [],
   "source": [
    "df['type'] = df['type'].astype('category')\n",
    "df['rating'] = df['rating'].astype('category')\n",
    "df['listed_in'] = df['listed_in'].astype('category')"
   ],
   "metadata": {
    "collapsed": false,
    "ExecuteTime": {
     "end_time": "2023-08-02T17:16:08.699597900Z",
     "start_time": "2023-08-02T17:16:08.445316200Z"
    }
   }
  },
  {
   "cell_type": "markdown",
   "source": [
    "## Handling Missing Values"
   ],
   "metadata": {
    "collapsed": false
   }
  },
  {
   "cell_type": "code",
   "execution_count": 23,
   "outputs": [
    {
     "data": {
      "text/plain": "show_id          0.000000\ntype             0.000000\ntitle            0.000000\ndirector        25.069551\ncast             1.063809\ncountry          5.889312\ndate_added       0.078214\nrelease_year     0.000000\nrating           0.033167\nduration         0.001485\nlisted_in        0.000000\ndtype: float64"
     },
     "execution_count": 23,
     "metadata": {},
     "output_type": "execute_result"
    }
   ],
   "source": [
    "df.isna().sum()/df.shape[0] *100"
   ],
   "metadata": {
    "collapsed": false,
    "ExecuteTime": {
     "end_time": "2023-08-02T17:16:08.776633Z",
     "start_time": "2023-08-02T17:16:08.587505100Z"
    }
   }
  },
  {
   "cell_type": "code",
   "execution_count": 24,
   "outputs": [
    {
     "data": {
      "text/plain": "     show_id     type               title director                cast  \\\n1         s2  TV Show       Blood & Water      NaN          Ama Qamata   \n1         s2  TV Show       Blood & Water      NaN          Ama Qamata   \n1         s2  TV Show       Blood & Water      NaN          Ama Qamata   \n1         s2  TV Show       Blood & Water      NaN         Khosi Ngema   \n1         s2  TV Show       Blood & Water      NaN         Khosi Ngema   \n...      ...      ...                 ...      ...                 ...   \n8800   s8801  TV Show  Zindagi Gulzar Hai      NaN  Hina Khawaja Bayat   \n8800   s8801  TV Show  Zindagi Gulzar Hai      NaN  Hina Khawaja Bayat   \n8803   s8804  TV Show         Zombie Dumb      NaN                 NaN   \n8803   s8804  TV Show         Zombie Dumb      NaN                 NaN   \n8803   s8804  TV Show         Zombie Dumb      NaN                 NaN   \n\n           country date_added                  release_year rating   duration  \\\n1     South Africa 2021-09-24 1970-01-01 00:00:00.000002021  TV-MA  2 Seasons   \n1     South Africa 2021-09-24 1970-01-01 00:00:00.000002021  TV-MA  2 Seasons   \n1     South Africa 2021-09-24 1970-01-01 00:00:00.000002021  TV-MA  2 Seasons   \n1     South Africa 2021-09-24 1970-01-01 00:00:00.000002021  TV-MA  2 Seasons   \n1     South Africa 2021-09-24 1970-01-01 00:00:00.000002021  TV-MA  2 Seasons   \n...            ...        ...                           ...    ...        ...   \n8800      Pakistan 2016-12-15 1970-01-01 00:00:00.000002012  TV-PG   1 Season   \n8800      Pakistan 2016-12-15 1970-01-01 00:00:00.000002012  TV-PG   1 Season   \n8803           NaN 2019-07-01 1970-01-01 00:00:00.000002018  TV-Y7  2 Seasons   \n8803           NaN 2019-07-01 1970-01-01 00:00:00.000002018  TV-Y7  2 Seasons   \n8803           NaN 2019-07-01 1970-01-01 00:00:00.000002018  TV-Y7  2 Seasons   \n\n                   listed_in  \n1     International TV Shows  \n1                  TV Dramas  \n1               TV Mysteries  \n1     International TV Shows  \n1                  TV Dramas  \n...                      ...  \n8800       Romantic TV Shows  \n8800               TV Dramas  \n8803                Kids' TV  \n8803         Korean TV Shows  \n8803             TV Comedies  \n\n[50643 rows x 11 columns]",
      "text/html": "<div>\n<style scoped>\n    .dataframe tbody tr th:only-of-type {\n        vertical-align: middle;\n    }\n\n    .dataframe tbody tr th {\n        vertical-align: top;\n    }\n\n    .dataframe thead th {\n        text-align: right;\n    }\n</style>\n<table border=\"1\" class=\"dataframe\">\n  <thead>\n    <tr style=\"text-align: right;\">\n      <th></th>\n      <th>show_id</th>\n      <th>type</th>\n      <th>title</th>\n      <th>director</th>\n      <th>cast</th>\n      <th>country</th>\n      <th>date_added</th>\n      <th>release_year</th>\n      <th>rating</th>\n      <th>duration</th>\n      <th>listed_in</th>\n    </tr>\n  </thead>\n  <tbody>\n    <tr>\n      <th>1</th>\n      <td>s2</td>\n      <td>TV Show</td>\n      <td>Blood &amp; Water</td>\n      <td>NaN</td>\n      <td>Ama Qamata</td>\n      <td>South Africa</td>\n      <td>2021-09-24</td>\n      <td>1970-01-01 00:00:00.000002021</td>\n      <td>TV-MA</td>\n      <td>2 Seasons</td>\n      <td>International TV Shows</td>\n    </tr>\n    <tr>\n      <th>1</th>\n      <td>s2</td>\n      <td>TV Show</td>\n      <td>Blood &amp; Water</td>\n      <td>NaN</td>\n      <td>Ama Qamata</td>\n      <td>South Africa</td>\n      <td>2021-09-24</td>\n      <td>1970-01-01 00:00:00.000002021</td>\n      <td>TV-MA</td>\n      <td>2 Seasons</td>\n      <td>TV Dramas</td>\n    </tr>\n    <tr>\n      <th>1</th>\n      <td>s2</td>\n      <td>TV Show</td>\n      <td>Blood &amp; Water</td>\n      <td>NaN</td>\n      <td>Ama Qamata</td>\n      <td>South Africa</td>\n      <td>2021-09-24</td>\n      <td>1970-01-01 00:00:00.000002021</td>\n      <td>TV-MA</td>\n      <td>2 Seasons</td>\n      <td>TV Mysteries</td>\n    </tr>\n    <tr>\n      <th>1</th>\n      <td>s2</td>\n      <td>TV Show</td>\n      <td>Blood &amp; Water</td>\n      <td>NaN</td>\n      <td>Khosi Ngema</td>\n      <td>South Africa</td>\n      <td>2021-09-24</td>\n      <td>1970-01-01 00:00:00.000002021</td>\n      <td>TV-MA</td>\n      <td>2 Seasons</td>\n      <td>International TV Shows</td>\n    </tr>\n    <tr>\n      <th>1</th>\n      <td>s2</td>\n      <td>TV Show</td>\n      <td>Blood &amp; Water</td>\n      <td>NaN</td>\n      <td>Khosi Ngema</td>\n      <td>South Africa</td>\n      <td>2021-09-24</td>\n      <td>1970-01-01 00:00:00.000002021</td>\n      <td>TV-MA</td>\n      <td>2 Seasons</td>\n      <td>TV Dramas</td>\n    </tr>\n    <tr>\n      <th>...</th>\n      <td>...</td>\n      <td>...</td>\n      <td>...</td>\n      <td>...</td>\n      <td>...</td>\n      <td>...</td>\n      <td>...</td>\n      <td>...</td>\n      <td>...</td>\n      <td>...</td>\n      <td>...</td>\n    </tr>\n    <tr>\n      <th>8800</th>\n      <td>s8801</td>\n      <td>TV Show</td>\n      <td>Zindagi Gulzar Hai</td>\n      <td>NaN</td>\n      <td>Hina Khawaja Bayat</td>\n      <td>Pakistan</td>\n      <td>2016-12-15</td>\n      <td>1970-01-01 00:00:00.000002012</td>\n      <td>TV-PG</td>\n      <td>1 Season</td>\n      <td>Romantic TV Shows</td>\n    </tr>\n    <tr>\n      <th>8800</th>\n      <td>s8801</td>\n      <td>TV Show</td>\n      <td>Zindagi Gulzar Hai</td>\n      <td>NaN</td>\n      <td>Hina Khawaja Bayat</td>\n      <td>Pakistan</td>\n      <td>2016-12-15</td>\n      <td>1970-01-01 00:00:00.000002012</td>\n      <td>TV-PG</td>\n      <td>1 Season</td>\n      <td>TV Dramas</td>\n    </tr>\n    <tr>\n      <th>8803</th>\n      <td>s8804</td>\n      <td>TV Show</td>\n      <td>Zombie Dumb</td>\n      <td>NaN</td>\n      <td>NaN</td>\n      <td>NaN</td>\n      <td>2019-07-01</td>\n      <td>1970-01-01 00:00:00.000002018</td>\n      <td>TV-Y7</td>\n      <td>2 Seasons</td>\n      <td>Kids' TV</td>\n    </tr>\n    <tr>\n      <th>8803</th>\n      <td>s8804</td>\n      <td>TV Show</td>\n      <td>Zombie Dumb</td>\n      <td>NaN</td>\n      <td>NaN</td>\n      <td>NaN</td>\n      <td>2019-07-01</td>\n      <td>1970-01-01 00:00:00.000002018</td>\n      <td>TV-Y7</td>\n      <td>2 Seasons</td>\n      <td>Korean TV Shows</td>\n    </tr>\n    <tr>\n      <th>8803</th>\n      <td>s8804</td>\n      <td>TV Show</td>\n      <td>Zombie Dumb</td>\n      <td>NaN</td>\n      <td>NaN</td>\n      <td>NaN</td>\n      <td>2019-07-01</td>\n      <td>1970-01-01 00:00:00.000002018</td>\n      <td>TV-Y7</td>\n      <td>2 Seasons</td>\n      <td>TV Comedies</td>\n    </tr>\n  </tbody>\n</table>\n<p>50643 rows × 11 columns</p>\n</div>"
     },
     "execution_count": 24,
     "metadata": {},
     "output_type": "execute_result"
    }
   ],
   "source": [
    "df[df['director'].isnull()]"
   ],
   "metadata": {
    "collapsed": false,
    "ExecuteTime": {
     "end_time": "2023-08-02T17:16:08.780634500Z",
     "start_time": "2023-08-02T17:16:08.728788900Z"
    }
   }
  },
  {
   "cell_type": "code",
   "execution_count": 32,
   "outputs": [
    {
     "data": {
      "text/plain": "type     rating  \nMovie    66 min               Louis C.K.\n         74 min               Louis C.K.\n         84 min               Louis C.K.\n         G                  Robert Vince\n         NC-17       Abdellatif Kechiche\n         NR               Lars von Trier\n         PG                 Raja Gosnell\n         PG-13             Peter Jackson\n         R                    Tom Hooper\n         TV-14               Umesh Mehra\n         TV-G         Sooraj R. Barjatya\n         TV-MA           Youssef Chahine\n         TV-PG                Rob LaDuca\n         TV-Y                Ishi Rudell\n         TV-Y7             Rajiv Chilaka\n         TV-Y7-FV            Mario Cambi\n         UR              Sylvie Verheyde\nTV Show  66 min                      NaN\n         74 min                      NaN\n         84 min                      NaN\n         G                           NaN\n         NC-17                       NaN\n         NR                         None\n         PG                          NaN\n         PG-13                       NaN\n         R             Quentin Tarantino\n         TV-14           Rob Seidenglanz\n         TV-G               Kenny Ortega\n         TV-MA                 Alan Poul\n         TV-PG                Noam Murro\n         TV-Y             Guy Vasilovich\n         TV-Y7             Thomas Astruc\n         TV-Y7-FV                   None\n         UR                          NaN\nName: director, dtype: object"
     },
     "execution_count": 32,
     "metadata": {},
     "output_type": "execute_result"
    }
   ],
   "source": [
    "def get_mode(series):\n",
    "    if len(series.mode()) > 0:\n",
    "        return series.mode().iat[0]\n",
    "    else:\n",
    "        return None \n",
    "\n",
    "director_ref = df.groupby(['type', 'rating'])['director'].agg(get_mode)\n",
    "director_ref"
   ],
   "metadata": {
    "collapsed": false,
    "ExecuteTime": {
     "end_time": "2023-08-02T17:18:04.170393800Z",
     "start_time": "2023-08-02T17:18:04.107393700Z"
    }
   }
  },
  {
   "cell_type": "code",
   "execution_count": 31,
   "outputs": [
    {
     "data": {
      "text/plain": "{('Movie', '66 min'): 'Louis C.K.',\n ('Movie', '74 min'): 'Louis C.K.',\n ('Movie', '84 min'): 'Louis C.K.',\n ('Movie', 'G'): 'Robert Vince',\n ('Movie', 'NC-17'): 'Abdellatif Kechiche',\n ('Movie', 'NR'): 'Lars von Trier',\n ('Movie', 'PG'): 'Raja Gosnell',\n ('Movie', 'PG-13'): 'Peter Jackson',\n ('Movie', 'R'): 'Tom Hooper',\n ('Movie', 'TV-14'): 'Umesh Mehra',\n ('Movie', 'TV-G'): 'Sooraj R. Barjatya',\n ('Movie', 'TV-MA'): 'Youssef Chahine',\n ('Movie', 'TV-PG'): 'Rob LaDuca',\n ('Movie', 'TV-Y'): 'Ishi Rudell',\n ('Movie', 'TV-Y7'): 'Rajiv Chilaka',\n ('Movie', 'TV-Y7-FV'): 'Mario Cambi',\n ('Movie', 'UR'): 'Sylvie Verheyde',\n ('TV Show', '66 min'): nan,\n ('TV Show', '74 min'): nan,\n ('TV Show', '84 min'): nan,\n ('TV Show', 'G'): nan,\n ('TV Show', 'NC-17'): nan,\n ('TV Show', 'NR'): None,\n ('TV Show', 'PG'): nan,\n ('TV Show', 'PG-13'): nan,\n ('TV Show', 'R'): 'Quentin Tarantino',\n ('TV Show', 'TV-14'): 'Rob Seidenglanz',\n ('TV Show', 'TV-G'): 'Kenny Ortega',\n ('TV Show', 'TV-MA'): 'Alan Poul',\n ('TV Show', 'TV-PG'): 'Noam Murro',\n ('TV Show', 'TV-Y'): 'Guy Vasilovich',\n ('TV Show', 'TV-Y7'): 'Thomas Astruc',\n ('TV Show', 'TV-Y7-FV'): None,\n ('TV Show', 'UR'): nan}"
     },
     "execution_count": 31,
     "metadata": {},
     "output_type": "execute_result"
    }
   ],
   "source": [
    "director_ref_dict=director_ref.to_dict()\n",
    "director_ref_dict"
   ],
   "metadata": {
    "collapsed": false,
    "ExecuteTime": {
     "end_time": "2023-08-02T17:17:48.664674900Z",
     "start_time": "2023-08-02T17:17:48.616889100Z"
    }
   }
  }
 ],
 "metadata": {
  "kernelspec": {
   "display_name": "Python 3",
   "language": "python",
   "name": "python3"
  },
  "language_info": {
   "codemirror_mode": {
    "name": "ipython",
    "version": 2
   },
   "file_extension": ".py",
   "mimetype": "text/x-python",
   "name": "python",
   "nbconvert_exporter": "python",
   "pygments_lexer": "ipython2",
   "version": "2.7.6"
  }
 },
 "nbformat": 4,
 "nbformat_minor": 0
}
