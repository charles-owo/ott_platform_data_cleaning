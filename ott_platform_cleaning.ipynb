{
 "cells": [
  {
   "cell_type": "markdown",
   "source": [
    "# Importing Libraries"
   ],
   "metadata": {
    "collapsed": false
   }
  },
  {
   "cell_type": "code",
   "execution_count": 1,
   "metadata": {
    "collapsed": true,
    "ExecuteTime": {
     "end_time": "2023-07-22T00:26:39.534710500Z",
     "start_time": "2023-07-22T00:26:39.519708400Z"
    }
   },
   "outputs": [],
   "source": [
    "import numpy as np\n",
    "import pandas as pd\n",
    "import matplotlib.pyplot as plt\n",
    "import seaborn as sns"
   ]
  },
  {
   "cell_type": "markdown",
   "source": [
    "# Agenda - Analyze the data and generate insights that could help Netflix ijn deciding which type of shows/movies to produce and how they can grow the business in different countries"
   ],
   "metadata": {
    "collapsed": false
   }
  },
  {
   "cell_type": "code",
   "execution_count": 2,
   "outputs": [],
   "source": [
    "df = pd.read_csv(\"G:\\My Drive\\Portfolio Projects\\Ott Platform Cleaning\\Dataset\\ott_platform.csv\")"
   ],
   "metadata": {
    "collapsed": false,
    "ExecuteTime": {
     "end_time": "2023-07-22T00:26:39.612008600Z",
     "start_time": "2023-07-22T00:26:39.536708800Z"
    }
   }
  },
  {
   "cell_type": "code",
   "execution_count": 6,
   "outputs": [
    {
     "data": {
      "text/plain": "     show_id     type                                             title  \\\n3047   s3048  TV Show                                    Anne with an E   \n3285   s3286    Movie      Fadily Camara : La plus drôle de tes copines   \n6596   s6597    Movie                                  Detention Letter   \n2411   s2412    Movie                                     Before I Fall   \n5945   s5946    Movie                       In Defense of a Married Man   \n1976   s1977    Movie                            The Royal Bengal Tiger   \n7979   s7980    Movie                            Secrets of Westminster   \n2668   s2669    Movie                                   Earth and Blood   \n8187   s8188    Movie                            The American President   \n3425   s3426    Movie                                       Street Flow   \n2575   s2576  TV Show                                        WWII in HD   \n4544   s4545    Movie  Monty Python Live (Mostly): One Down, Five to Go   \n1587   s1588  TV Show                                         Detention   \n5297   s5298  TV Show                    FINAL FANTASY XIV Dad of Light   \n6105   s6106  TV Show                          Ainsley Eats the Streets   \n5566   s5567  TV Show                                 Julie's Greenroom   \n5433   s5434  TV Show                                          28 Moons   \n4906   s4907  TV Show                       Bobby Kennedy for President   \n4445   s4446    Movie                                       Kai Po Che!   \n7547   s7548  TV Show                               My Tattoo Addiction   \n\n                                  director  \\\n3047                                   NaN   \n3285                       Gautier & Leduc   \n6596                          Mohamed Samy   \n2411                        Ry Russo-Young   \n5945                         Joel Oliansky   \n1976                        Rajesh Ganguly   \n7979                         Louise Wardle   \n2668                       Julien Leclercq   \n8187                            Rob Reiner   \n3425                  Leïla Sy, Kery James   \n2575                                   NaN   \n4544                             Eric Idle   \n1587  Su I-Hsuan, Chuang Shiang-an, Liu Yi   \n5297                                   NaN   \n6105                                   NaN   \n5566                                   NaN   \n5433                                   NaN   \n4906                           Dawn Porter   \n4445                       Abhishek Kapoor   \n7547                                   NaN   \n\n                                                   cast  \\\n3047  Amybeth McNulty, Geraldine James, R.H. Thomson...   \n3285                                      Fadily Camara   \n6596  Mohamed Ramadan, Dina El-Sherbiny, Eyad Nassar...   \n2411  Zoey Deutch, Halston Sage, Erica Tremblay, Log...   \n5945  Judith Light, Michael Ontkean, Jerry Orbach, P...   \n1976  Jeet, Abir Chatterjee, Priyanka Sarkar, Shradh...   \n7979                                        Samuel West   \n2668  Sami Bouajila, Eriq Ebouaney, Samy Seghir, Sof...   \n8187  Michael Douglas, Annette Bening, Martin Sheen,...   \n3425  Kery James, Jammeh Diangana, Chloé Jouannet, B...   \n2575  Gary Sinise, Rob Lowe, Josh Lucas, Justin Bart...   \n4544  John Cleese, Terry Gilliam, Eric Idle, Terry J...   \n1587  Li Lingwei, Han Ning, Huang Guanzhi, Jack Yao,...   \n5297  Yudai Chiba, Ren Osugi, Fumika Baba, Yoshihiko...   \n6105                                   Ainsley Harriott   \n5566  Julie Andrews, Giullian Yao Gioiello, Jennifer...   \n5433  Jin-sung Yang, Kyu-jong Kim, Tae-hwan Kang, Ge...   \n4906                                  Robert F. Kennedy   \n4445  Rajkummar Rao, Amit Sadh, Sushant Singh Rajput...   \n7547                                     Julian Barratt   \n\n                            country          date_added  release_year rating  \\\n3047                         Canada     January 3, 2020          2019  TV-PG   \n3285                         France   November 14, 2019          2019  TV-MA   \n6596                          Egypt      August 5, 2019          2017  TV-14   \n2411                  United States        June 8, 2020          2017  PG-13   \n5945                  United States     October 1, 2011          1990  TV-14   \n1976                          India  September 19, 2020          2014  TV-MA   \n7979  United States, United Kingdom      April 22, 2017          2014  TV-PG   \n2668                France, Belgium      April 17, 2020          2020  TV-MA   \n8187                  United States     January 1, 2021          1995  PG-13   \n3425                         France    October 13, 2019          2019  TV-MA   \n2575                  United States         May 2, 2020          2009  TV-14   \n4544                 United Kingdom     October 2, 2018          2014  TV-MA   \n1587                         Taiwan    December 5, 2020          2020  TV-MA   \n5297                          Japan   September 1, 2017          2017  TV-PG   \n6105                 United Kingdom       July 12, 2019          2014  TV-PG   \n5566                  United States      March 17, 2017          2017   TV-Y   \n5433                    South Korea       June 10, 2017          2016  TV-PG   \n4906                            NaN      April 27, 2018          2018  TV-MA   \n4445                          India    November 1, 2018          2013  TV-MA   \n7547                 United Kingdom    February 1, 2019          2013  TV-MA   \n\n       duration                                          listed_in  \\\n3047  3 Seasons   International TV Shows, TV Dramas, Teen TV Shows   \n3285     54 min                                    Stand-Up Comedy   \n6596     99 min           Action & Adventure, International Movies   \n2411     98 min                            Dramas, Romantic Movies   \n5945     94 min                                             Dramas   \n1976    103 min            Dramas, International Movies, Thrillers   \n7979     55 min                Documentaries, International Movies   \n2668     81 min            Dramas, International Movies, Thrillers   \n8187    113 min                  Comedies, Dramas, Romantic Movies   \n3425     96 min                       Dramas, International Movies   \n2575   1 Season                                         Docuseries   \n4544    137 min                                           Comedies   \n1587   1 Season       International TV Shows, TV Dramas, TV Horror   \n5297   1 Season                  International TV Shows, TV Dramas   \n6105   1 Season  British TV Shows, Docuseries, International TV...   \n5566   1 Season                                           Kids' TV   \n5433   1 Season  International TV Shows, Korean TV Shows, Roman...   \n4906   1 Season                                         Docuseries   \n4445    120 min        Dramas, International Movies, Sports Movies   \n7547   1 Season                       British TV Shows, Docuseries   \n\n                                            description  \n3047  A plucky orphan whose passions run deep finds ...  \n3285  Irrepressible French comedian Fadily Camara we...  \n6596  A man begins to regret his choices when his br...  \n2411  Forced to continually relive the day she dies ...  \n5945  A lawyer's husband is having an affair. When h...  \n1976  Knocked down by life one too many times, a mee...  \n7979  Take an insider's tour of Parliament, Big Ben ...  \n2668  A sawmill owner and his teenage daughter becom...  \n8187  The widowed president strikes up a romance wit...  \n3425  Three brothers – a gangster, a scholar and an ...  \n2575  Rare color footage interwoven with firsthand i...  \n4544  Live from London in a sold-out final show, sur...  \n1587  A tormented student uncovers unsettling secret...  \n5297  A father and son rekindle their bond through t...  \n6105  Celebrity chef Ainsley Harriott embarks on a j...  \n5566  Adorable puppets stage their own musical under...  \n5433  When her fiancé acts strangely upon receiving ...  \n4906  Historic footage and leading voices of the era...  \n4445  This Bollywood drama tells the story of three ...  \n7547  Ink junkies dig skin deep and share personal s...  ",
      "text/html": "<div>\n<style scoped>\n    .dataframe tbody tr th:only-of-type {\n        vertical-align: middle;\n    }\n\n    .dataframe tbody tr th {\n        vertical-align: top;\n    }\n\n    .dataframe thead th {\n        text-align: right;\n    }\n</style>\n<table border=\"1\" class=\"dataframe\">\n  <thead>\n    <tr style=\"text-align: right;\">\n      <th></th>\n      <th>show_id</th>\n      <th>type</th>\n      <th>title</th>\n      <th>director</th>\n      <th>cast</th>\n      <th>country</th>\n      <th>date_added</th>\n      <th>release_year</th>\n      <th>rating</th>\n      <th>duration</th>\n      <th>listed_in</th>\n      <th>description</th>\n    </tr>\n  </thead>\n  <tbody>\n    <tr>\n      <th>3047</th>\n      <td>s3048</td>\n      <td>TV Show</td>\n      <td>Anne with an E</td>\n      <td>NaN</td>\n      <td>Amybeth McNulty, Geraldine James, R.H. Thomson...</td>\n      <td>Canada</td>\n      <td>January 3, 2020</td>\n      <td>2019</td>\n      <td>TV-PG</td>\n      <td>3 Seasons</td>\n      <td>International TV Shows, TV Dramas, Teen TV Shows</td>\n      <td>A plucky orphan whose passions run deep finds ...</td>\n    </tr>\n    <tr>\n      <th>3285</th>\n      <td>s3286</td>\n      <td>Movie</td>\n      <td>Fadily Camara : La plus drôle de tes copines</td>\n      <td>Gautier &amp; Leduc</td>\n      <td>Fadily Camara</td>\n      <td>France</td>\n      <td>November 14, 2019</td>\n      <td>2019</td>\n      <td>TV-MA</td>\n      <td>54 min</td>\n      <td>Stand-Up Comedy</td>\n      <td>Irrepressible French comedian Fadily Camara we...</td>\n    </tr>\n    <tr>\n      <th>6596</th>\n      <td>s6597</td>\n      <td>Movie</td>\n      <td>Detention Letter</td>\n      <td>Mohamed Samy</td>\n      <td>Mohamed Ramadan, Dina El-Sherbiny, Eyad Nassar...</td>\n      <td>Egypt</td>\n      <td>August 5, 2019</td>\n      <td>2017</td>\n      <td>TV-14</td>\n      <td>99 min</td>\n      <td>Action &amp; Adventure, International Movies</td>\n      <td>A man begins to regret his choices when his br...</td>\n    </tr>\n    <tr>\n      <th>2411</th>\n      <td>s2412</td>\n      <td>Movie</td>\n      <td>Before I Fall</td>\n      <td>Ry Russo-Young</td>\n      <td>Zoey Deutch, Halston Sage, Erica Tremblay, Log...</td>\n      <td>United States</td>\n      <td>June 8, 2020</td>\n      <td>2017</td>\n      <td>PG-13</td>\n      <td>98 min</td>\n      <td>Dramas, Romantic Movies</td>\n      <td>Forced to continually relive the day she dies ...</td>\n    </tr>\n    <tr>\n      <th>5945</th>\n      <td>s5946</td>\n      <td>Movie</td>\n      <td>In Defense of a Married Man</td>\n      <td>Joel Oliansky</td>\n      <td>Judith Light, Michael Ontkean, Jerry Orbach, P...</td>\n      <td>United States</td>\n      <td>October 1, 2011</td>\n      <td>1990</td>\n      <td>TV-14</td>\n      <td>94 min</td>\n      <td>Dramas</td>\n      <td>A lawyer's husband is having an affair. When h...</td>\n    </tr>\n    <tr>\n      <th>1976</th>\n      <td>s1977</td>\n      <td>Movie</td>\n      <td>The Royal Bengal Tiger</td>\n      <td>Rajesh Ganguly</td>\n      <td>Jeet, Abir Chatterjee, Priyanka Sarkar, Shradh...</td>\n      <td>India</td>\n      <td>September 19, 2020</td>\n      <td>2014</td>\n      <td>TV-MA</td>\n      <td>103 min</td>\n      <td>Dramas, International Movies, Thrillers</td>\n      <td>Knocked down by life one too many times, a mee...</td>\n    </tr>\n    <tr>\n      <th>7979</th>\n      <td>s7980</td>\n      <td>Movie</td>\n      <td>Secrets of Westminster</td>\n      <td>Louise Wardle</td>\n      <td>Samuel West</td>\n      <td>United States, United Kingdom</td>\n      <td>April 22, 2017</td>\n      <td>2014</td>\n      <td>TV-PG</td>\n      <td>55 min</td>\n      <td>Documentaries, International Movies</td>\n      <td>Take an insider's tour of Parliament, Big Ben ...</td>\n    </tr>\n    <tr>\n      <th>2668</th>\n      <td>s2669</td>\n      <td>Movie</td>\n      <td>Earth and Blood</td>\n      <td>Julien Leclercq</td>\n      <td>Sami Bouajila, Eriq Ebouaney, Samy Seghir, Sof...</td>\n      <td>France, Belgium</td>\n      <td>April 17, 2020</td>\n      <td>2020</td>\n      <td>TV-MA</td>\n      <td>81 min</td>\n      <td>Dramas, International Movies, Thrillers</td>\n      <td>A sawmill owner and his teenage daughter becom...</td>\n    </tr>\n    <tr>\n      <th>8187</th>\n      <td>s8188</td>\n      <td>Movie</td>\n      <td>The American President</td>\n      <td>Rob Reiner</td>\n      <td>Michael Douglas, Annette Bening, Martin Sheen,...</td>\n      <td>United States</td>\n      <td>January 1, 2021</td>\n      <td>1995</td>\n      <td>PG-13</td>\n      <td>113 min</td>\n      <td>Comedies, Dramas, Romantic Movies</td>\n      <td>The widowed president strikes up a romance wit...</td>\n    </tr>\n    <tr>\n      <th>3425</th>\n      <td>s3426</td>\n      <td>Movie</td>\n      <td>Street Flow</td>\n      <td>Leïla Sy, Kery James</td>\n      <td>Kery James, Jammeh Diangana, Chloé Jouannet, B...</td>\n      <td>France</td>\n      <td>October 13, 2019</td>\n      <td>2019</td>\n      <td>TV-MA</td>\n      <td>96 min</td>\n      <td>Dramas, International Movies</td>\n      <td>Three brothers – a gangster, a scholar and an ...</td>\n    </tr>\n    <tr>\n      <th>2575</th>\n      <td>s2576</td>\n      <td>TV Show</td>\n      <td>WWII in HD</td>\n      <td>NaN</td>\n      <td>Gary Sinise, Rob Lowe, Josh Lucas, Justin Bart...</td>\n      <td>United States</td>\n      <td>May 2, 2020</td>\n      <td>2009</td>\n      <td>TV-14</td>\n      <td>1 Season</td>\n      <td>Docuseries</td>\n      <td>Rare color footage interwoven with firsthand i...</td>\n    </tr>\n    <tr>\n      <th>4544</th>\n      <td>s4545</td>\n      <td>Movie</td>\n      <td>Monty Python Live (Mostly): One Down, Five to Go</td>\n      <td>Eric Idle</td>\n      <td>John Cleese, Terry Gilliam, Eric Idle, Terry J...</td>\n      <td>United Kingdom</td>\n      <td>October 2, 2018</td>\n      <td>2014</td>\n      <td>TV-MA</td>\n      <td>137 min</td>\n      <td>Comedies</td>\n      <td>Live from London in a sold-out final show, sur...</td>\n    </tr>\n    <tr>\n      <th>1587</th>\n      <td>s1588</td>\n      <td>TV Show</td>\n      <td>Detention</td>\n      <td>Su I-Hsuan, Chuang Shiang-an, Liu Yi</td>\n      <td>Li Lingwei, Han Ning, Huang Guanzhi, Jack Yao,...</td>\n      <td>Taiwan</td>\n      <td>December 5, 2020</td>\n      <td>2020</td>\n      <td>TV-MA</td>\n      <td>1 Season</td>\n      <td>International TV Shows, TV Dramas, TV Horror</td>\n      <td>A tormented student uncovers unsettling secret...</td>\n    </tr>\n    <tr>\n      <th>5297</th>\n      <td>s5298</td>\n      <td>TV Show</td>\n      <td>FINAL FANTASY XIV Dad of Light</td>\n      <td>NaN</td>\n      <td>Yudai Chiba, Ren Osugi, Fumika Baba, Yoshihiko...</td>\n      <td>Japan</td>\n      <td>September 1, 2017</td>\n      <td>2017</td>\n      <td>TV-PG</td>\n      <td>1 Season</td>\n      <td>International TV Shows, TV Dramas</td>\n      <td>A father and son rekindle their bond through t...</td>\n    </tr>\n    <tr>\n      <th>6105</th>\n      <td>s6106</td>\n      <td>TV Show</td>\n      <td>Ainsley Eats the Streets</td>\n      <td>NaN</td>\n      <td>Ainsley Harriott</td>\n      <td>United Kingdom</td>\n      <td>July 12, 2019</td>\n      <td>2014</td>\n      <td>TV-PG</td>\n      <td>1 Season</td>\n      <td>British TV Shows, Docuseries, International TV...</td>\n      <td>Celebrity chef Ainsley Harriott embarks on a j...</td>\n    </tr>\n    <tr>\n      <th>5566</th>\n      <td>s5567</td>\n      <td>TV Show</td>\n      <td>Julie's Greenroom</td>\n      <td>NaN</td>\n      <td>Julie Andrews, Giullian Yao Gioiello, Jennifer...</td>\n      <td>United States</td>\n      <td>March 17, 2017</td>\n      <td>2017</td>\n      <td>TV-Y</td>\n      <td>1 Season</td>\n      <td>Kids' TV</td>\n      <td>Adorable puppets stage their own musical under...</td>\n    </tr>\n    <tr>\n      <th>5433</th>\n      <td>s5434</td>\n      <td>TV Show</td>\n      <td>28 Moons</td>\n      <td>NaN</td>\n      <td>Jin-sung Yang, Kyu-jong Kim, Tae-hwan Kang, Ge...</td>\n      <td>South Korea</td>\n      <td>June 10, 2017</td>\n      <td>2016</td>\n      <td>TV-PG</td>\n      <td>1 Season</td>\n      <td>International TV Shows, Korean TV Shows, Roman...</td>\n      <td>When her fiancé acts strangely upon receiving ...</td>\n    </tr>\n    <tr>\n      <th>4906</th>\n      <td>s4907</td>\n      <td>TV Show</td>\n      <td>Bobby Kennedy for President</td>\n      <td>Dawn Porter</td>\n      <td>Robert F. Kennedy</td>\n      <td>NaN</td>\n      <td>April 27, 2018</td>\n      <td>2018</td>\n      <td>TV-MA</td>\n      <td>1 Season</td>\n      <td>Docuseries</td>\n      <td>Historic footage and leading voices of the era...</td>\n    </tr>\n    <tr>\n      <th>4445</th>\n      <td>s4446</td>\n      <td>Movie</td>\n      <td>Kai Po Che!</td>\n      <td>Abhishek Kapoor</td>\n      <td>Rajkummar Rao, Amit Sadh, Sushant Singh Rajput...</td>\n      <td>India</td>\n      <td>November 1, 2018</td>\n      <td>2013</td>\n      <td>TV-MA</td>\n      <td>120 min</td>\n      <td>Dramas, International Movies, Sports Movies</td>\n      <td>This Bollywood drama tells the story of three ...</td>\n    </tr>\n    <tr>\n      <th>7547</th>\n      <td>s7548</td>\n      <td>TV Show</td>\n      <td>My Tattoo Addiction</td>\n      <td>NaN</td>\n      <td>Julian Barratt</td>\n      <td>United Kingdom</td>\n      <td>February 1, 2019</td>\n      <td>2013</td>\n      <td>TV-MA</td>\n      <td>1 Season</td>\n      <td>British TV Shows, Docuseries</td>\n      <td>Ink junkies dig skin deep and share personal s...</td>\n    </tr>\n  </tbody>\n</table>\n</div>"
     },
     "execution_count": 6,
     "metadata": {},
     "output_type": "execute_result"
    }
   ],
   "source": [
    "df.sample(20)"
   ],
   "metadata": {
    "collapsed": false,
    "ExecuteTime": {
     "end_time": "2023-07-22T00:23:44.983378Z",
     "start_time": "2023-07-22T00:23:44.961436700Z"
    }
   }
  },
  {
   "cell_type": "code",
   "execution_count": null,
   "outputs": [],
   "source": [],
   "metadata": {
    "collapsed": false
   }
  },
  {
   "cell_type": "code",
   "execution_count": null,
   "outputs": [],
   "source": [],
   "metadata": {
    "collapsed": false
   }
  },
  {
   "cell_type": "code",
   "execution_count": null,
   "outputs": [],
   "source": [],
   "metadata": {
    "collapsed": false
   }
  },
  {
   "cell_type": "code",
   "execution_count": null,
   "outputs": [],
   "source": [],
   "metadata": {
    "collapsed": false
   }
  },
  {
   "cell_type": "code",
   "execution_count": null,
   "outputs": [],
   "source": [],
   "metadata": {
    "collapsed": false
   }
  },
  {
   "cell_type": "code",
   "execution_count": null,
   "outputs": [],
   "source": [],
   "metadata": {
    "collapsed": false
   }
  },
  {
   "cell_type": "code",
   "execution_count": null,
   "outputs": [],
   "source": [],
   "metadata": {
    "collapsed": false
   }
  }
 ],
 "metadata": {
  "kernelspec": {
   "display_name": "Python 3",
   "language": "python",
   "name": "python3"
  },
  "language_info": {
   "codemirror_mode": {
    "name": "ipython",
    "version": 2
   },
   "file_extension": ".py",
   "mimetype": "text/x-python",
   "name": "python",
   "nbconvert_exporter": "python",
   "pygments_lexer": "ipython2",
   "version": "2.7.6"
  }
 },
 "nbformat": 4,
 "nbformat_minor": 0
}
